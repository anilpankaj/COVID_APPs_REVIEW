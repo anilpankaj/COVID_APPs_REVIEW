{
  "cells": [
    {
      "cell_type": "markdown",
      "metadata": {
        "id": "view-in-github",
        "colab_type": "text"
      },
      "source": [
        "<a href=\"https://colab.research.google.com/github/anilpankaj/ISE_PROJECT_COVID_APP_REVIEW/blob/master/Covid_Review.ipynb\" target=\"_parent\"><img src=\"https://colab.research.google.com/assets/colab-badge.svg\" alt=\"Open In Colab\"/></a>"
      ]
    },
    {
      "cell_type": "markdown",
      "metadata": {
        "id": "_yP9H8pi7rsu"
      },
      "source": [
        "Library Needed"
      ]
    },
    {
      "cell_type": "code",
      "execution_count": null,
      "metadata": {
        "id": "7TCMtxFw6Arv"
      },
      "outputs": [],
      "source": [
        "# Library needed\n",
        "# google-play-scraper\n",
        "# pandas\n",
        "# numpy"
      ]
    },
    {
      "cell_type": "code",
      "execution_count": null,
      "metadata": {
        "colab": {
          "base_uri": "https://localhost:8080/"
        },
        "id": "MYTDro3Q6cXJ",
        "outputId": "877435ff-5359-49ac-d7ae-dc450083841a"
      },
      "outputs": [
        {
          "name": "stdout",
          "output_type": "stream",
          "text": [
            "Collecting google-play-scraper\n",
            "  Downloading google-play-scraper-1.0.3.tar.gz (52 kB)\n",
            "\u001b[?25l\r\u001b[K     |██████▏                         | 10 kB 14.1 MB/s eta 0:00:01\r\u001b[K     |████████████▍                   | 20 kB 15.5 MB/s eta 0:00:01\r\u001b[K     |██████████████████▋             | 30 kB 18.5 MB/s eta 0:00:01\r\u001b[K     |████████████████████████▉       | 40 kB 17.9 MB/s eta 0:00:01\r\u001b[K     |███████████████████████████████ | 51 kB 11.0 MB/s eta 0:00:01\r\u001b[K     |████████████████████████████████| 52 kB 1.2 MB/s \n",
            "\u001b[?25hBuilding wheels for collected packages: google-play-scraper\n",
            "  Building wheel for google-play-scraper (setup.py) ... \u001b[?25l\u001b[?25hdone\n",
            "  Created wheel for google-play-scraper: filename=google_play_scraper-1.0.3-py3-none-any.whl size=24394 sha256=0a5489df62b8bef1af2731c605e7dd266bf771476a00961b97d4383fc6d5faad\n",
            "  Stored in directory: /root/.cache/pip/wheels/81/37/0b/4a14be55b449a048cd93d79930b1a980dee7896480defa1923\n",
            "Successfully built google-play-scraper\n",
            "Installing collected packages: google-play-scraper\n",
            "Successfully installed google-play-scraper-1.0.3\n"
          ]
        }
      ],
      "source": [
        "# first we need to install google-play-scraper\n",
        "!pip install google-play-scraper"
      ]
    },
    {
      "cell_type": "code",
      "execution_count": null,
      "metadata": {
        "id": "7vZYM1Cq6sDZ"
      },
      "outputs": [],
      "source": [
        "from google_play_scraper import Sort, reviews_all, reviews, app\n",
        "import pandas as pd\n",
        "import numpy as np"
      ]
    },
    {
      "cell_type": "markdown",
      "metadata": {
        "id": "yklwqlSw8F2_"
      },
      "source": [
        "#Scraping Code"
      ]
    },
    {
      "cell_type": "markdown",
      "metadata": {
        "id": "MfmYucjI-abU"
      },
      "source": [
        "### Let's find out All 25 apps reviews one by one"
      ]
    },
    {
      "cell_type": "markdown",
      "metadata": {
        "id": "aKjcpk8EzLkL"
      },
      "source": [
        "# 1) COVIDSAFE APPLICATION "
      ]
    },
    {
      "cell_type": "code",
      "execution_count": 63,
      "metadata": {
        "id": "ffiUNBlD8J9V"
      },
      "outputs": [],
      "source": [
        "result = reviews_all(\n",
        "    'au.gov.health.covidsafe',\n",
        "    sleep_milliseconds=0,  # by defaults it's take 0\n",
        "    lang='en', # by defaluts it's take 'en'\n",
        "    country='us', # by defaluts it's take 'us'\n",
        "    sort = Sort.NEWEST, # by defaults to Sort.MOST_RELEVANT, you can usee Sort.Newest to get newst reviews first\n",
        ")"
      ]
    },
    {
      "cell_type": "markdown",
      "metadata": {
        "id": "WYySwAak71c8"
      },
      "source": [
        "##Scraping Result of COVIDSAFE APP"
      ]
    },
    {
      "cell_type": "markdown",
      "metadata": {
        "id": "29zPPmG0B_Uq"
      },
      "source": [
        "Let's see the preview data"
      ]
    },
    {
      "cell_type": "code",
      "execution_count": 64,
      "metadata": {
        "colab": {
          "base_uri": "https://localhost:8080/",
          "height": 547
        },
        "id": "7G-FqL9D8C7M",
        "outputId": "9c424ceb-a3d2-46d2-89a0-bf8a2571f67c"
      },
      "outputs": [
        {
          "output_type": "execute_result",
          "data": {
            "text/plain": [
              "                                            reviewId          userName  \\\n",
              "0  gp:AOqpTOGAIdV4ze2BiI54fJAS_sbnJdY9VK0XVrC6IhF...           Zaw Zaw   \n",
              "1  gp:AOqpTOFWSQza-XPsXEXgreQtNHmj5AnNbBusz9G1cnI...       John Parker   \n",
              "2  gp:AOqpTOEHeIVMRqa62RQVSzGQrEaEIegMtmIVkSveRLR...  patricia connell   \n",
              "3  gp:AOqpTOGp_jOCVSgVUYdCEMl81713_TfqAOkPom5ZS6B...       Arthur Rees   \n",
              "4  gp:AOqpTOE6XiPTecCoQnRoQMi1OvXGSrlFZYV0DAM9al9...   john herrenberg   \n",
              "\n",
              "                                           userImage  \\\n",
              "0  https://play-lh.googleusercontent.com/a/AATXAJ...   \n",
              "1  https://play-lh.googleusercontent.com/a-/AOh14...   \n",
              "2  https://play-lh.googleusercontent.com/a-/AOh14...   \n",
              "3  https://play-lh.googleusercontent.com/a/AATXAJ...   \n",
              "4  https://play-lh.googleusercontent.com/a-/AOh14...   \n",
              "\n",
              "                                             content  score  thumbsUpCount  \\\n",
              "0                                      none optional      1              0   \n",
              "1  App was closed and when I tried to reactivate ...      1              0   \n",
              "2                                        Very useful      5              0   \n",
              "3  Can't access or find where to install the actu...      1              0   \n",
              "4                                               Good      5              0   \n",
              "\n",
              "  reviewCreatedVersion                  at replyContent repliedAt  \n",
              "0                  2.9 2022-04-10 14:49:17         None       NaT  \n",
              "1                  2.8 2022-04-10 12:31:55         None       NaT  \n",
              "2                 None 2022-04-10 02:06:05         None       NaT  \n",
              "3                  2.9 2022-04-08 23:42:58         None       NaT  \n",
              "4                  2.9 2022-04-08 02:48:47         None       NaT  "
            ],
            "text/html": [
              "\n",
              "  <div id=\"df-2341b8b4-60c9-4f1c-afbe-034859c65374\">\n",
              "    <div class=\"colab-df-container\">\n",
              "      <div>\n",
              "<style scoped>\n",
              "    .dataframe tbody tr th:only-of-type {\n",
              "        vertical-align: middle;\n",
              "    }\n",
              "\n",
              "    .dataframe tbody tr th {\n",
              "        vertical-align: top;\n",
              "    }\n",
              "\n",
              "    .dataframe thead th {\n",
              "        text-align: right;\n",
              "    }\n",
              "</style>\n",
              "<table border=\"1\" class=\"dataframe\">\n",
              "  <thead>\n",
              "    <tr style=\"text-align: right;\">\n",
              "      <th></th>\n",
              "      <th>reviewId</th>\n",
              "      <th>userName</th>\n",
              "      <th>userImage</th>\n",
              "      <th>content</th>\n",
              "      <th>score</th>\n",
              "      <th>thumbsUpCount</th>\n",
              "      <th>reviewCreatedVersion</th>\n",
              "      <th>at</th>\n",
              "      <th>replyContent</th>\n",
              "      <th>repliedAt</th>\n",
              "    </tr>\n",
              "  </thead>\n",
              "  <tbody>\n",
              "    <tr>\n",
              "      <th>0</th>\n",
              "      <td>gp:AOqpTOGAIdV4ze2BiI54fJAS_sbnJdY9VK0XVrC6IhF...</td>\n",
              "      <td>Zaw Zaw</td>\n",
              "      <td>https://play-lh.googleusercontent.com/a/AATXAJ...</td>\n",
              "      <td>none optional</td>\n",
              "      <td>1</td>\n",
              "      <td>0</td>\n",
              "      <td>2.9</td>\n",
              "      <td>2022-04-10 14:49:17</td>\n",
              "      <td>None</td>\n",
              "      <td>NaT</td>\n",
              "    </tr>\n",
              "    <tr>\n",
              "      <th>1</th>\n",
              "      <td>gp:AOqpTOFWSQza-XPsXEXgreQtNHmj5AnNbBusz9G1cnI...</td>\n",
              "      <td>John Parker</td>\n",
              "      <td>https://play-lh.googleusercontent.com/a-/AOh14...</td>\n",
              "      <td>App was closed and when I tried to reactivate ...</td>\n",
              "      <td>1</td>\n",
              "      <td>0</td>\n",
              "      <td>2.8</td>\n",
              "      <td>2022-04-10 12:31:55</td>\n",
              "      <td>None</td>\n",
              "      <td>NaT</td>\n",
              "    </tr>\n",
              "    <tr>\n",
              "      <th>2</th>\n",
              "      <td>gp:AOqpTOEHeIVMRqa62RQVSzGQrEaEIegMtmIVkSveRLR...</td>\n",
              "      <td>patricia connell</td>\n",
              "      <td>https://play-lh.googleusercontent.com/a-/AOh14...</td>\n",
              "      <td>Very useful</td>\n",
              "      <td>5</td>\n",
              "      <td>0</td>\n",
              "      <td>None</td>\n",
              "      <td>2022-04-10 02:06:05</td>\n",
              "      <td>None</td>\n",
              "      <td>NaT</td>\n",
              "    </tr>\n",
              "    <tr>\n",
              "      <th>3</th>\n",
              "      <td>gp:AOqpTOGp_jOCVSgVUYdCEMl81713_TfqAOkPom5ZS6B...</td>\n",
              "      <td>Arthur Rees</td>\n",
              "      <td>https://play-lh.googleusercontent.com/a/AATXAJ...</td>\n",
              "      <td>Can't access or find where to install the actu...</td>\n",
              "      <td>1</td>\n",
              "      <td>0</td>\n",
              "      <td>2.9</td>\n",
              "      <td>2022-04-08 23:42:58</td>\n",
              "      <td>None</td>\n",
              "      <td>NaT</td>\n",
              "    </tr>\n",
              "    <tr>\n",
              "      <th>4</th>\n",
              "      <td>gp:AOqpTOE6XiPTecCoQnRoQMi1OvXGSrlFZYV0DAM9al9...</td>\n",
              "      <td>john herrenberg</td>\n",
              "      <td>https://play-lh.googleusercontent.com/a-/AOh14...</td>\n",
              "      <td>Good</td>\n",
              "      <td>5</td>\n",
              "      <td>0</td>\n",
              "      <td>2.9</td>\n",
              "      <td>2022-04-08 02:48:47</td>\n",
              "      <td>None</td>\n",
              "      <td>NaT</td>\n",
              "    </tr>\n",
              "  </tbody>\n",
              "</table>\n",
              "</div>\n",
              "      <button class=\"colab-df-convert\" onclick=\"convertToInteractive('df-2341b8b4-60c9-4f1c-afbe-034859c65374')\"\n",
              "              title=\"Convert this dataframe to an interactive table.\"\n",
              "              style=\"display:none;\">\n",
              "        \n",
              "  <svg xmlns=\"http://www.w3.org/2000/svg\" height=\"24px\"viewBox=\"0 0 24 24\"\n",
              "       width=\"24px\">\n",
              "    <path d=\"M0 0h24v24H0V0z\" fill=\"none\"/>\n",
              "    <path d=\"M18.56 5.44l.94 2.06.94-2.06 2.06-.94-2.06-.94-.94-2.06-.94 2.06-2.06.94zm-11 1L8.5 8.5l.94-2.06 2.06-.94-2.06-.94L8.5 2.5l-.94 2.06-2.06.94zm10 10l.94 2.06.94-2.06 2.06-.94-2.06-.94-.94-2.06-.94 2.06-2.06.94z\"/><path d=\"M17.41 7.96l-1.37-1.37c-.4-.4-.92-.59-1.43-.59-.52 0-1.04.2-1.43.59L10.3 9.45l-7.72 7.72c-.78.78-.78 2.05 0 2.83L4 21.41c.39.39.9.59 1.41.59.51 0 1.02-.2 1.41-.59l7.78-7.78 2.81-2.81c.8-.78.8-2.07 0-2.86zM5.41 20L4 18.59l7.72-7.72 1.47 1.35L5.41 20z\"/>\n",
              "  </svg>\n",
              "      </button>\n",
              "      \n",
              "  <style>\n",
              "    .colab-df-container {\n",
              "      display:flex;\n",
              "      flex-wrap:wrap;\n",
              "      gap: 12px;\n",
              "    }\n",
              "\n",
              "    .colab-df-convert {\n",
              "      background-color: #E8F0FE;\n",
              "      border: none;\n",
              "      border-radius: 50%;\n",
              "      cursor: pointer;\n",
              "      display: none;\n",
              "      fill: #1967D2;\n",
              "      height: 32px;\n",
              "      padding: 0 0 0 0;\n",
              "      width: 32px;\n",
              "    }\n",
              "\n",
              "    .colab-df-convert:hover {\n",
              "      background-color: #E2EBFA;\n",
              "      box-shadow: 0px 1px 2px rgba(60, 64, 67, 0.3), 0px 1px 3px 1px rgba(60, 64, 67, 0.15);\n",
              "      fill: #174EA6;\n",
              "    }\n",
              "\n",
              "    [theme=dark] .colab-df-convert {\n",
              "      background-color: #3B4455;\n",
              "      fill: #D2E3FC;\n",
              "    }\n",
              "\n",
              "    [theme=dark] .colab-df-convert:hover {\n",
              "      background-color: #434B5C;\n",
              "      box-shadow: 0px 1px 3px 1px rgba(0, 0, 0, 0.15);\n",
              "      filter: drop-shadow(0px 1px 2px rgba(0, 0, 0, 0.3));\n",
              "      fill: #FFFFFF;\n",
              "    }\n",
              "  </style>\n",
              "\n",
              "      <script>\n",
              "        const buttonEl =\n",
              "          document.querySelector('#df-2341b8b4-60c9-4f1c-afbe-034859c65374 button.colab-df-convert');\n",
              "        buttonEl.style.display =\n",
              "          google.colab.kernel.accessAllowed ? 'block' : 'none';\n",
              "\n",
              "        async function convertToInteractive(key) {\n",
              "          const element = document.querySelector('#df-2341b8b4-60c9-4f1c-afbe-034859c65374');\n",
              "          const dataTable =\n",
              "            await google.colab.kernel.invokeFunction('convertToInteractive',\n",
              "                                                     [key], {});\n",
              "          if (!dataTable) return;\n",
              "\n",
              "          const docLinkHtml = 'Like what you see? Visit the ' +\n",
              "            '<a target=\"_blank\" href=https://colab.research.google.com/notebooks/data_table.ipynb>data table notebook</a>'\n",
              "            + ' to learn more about interactive tables.';\n",
              "          element.innerHTML = '';\n",
              "          dataTable['output_type'] = 'display_data';\n",
              "          await google.colab.output.renderOutput(dataTable, element);\n",
              "          const docLink = document.createElement('div');\n",
              "          docLink.innerHTML = docLinkHtml;\n",
              "          element.appendChild(docLink);\n",
              "        }\n",
              "      </script>\n",
              "    </div>\n",
              "  </div>\n",
              "  "
            ]
          },
          "metadata": {},
          "execution_count": 64
        }
      ],
      "source": [
        "data_scraped = pd.DataFrame(np.array(result),columns=['review'])\n",
        "data_scraped = data_scraped.join(pd.DataFrame(data_scraped.pop('review').tolist()))\n",
        "data_scraped.head()"
      ]
    },
    {
      "cell_type": "markdown",
      "metadata": {
        "id": "vgMhkmFD2y9Z"
      },
      "source": [
        "Let's see the count of the data that we go"
      ]
    },
    {
      "cell_type": "code",
      "execution_count": null,
      "metadata": {
        "colab": {
          "base_uri": "https://localhost:8080/"
        },
        "id": "Y5x6n-qV2z8Q",
        "outputId": "abf8b4e1-fb0d-4428-d2cc-0abdc576d0a2"
      },
      "outputs": [
        {
          "data": {
            "text/plain": [
              "11583"
            ]
          },
          "execution_count": 22,
          "metadata": {},
          "output_type": "execute_result"
        }
      ],
      "source": [
        "len(data_scraped.index)"
      ]
    },
    {
      "cell_type": "markdown",
      "metadata": {
        "id": "s0kcwrCh4O60"
      },
      "source": [
        "Code to download/import our data to our device"
      ]
    },
    {
      "cell_type": "code",
      "execution_count": null,
      "metadata": {
        "id": "UTxOc0jw4P0p"
      },
      "outputs": [],
      "source": [
        "data_scraped.to_csv(\"COVIDSafe.csv\", index = False) #it's save the file as x csv."
      ]
    },
    {
      "cell_type": "markdown",
      "metadata": {
        "id": "EXX7_Aj5y7dP"
      },
      "source": [
        "# 2) NHS COVID 19 "
      ]
    },
    {
      "cell_type": "code",
      "execution_count": null,
      "metadata": {
        "id": "diUlEp-TwMlb"
      },
      "outputs": [],
      "source": [
        "result1 = reviews_all(\n",
        "    'uk.nhs.covid19.production',\n",
        "    sleep_milliseconds=0,  # by defaults it's take 0\n",
        "    lang='en', # by defaluts it's take 'en'\n",
        "    country='us', # by defaluts it's take 'us'\n",
        "    sort = Sort.NEWEST, # by defaults to Sort.MOST_RELEVANT, you can usee Sort.Newest to get newst reviews first\n",
        ")"
      ]
    },
    {
      "cell_type": "markdown",
      "metadata": {
        "id": "F1OorClc1-AG"
      },
      "source": [
        "Let's see the preview data"
      ]
    },
    {
      "cell_type": "code",
      "execution_count": null,
      "metadata": {
        "colab": {
          "base_uri": "https://localhost:8080/",
          "height": 582
        },
        "id": "n2Hlkn3-2BW3",
        "outputId": "a1b9f84f-f8a2-4b4c-f6a3-981e433db79e"
      },
      "outputs": [
        {
          "data": {
            "text/html": [
              "\n",
              "  <div id=\"df-0d2cbed1-9b4f-452e-8df5-892e8333d700\">\n",
              "    <div class=\"colab-df-container\">\n",
              "      <div>\n",
              "<style scoped>\n",
              "    .dataframe tbody tr th:only-of-type {\n",
              "        vertical-align: middle;\n",
              "    }\n",
              "\n",
              "    .dataframe tbody tr th {\n",
              "        vertical-align: top;\n",
              "    }\n",
              "\n",
              "    .dataframe thead th {\n",
              "        text-align: right;\n",
              "    }\n",
              "</style>\n",
              "<table border=\"1\" class=\"dataframe\">\n",
              "  <thead>\n",
              "    <tr style=\"text-align: right;\">\n",
              "      <th></th>\n",
              "      <th>reviewId</th>\n",
              "      <th>userName</th>\n",
              "      <th>userImage</th>\n",
              "      <th>content</th>\n",
              "      <th>score</th>\n",
              "      <th>thumbsUpCount</th>\n",
              "      <th>reviewCreatedVersion</th>\n",
              "      <th>at</th>\n",
              "      <th>replyContent</th>\n",
              "      <th>repliedAt</th>\n",
              "    </tr>\n",
              "  </thead>\n",
              "  <tbody>\n",
              "    <tr>\n",
              "      <th>0</th>\n",
              "      <td>gp:AOqpTOGMFMDX6u0pAYl8wBrPUngfcWILA8JnwI9Bhe3...</td>\n",
              "      <td>Must Go</td>\n",
              "      <td>https://play-lh.googleusercontent.com/a-/AOh14...</td>\n",
              "      <td>When you phone some deal for emergency help th...</td>\n",
              "      <td>1</td>\n",
              "      <td>0</td>\n",
              "      <td>None</td>\n",
              "      <td>2022-04-09 01:07:14</td>\n",
              "      <td>None</td>\n",
              "      <td>NaT</td>\n",
              "    </tr>\n",
              "    <tr>\n",
              "      <th>1</th>\n",
              "      <td>gp:AOqpTOGg09iGvE-zaZ0Mmz-XOdAUrrTW2dXeIOnCUxd...</td>\n",
              "      <td>Tennyson Hayles</td>\n",
              "      <td>https://play-lh.googleusercontent.com/a/AATXAJ...</td>\n",
              "      <td>Very good thank you</td>\n",
              "      <td>5</td>\n",
              "      <td>0</td>\n",
              "      <td>3.6.1 (70)</td>\n",
              "      <td>2022-04-07 12:41:25</td>\n",
              "      <td>None</td>\n",
              "      <td>NaT</td>\n",
              "    </tr>\n",
              "    <tr>\n",
              "      <th>2</th>\n",
              "      <td>gp:AOqpTOGIM8_3yqLzCtYOhcLy3c8BuOJ0vmk50rjdjPh...</td>\n",
              "      <td>Frances Steingold</td>\n",
              "      <td>https://play-lh.googleusercontent.com/a/AATXAJ...</td>\n",
              "      <td>Ilove</td>\n",
              "      <td>5</td>\n",
              "      <td>0</td>\n",
              "      <td>4.27 (297)</td>\n",
              "      <td>2022-04-07 07:10:42</td>\n",
              "      <td>None</td>\n",
              "      <td>NaT</td>\n",
              "    </tr>\n",
              "    <tr>\n",
              "      <th>3</th>\n",
              "      <td>gp:AOqpTOHk7PIx6NoAdB6wmXG-4bPV2rOFIgiS-cMFUGP...</td>\n",
              "      <td>Kid Cat</td>\n",
              "      <td>https://play-lh.googleusercontent.com/a-/AOh14...</td>\n",
              "      <td>Can't get in! Every time I open the app and tr...</td>\n",
              "      <td>1</td>\n",
              "      <td>1</td>\n",
              "      <td>4.27 (297)</td>\n",
              "      <td>2022-04-06 19:50:21</td>\n",
              "      <td>None</td>\n",
              "      <td>NaT</td>\n",
              "    </tr>\n",
              "    <tr>\n",
              "      <th>4</th>\n",
              "      <td>gp:AOqpTOH1vO-0rzX-mvZwkEUekmzZ6ns6DjCxCzcGWBl...</td>\n",
              "      <td>David Ford</td>\n",
              "      <td>https://play-lh.googleusercontent.com/a-/AOh14...</td>\n",
              "      <td>Waste of time, our money and selling off our d...</td>\n",
              "      <td>1</td>\n",
              "      <td>0</td>\n",
              "      <td>None</td>\n",
              "      <td>2022-04-05 23:54:30</td>\n",
              "      <td>None</td>\n",
              "      <td>NaT</td>\n",
              "    </tr>\n",
              "  </tbody>\n",
              "</table>\n",
              "</div>\n",
              "      <button class=\"colab-df-convert\" onclick=\"convertToInteractive('df-0d2cbed1-9b4f-452e-8df5-892e8333d700')\"\n",
              "              title=\"Convert this dataframe to an interactive table.\"\n",
              "              style=\"display:none;\">\n",
              "        \n",
              "  <svg xmlns=\"http://www.w3.org/2000/svg\" height=\"24px\"viewBox=\"0 0 24 24\"\n",
              "       width=\"24px\">\n",
              "    <path d=\"M0 0h24v24H0V0z\" fill=\"none\"/>\n",
              "    <path d=\"M18.56 5.44l.94 2.06.94-2.06 2.06-.94-2.06-.94-.94-2.06-.94 2.06-2.06.94zm-11 1L8.5 8.5l.94-2.06 2.06-.94-2.06-.94L8.5 2.5l-.94 2.06-2.06.94zm10 10l.94 2.06.94-2.06 2.06-.94-2.06-.94-.94-2.06-.94 2.06-2.06.94z\"/><path d=\"M17.41 7.96l-1.37-1.37c-.4-.4-.92-.59-1.43-.59-.52 0-1.04.2-1.43.59L10.3 9.45l-7.72 7.72c-.78.78-.78 2.05 0 2.83L4 21.41c.39.39.9.59 1.41.59.51 0 1.02-.2 1.41-.59l7.78-7.78 2.81-2.81c.8-.78.8-2.07 0-2.86zM5.41 20L4 18.59l7.72-7.72 1.47 1.35L5.41 20z\"/>\n",
              "  </svg>\n",
              "      </button>\n",
              "      \n",
              "  <style>\n",
              "    .colab-df-container {\n",
              "      display:flex;\n",
              "      flex-wrap:wrap;\n",
              "      gap: 12px;\n",
              "    }\n",
              "\n",
              "    .colab-df-convert {\n",
              "      background-color: #E8F0FE;\n",
              "      border: none;\n",
              "      border-radius: 50%;\n",
              "      cursor: pointer;\n",
              "      display: none;\n",
              "      fill: #1967D2;\n",
              "      height: 32px;\n",
              "      padding: 0 0 0 0;\n",
              "      width: 32px;\n",
              "    }\n",
              "\n",
              "    .colab-df-convert:hover {\n",
              "      background-color: #E2EBFA;\n",
              "      box-shadow: 0px 1px 2px rgba(60, 64, 67, 0.3), 0px 1px 3px 1px rgba(60, 64, 67, 0.15);\n",
              "      fill: #174EA6;\n",
              "    }\n",
              "\n",
              "    [theme=dark] .colab-df-convert {\n",
              "      background-color: #3B4455;\n",
              "      fill: #D2E3FC;\n",
              "    }\n",
              "\n",
              "    [theme=dark] .colab-df-convert:hover {\n",
              "      background-color: #434B5C;\n",
              "      box-shadow: 0px 1px 3px 1px rgba(0, 0, 0, 0.15);\n",
              "      filter: drop-shadow(0px 1px 2px rgba(0, 0, 0, 0.3));\n",
              "      fill: #FFFFFF;\n",
              "    }\n",
              "  </style>\n",
              "\n",
              "      <script>\n",
              "        const buttonEl =\n",
              "          document.querySelector('#df-0d2cbed1-9b4f-452e-8df5-892e8333d700 button.colab-df-convert');\n",
              "        buttonEl.style.display =\n",
              "          google.colab.kernel.accessAllowed ? 'block' : 'none';\n",
              "\n",
              "        async function convertToInteractive(key) {\n",
              "          const element = document.querySelector('#df-0d2cbed1-9b4f-452e-8df5-892e8333d700');\n",
              "          const dataTable =\n",
              "            await google.colab.kernel.invokeFunction('convertToInteractive',\n",
              "                                                     [key], {});\n",
              "          if (!dataTable) return;\n",
              "\n",
              "          const docLinkHtml = 'Like what you see? Visit the ' +\n",
              "            '<a target=\"_blank\" href=https://colab.research.google.com/notebooks/data_table.ipynb>data table notebook</a>'\n",
              "            + ' to learn more about interactive tables.';\n",
              "          element.innerHTML = '';\n",
              "          dataTable['output_type'] = 'display_data';\n",
              "          await google.colab.output.renderOutput(dataTable, element);\n",
              "          const docLink = document.createElement('div');\n",
              "          docLink.innerHTML = docLinkHtml;\n",
              "          element.appendChild(docLink);\n",
              "        }\n",
              "      </script>\n",
              "    </div>\n",
              "  </div>\n",
              "  "
            ],
            "text/plain": [
              "                                            reviewId           userName  \\\n",
              "0  gp:AOqpTOGMFMDX6u0pAYl8wBrPUngfcWILA8JnwI9Bhe3...            Must Go   \n",
              "1  gp:AOqpTOGg09iGvE-zaZ0Mmz-XOdAUrrTW2dXeIOnCUxd...    Tennyson Hayles   \n",
              "2  gp:AOqpTOGIM8_3yqLzCtYOhcLy3c8BuOJ0vmk50rjdjPh...  Frances Steingold   \n",
              "3  gp:AOqpTOHk7PIx6NoAdB6wmXG-4bPV2rOFIgiS-cMFUGP...            Kid Cat   \n",
              "4  gp:AOqpTOH1vO-0rzX-mvZwkEUekmzZ6ns6DjCxCzcGWBl...         David Ford   \n",
              "\n",
              "                                           userImage  \\\n",
              "0  https://play-lh.googleusercontent.com/a-/AOh14...   \n",
              "1  https://play-lh.googleusercontent.com/a/AATXAJ...   \n",
              "2  https://play-lh.googleusercontent.com/a/AATXAJ...   \n",
              "3  https://play-lh.googleusercontent.com/a-/AOh14...   \n",
              "4  https://play-lh.googleusercontent.com/a-/AOh14...   \n",
              "\n",
              "                                             content  score  thumbsUpCount  \\\n",
              "0  When you phone some deal for emergency help th...      1              0   \n",
              "1                                Very good thank you      5              0   \n",
              "2                                              Ilove      5              0   \n",
              "3  Can't get in! Every time I open the app and tr...      1              1   \n",
              "4  Waste of time, our money and selling off our d...      1              0   \n",
              "\n",
              "  reviewCreatedVersion                  at replyContent repliedAt  \n",
              "0                 None 2022-04-09 01:07:14         None       NaT  \n",
              "1           3.6.1 (70) 2022-04-07 12:41:25         None       NaT  \n",
              "2           4.27 (297) 2022-04-07 07:10:42         None       NaT  \n",
              "3           4.27 (297) 2022-04-06 19:50:21         None       NaT  \n",
              "4                 None 2022-04-05 23:54:30         None       NaT  "
            ]
          },
          "execution_count": 11,
          "metadata": {},
          "output_type": "execute_result"
        }
      ],
      "source": [
        "data_scraped1 = pd.DataFrame(np.array(result1),columns=['review'])\n",
        "data_scraped1 = data_scraped1.join(pd.DataFrame(data_scraped1.pop('review').tolist()))\n",
        "data_scraped1.head()"
      ]
    },
    {
      "cell_type": "markdown",
      "metadata": {
        "id": "b1PJIEj72i_9"
      },
      "source": [
        "Let's see the count of the data that we got"
      ]
    },
    {
      "cell_type": "code",
      "execution_count": null,
      "metadata": {
        "colab": {
          "base_uri": "https://localhost:8080/"
        },
        "id": "vzD7fCHs0pNy",
        "outputId": "5118bbd4-401f-4d00-bc86-fa6b80afd400"
      },
      "outputs": [
        {
          "data": {
            "text/plain": [
              "22411"
            ]
          },
          "execution_count": 12,
          "metadata": {},
          "output_type": "execute_result"
        }
      ],
      "source": [
        "len(data_scraped1.index)"
      ]
    },
    {
      "cell_type": "markdown",
      "metadata": {
        "id": "uvbI7Off74oh"
      },
      "source": [
        "Code to download/import our data to our device"
      ]
    },
    {
      "cell_type": "code",
      "execution_count": null,
      "metadata": {
        "id": "CXF43y7aGLPQ"
      },
      "outputs": [],
      "source": [
        "data_scraped1.to_csv(\"NHS_COVID19.csv\", index = False) #it's save the file as x csv."
      ]
    },
    {
      "cell_type": "markdown",
      "metadata": {
        "id": "1y99r_AK6jro"
      },
      "source": [
        "# 3) Aarogya setu app"
      ]
    },
    {
      "cell_type": "code",
      "execution_count": null,
      "metadata": {
        "id": "HaqlZw5-opGN"
      },
      "outputs": [],
      "source": [
        "result1 = reviews_all(\n",
        "    'nic.goi.aarogyasetu',\n",
        "    sleep_milliseconds=0,  # by defaults it's take 0\n",
        "    lang='en', # by defaluts it's take 'en'\n",
        "    country='us', # by defaluts it's take 'us'\n",
        "    sort = Sort.NEWEST, # by defaults to Sort.MOST_RELEVANT, you can usee Sort.Newest to get newst reviews first\n",
        ")"
      ]
    },
    {
      "cell_type": "markdown",
      "metadata": {
        "id": "k9VjwZDN9Kaw"
      },
      "source": [
        "Let's see the preview data"
      ]
    },
    {
      "cell_type": "code",
      "execution_count": null,
      "metadata": {
        "id": "8hSkzJ849LH3",
        "colab": {
          "base_uri": "https://localhost:8080/"
        },
        "outputId": "f96f7007-1150-4b60-f84a-a42801212d72"
      },
      "outputs": [
        {
          "output_type": "execute_result",
          "data": {
            "text/plain": [
              "                                            reviewId               userName  \\\n",
              "0  gp:AOqpTOEED1hfbfC9LG7SSp_-87YP870UQjm4DPNYzys...  Ramesh Chandra Tewari   \n",
              "1  gp:AOqpTOERjFWn2Enp6wIniDyRp9T-vqBVsfDazBMLRHV...          Krishna Gouda   \n",
              "2  gp:AOqpTOFxHJpSRlS6h36EXzyGltJud6ncKxq7y-Wth8A...           Subodh Lahri   \n",
              "3  gp:AOqpTOHnfIuvkgDx7ImmUm0oPltRk3t25T-z1bYsLqB...       Chandrani Sourov   \n",
              "4  gp:AOqpTOET_WlD56hso4EVh9-6EU6QFPgA--8_E_Dioz2...              Raj Kumar   \n",
              "\n",
              "                                           userImage  \\\n",
              "0  https://play-lh.googleusercontent.com/a-/AOh14...   \n",
              "1  https://play-lh.googleusercontent.com/a/AATXAJ...   \n",
              "2  https://play-lh.googleusercontent.com/a-/AOh14...   \n",
              "3  https://play-lh.googleusercontent.com/a/AATXAJ...   \n",
              "4  https://play-lh.googleusercontent.com/a/AATXAJ...   \n",
              "\n",
              "                                             content  score  thumbsUpCount  \\\n",
              "0                                            Is good      5              0   \n",
              "1  Nice job this aap is very helpful in coronavir...      5              0   \n",
              "2                                               Nice      5              0   \n",
              "3                          The App stops functioning      2              0   \n",
              "4                                          Very good      5              0   \n",
              "\n",
              "  reviewCreatedVersion                  at replyContent repliedAt  \n",
              "0                 None 2022-04-10 08:26:07         None       NaT  \n",
              "1                 None 2022-04-10 08:22:09         None       NaT  \n",
              "2                2.0.1 2022-04-10 08:04:51         None       NaT  \n",
              "3                 None 2022-04-10 07:34:36         None       NaT  \n",
              "4                2.0.1 2022-04-10 07:30:26         None       NaT  "
            ],
            "text/html": [
              "\n",
              "  <div id=\"df-93b620cc-c5a4-434e-b2b2-ff342b4c5644\">\n",
              "    <div class=\"colab-df-container\">\n",
              "      <div>\n",
              "<style scoped>\n",
              "    .dataframe tbody tr th:only-of-type {\n",
              "        vertical-align: middle;\n",
              "    }\n",
              "\n",
              "    .dataframe tbody tr th {\n",
              "        vertical-align: top;\n",
              "    }\n",
              "\n",
              "    .dataframe thead th {\n",
              "        text-align: right;\n",
              "    }\n",
              "</style>\n",
              "<table border=\"1\" class=\"dataframe\">\n",
              "  <thead>\n",
              "    <tr style=\"text-align: right;\">\n",
              "      <th></th>\n",
              "      <th>reviewId</th>\n",
              "      <th>userName</th>\n",
              "      <th>userImage</th>\n",
              "      <th>content</th>\n",
              "      <th>score</th>\n",
              "      <th>thumbsUpCount</th>\n",
              "      <th>reviewCreatedVersion</th>\n",
              "      <th>at</th>\n",
              "      <th>replyContent</th>\n",
              "      <th>repliedAt</th>\n",
              "    </tr>\n",
              "  </thead>\n",
              "  <tbody>\n",
              "    <tr>\n",
              "      <th>0</th>\n",
              "      <td>gp:AOqpTOEED1hfbfC9LG7SSp_-87YP870UQjm4DPNYzys...</td>\n",
              "      <td>Ramesh Chandra Tewari</td>\n",
              "      <td>https://play-lh.googleusercontent.com/a-/AOh14...</td>\n",
              "      <td>Is good</td>\n",
              "      <td>5</td>\n",
              "      <td>0</td>\n",
              "      <td>None</td>\n",
              "      <td>2022-04-10 08:26:07</td>\n",
              "      <td>None</td>\n",
              "      <td>NaT</td>\n",
              "    </tr>\n",
              "    <tr>\n",
              "      <th>1</th>\n",
              "      <td>gp:AOqpTOERjFWn2Enp6wIniDyRp9T-vqBVsfDazBMLRHV...</td>\n",
              "      <td>Krishna Gouda</td>\n",
              "      <td>https://play-lh.googleusercontent.com/a/AATXAJ...</td>\n",
              "      <td>Nice job this aap is very helpful in coronavir...</td>\n",
              "      <td>5</td>\n",
              "      <td>0</td>\n",
              "      <td>None</td>\n",
              "      <td>2022-04-10 08:22:09</td>\n",
              "      <td>None</td>\n",
              "      <td>NaT</td>\n",
              "    </tr>\n",
              "    <tr>\n",
              "      <th>2</th>\n",
              "      <td>gp:AOqpTOFxHJpSRlS6h36EXzyGltJud6ncKxq7y-Wth8A...</td>\n",
              "      <td>Subodh Lahri</td>\n",
              "      <td>https://play-lh.googleusercontent.com/a-/AOh14...</td>\n",
              "      <td>Nice</td>\n",
              "      <td>5</td>\n",
              "      <td>0</td>\n",
              "      <td>2.0.1</td>\n",
              "      <td>2022-04-10 08:04:51</td>\n",
              "      <td>None</td>\n",
              "      <td>NaT</td>\n",
              "    </tr>\n",
              "    <tr>\n",
              "      <th>3</th>\n",
              "      <td>gp:AOqpTOHnfIuvkgDx7ImmUm0oPltRk3t25T-z1bYsLqB...</td>\n",
              "      <td>Chandrani Sourov</td>\n",
              "      <td>https://play-lh.googleusercontent.com/a/AATXAJ...</td>\n",
              "      <td>The App stops functioning</td>\n",
              "      <td>2</td>\n",
              "      <td>0</td>\n",
              "      <td>None</td>\n",
              "      <td>2022-04-10 07:34:36</td>\n",
              "      <td>None</td>\n",
              "      <td>NaT</td>\n",
              "    </tr>\n",
              "    <tr>\n",
              "      <th>4</th>\n",
              "      <td>gp:AOqpTOET_WlD56hso4EVh9-6EU6QFPgA--8_E_Dioz2...</td>\n",
              "      <td>Raj Kumar</td>\n",
              "      <td>https://play-lh.googleusercontent.com/a/AATXAJ...</td>\n",
              "      <td>Very good</td>\n",
              "      <td>5</td>\n",
              "      <td>0</td>\n",
              "      <td>2.0.1</td>\n",
              "      <td>2022-04-10 07:30:26</td>\n",
              "      <td>None</td>\n",
              "      <td>NaT</td>\n",
              "    </tr>\n",
              "  </tbody>\n",
              "</table>\n",
              "</div>\n",
              "      <button class=\"colab-df-convert\" onclick=\"convertToInteractive('df-93b620cc-c5a4-434e-b2b2-ff342b4c5644')\"\n",
              "              title=\"Convert this dataframe to an interactive table.\"\n",
              "              style=\"display:none;\">\n",
              "        \n",
              "  <svg xmlns=\"http://www.w3.org/2000/svg\" height=\"24px\"viewBox=\"0 0 24 24\"\n",
              "       width=\"24px\">\n",
              "    <path d=\"M0 0h24v24H0V0z\" fill=\"none\"/>\n",
              "    <path d=\"M18.56 5.44l.94 2.06.94-2.06 2.06-.94-2.06-.94-.94-2.06-.94 2.06-2.06.94zm-11 1L8.5 8.5l.94-2.06 2.06-.94-2.06-.94L8.5 2.5l-.94 2.06-2.06.94zm10 10l.94 2.06.94-2.06 2.06-.94-2.06-.94-.94-2.06-.94 2.06-2.06.94z\"/><path d=\"M17.41 7.96l-1.37-1.37c-.4-.4-.92-.59-1.43-.59-.52 0-1.04.2-1.43.59L10.3 9.45l-7.72 7.72c-.78.78-.78 2.05 0 2.83L4 21.41c.39.39.9.59 1.41.59.51 0 1.02-.2 1.41-.59l7.78-7.78 2.81-2.81c.8-.78.8-2.07 0-2.86zM5.41 20L4 18.59l7.72-7.72 1.47 1.35L5.41 20z\"/>\n",
              "  </svg>\n",
              "      </button>\n",
              "      \n",
              "  <style>\n",
              "    .colab-df-container {\n",
              "      display:flex;\n",
              "      flex-wrap:wrap;\n",
              "      gap: 12px;\n",
              "    }\n",
              "\n",
              "    .colab-df-convert {\n",
              "      background-color: #E8F0FE;\n",
              "      border: none;\n",
              "      border-radius: 50%;\n",
              "      cursor: pointer;\n",
              "      display: none;\n",
              "      fill: #1967D2;\n",
              "      height: 32px;\n",
              "      padding: 0 0 0 0;\n",
              "      width: 32px;\n",
              "    }\n",
              "\n",
              "    .colab-df-convert:hover {\n",
              "      background-color: #E2EBFA;\n",
              "      box-shadow: 0px 1px 2px rgba(60, 64, 67, 0.3), 0px 1px 3px 1px rgba(60, 64, 67, 0.15);\n",
              "      fill: #174EA6;\n",
              "    }\n",
              "\n",
              "    [theme=dark] .colab-df-convert {\n",
              "      background-color: #3B4455;\n",
              "      fill: #D2E3FC;\n",
              "    }\n",
              "\n",
              "    [theme=dark] .colab-df-convert:hover {\n",
              "      background-color: #434B5C;\n",
              "      box-shadow: 0px 1px 3px 1px rgba(0, 0, 0, 0.15);\n",
              "      filter: drop-shadow(0px 1px 2px rgba(0, 0, 0, 0.3));\n",
              "      fill: #FFFFFF;\n",
              "    }\n",
              "  </style>\n",
              "\n",
              "      <script>\n",
              "        const buttonEl =\n",
              "          document.querySelector('#df-93b620cc-c5a4-434e-b2b2-ff342b4c5644 button.colab-df-convert');\n",
              "        buttonEl.style.display =\n",
              "          google.colab.kernel.accessAllowed ? 'block' : 'none';\n",
              "\n",
              "        async function convertToInteractive(key) {\n",
              "          const element = document.querySelector('#df-93b620cc-c5a4-434e-b2b2-ff342b4c5644');\n",
              "          const dataTable =\n",
              "            await google.colab.kernel.invokeFunction('convertToInteractive',\n",
              "                                                     [key], {});\n",
              "          if (!dataTable) return;\n",
              "\n",
              "          const docLinkHtml = 'Like what you see? Visit the ' +\n",
              "            '<a target=\"_blank\" href=https://colab.research.google.com/notebooks/data_table.ipynb>data table notebook</a>'\n",
              "            + ' to learn more about interactive tables.';\n",
              "          element.innerHTML = '';\n",
              "          dataTable['output_type'] = 'display_data';\n",
              "          await google.colab.output.renderOutput(dataTable, element);\n",
              "          const docLink = document.createElement('div');\n",
              "          docLink.innerHTML = docLinkHtml;\n",
              "          element.appendChild(docLink);\n",
              "        }\n",
              "      </script>\n",
              "    </div>\n",
              "  </div>\n",
              "  "
            ]
          },
          "metadata": {},
          "execution_count": 12
        }
      ],
      "source": [
        "data_scraped3 = pd.DataFrame(np.array(result1),columns=['review'])\n",
        "data_scraped3 = data_scraped3.join(pd.DataFrame(data_scraped3.pop('review').tolist()))\n",
        "data_scraped3.head()"
      ]
    },
    {
      "cell_type": "markdown",
      "metadata": {
        "id": "89scPtkR9Yv5"
      },
      "source": [
        "Let's see the count of the data that we got"
      ]
    },
    {
      "cell_type": "code",
      "execution_count": null,
      "metadata": {
        "id": "OCrW3MRx9Zbr",
        "colab": {
          "base_uri": "https://localhost:8080/"
        },
        "outputId": "b3d1caf4-c23b-4e99-b2e9-7e7aa0677b84"
      },
      "outputs": [
        {
          "output_type": "execute_result",
          "data": {
            "text/plain": [
              "477382"
            ]
          },
          "metadata": {},
          "execution_count": 13
        }
      ],
      "source": [
        "len(data_scraped3.index)"
      ]
    },
    {
      "cell_type": "markdown",
      "metadata": {
        "id": "FQbx1oiF9eMs"
      },
      "source": [
        "Code to download/import our data to our device"
      ]
    },
    {
      "cell_type": "code",
      "execution_count": null,
      "metadata": {
        "id": "8lrchpSg9fA4"
      },
      "outputs": [],
      "source": [
        "data_scraped3.to_csv(\"Aarogya_Setu.csv\", index = False) #it's save the file as x csv."
      ]
    },
    {
      "cell_type": "markdown",
      "metadata": {
        "id": "7iN5ASfDBrjg"
      },
      "source": [
        "# 4) COVA Punjab app"
      ]
    },
    {
      "cell_type": "code",
      "execution_count": null,
      "metadata": {
        "colab": {
          "background_save": true
        },
        "id": "0LeyXiyTLIV3"
      },
      "outputs": [],
      "source": [
        "result4 = reviews_all(\n",
        "    'in.gov.punjab.cova',\n",
        "    sleep_milliseconds=0,  # by defaults it's take 0\n",
        "    lang='en', # by defaluts it's take 'en'\n",
        "    country='us', # by defaluts it's take 'us'\n",
        "    sort = Sort.NEWEST, # by defaults to Sort.MOST_RELEVANT, you can usee Sort.Newest to get newst reviews first\n",
        ")"
      ]
    },
    {
      "cell_type": "markdown",
      "metadata": {
        "id": "0q-Ps9u1LeFl"
      },
      "source": [
        "Let's see the preview data"
      ]
    },
    {
      "cell_type": "code",
      "execution_count": null,
      "metadata": {
        "colab": {
          "background_save": true
        },
        "id": "oDo6IPsKLe4S",
        "outputId": "5e44b0f6-afbe-4987-fc9c-0bdee8f3207e"
      },
      "outputs": [
        {
          "data": {
            "text/html": [
              "\n",
              "  <div id=\"df-ca484b8a-080c-4f91-bace-f58f582bdc92\">\n",
              "    <div class=\"colab-df-container\">\n",
              "      <div>\n",
              "<style scoped>\n",
              "    .dataframe tbody tr th:only-of-type {\n",
              "        vertical-align: middle;\n",
              "    }\n",
              "\n",
              "    .dataframe tbody tr th {\n",
              "        vertical-align: top;\n",
              "    }\n",
              "\n",
              "    .dataframe thead th {\n",
              "        text-align: right;\n",
              "    }\n",
              "</style>\n",
              "<table border=\"1\" class=\"dataframe\">\n",
              "  <thead>\n",
              "    <tr style=\"text-align: right;\">\n",
              "      <th></th>\n",
              "      <th>reviewId</th>\n",
              "      <th>userName</th>\n",
              "      <th>userImage</th>\n",
              "      <th>content</th>\n",
              "      <th>score</th>\n",
              "      <th>thumbsUpCount</th>\n",
              "      <th>reviewCreatedVersion</th>\n",
              "      <th>at</th>\n",
              "      <th>replyContent</th>\n",
              "      <th>repliedAt</th>\n",
              "    </tr>\n",
              "  </thead>\n",
              "  <tbody>\n",
              "    <tr>\n",
              "      <th>0</th>\n",
              "      <td>gp:AOqpTOGyrs6dN-63zHf9_3YqeNGCoiq4X5TJooW2mSb...</td>\n",
              "      <td>Ravi Pal</td>\n",
              "      <td>https://play-lh.googleusercontent.com/a/AATXAJ...</td>\n",
              "      <td>Good job 👌</td>\n",
              "      <td>5</td>\n",
              "      <td>0</td>\n",
              "      <td>1.3.64</td>\n",
              "      <td>2022-04-10 07:13:02</td>\n",
              "      <td>None</td>\n",
              "      <td>NaT</td>\n",
              "    </tr>\n",
              "    <tr>\n",
              "      <th>1</th>\n",
              "      <td>gp:AOqpTOGiEq-3phAW_ddlkP92jttQCY_vFh6M23n-NBs...</td>\n",
              "      <td>Swarn Kaur</td>\n",
              "      <td>https://play-lh.googleusercontent.com/a/AATXAJ...</td>\n",
              "      <td>Bahut vadiya app a ess to bahut sahoolat mildi a</td>\n",
              "      <td>5</td>\n",
              "      <td>0</td>\n",
              "      <td>1.3.65</td>\n",
              "      <td>2022-04-07 08:14:55</td>\n",
              "      <td>None</td>\n",
              "      <td>NaT</td>\n",
              "    </tr>\n",
              "    <tr>\n",
              "      <th>2</th>\n",
              "      <td>gp:AOqpTOGNcmEnQ9nTfp7VjCfpTD-9kR60DMaRsyaRu_q...</td>\n",
              "      <td>Dr. P.S. SIDHU</td>\n",
              "      <td>https://play-lh.googleusercontent.com/a-/AOh14...</td>\n",
              "      <td>Very Good Efforts by Punjab Government</td>\n",
              "      <td>5</td>\n",
              "      <td>0</td>\n",
              "      <td>1.3.65</td>\n",
              "      <td>2022-04-05 17:10:42</td>\n",
              "      <td>None</td>\n",
              "      <td>NaT</td>\n",
              "    </tr>\n",
              "    <tr>\n",
              "      <th>3</th>\n",
              "      <td>gp:AOqpTOHpNLUy7OStgkanmJhpOFLNWAtQLZIUrdSeOz8...</td>\n",
              "      <td>kulwinder jeeda</td>\n",
              "      <td>https://play-lh.googleusercontent.com/a-/AOh14...</td>\n",
              "      <td>Points not show</td>\n",
              "      <td>5</td>\n",
              "      <td>0</td>\n",
              "      <td>1.3.65</td>\n",
              "      <td>2022-04-05 10:35:45</td>\n",
              "      <td>None</td>\n",
              "      <td>NaT</td>\n",
              "    </tr>\n",
              "    <tr>\n",
              "      <th>4</th>\n",
              "      <td>gp:AOqpTOH4Ceoijvl0CNfvISHsxSgvMCfaXHfI2JGQvCu...</td>\n",
              "      <td>Only best recipes /knowledge</td>\n",
              "      <td>https://play-lh.googleusercontent.com/a-/AOh14...</td>\n",
              "      <td>Bad experience b'coz Cove certificate download...</td>\n",
              "      <td>1</td>\n",
              "      <td>0</td>\n",
              "      <td>1.3.64</td>\n",
              "      <td>2022-04-05 10:08:19</td>\n",
              "      <td>None</td>\n",
              "      <td>NaT</td>\n",
              "    </tr>\n",
              "  </tbody>\n",
              "</table>\n",
              "</div>\n",
              "      <button class=\"colab-df-convert\" onclick=\"convertToInteractive('df-ca484b8a-080c-4f91-bace-f58f582bdc92')\"\n",
              "              title=\"Convert this dataframe to an interactive table.\"\n",
              "              style=\"display:none;\">\n",
              "        \n",
              "  <svg xmlns=\"http://www.w3.org/2000/svg\" height=\"24px\"viewBox=\"0 0 24 24\"\n",
              "       width=\"24px\">\n",
              "    <path d=\"M0 0h24v24H0V0z\" fill=\"none\"/>\n",
              "    <path d=\"M18.56 5.44l.94 2.06.94-2.06 2.06-.94-2.06-.94-.94-2.06-.94 2.06-2.06.94zm-11 1L8.5 8.5l.94-2.06 2.06-.94-2.06-.94L8.5 2.5l-.94 2.06-2.06.94zm10 10l.94 2.06.94-2.06 2.06-.94-2.06-.94-.94-2.06-.94 2.06-2.06.94z\"/><path d=\"M17.41 7.96l-1.37-1.37c-.4-.4-.92-.59-1.43-.59-.52 0-1.04.2-1.43.59L10.3 9.45l-7.72 7.72c-.78.78-.78 2.05 0 2.83L4 21.41c.39.39.9.59 1.41.59.51 0 1.02-.2 1.41-.59l7.78-7.78 2.81-2.81c.8-.78.8-2.07 0-2.86zM5.41 20L4 18.59l7.72-7.72 1.47 1.35L5.41 20z\"/>\n",
              "  </svg>\n",
              "      </button>\n",
              "      \n",
              "  <style>\n",
              "    .colab-df-container {\n",
              "      display:flex;\n",
              "      flex-wrap:wrap;\n",
              "      gap: 12px;\n",
              "    }\n",
              "\n",
              "    .colab-df-convert {\n",
              "      background-color: #E8F0FE;\n",
              "      border: none;\n",
              "      border-radius: 50%;\n",
              "      cursor: pointer;\n",
              "      display: none;\n",
              "      fill: #1967D2;\n",
              "      height: 32px;\n",
              "      padding: 0 0 0 0;\n",
              "      width: 32px;\n",
              "    }\n",
              "\n",
              "    .colab-df-convert:hover {\n",
              "      background-color: #E2EBFA;\n",
              "      box-shadow: 0px 1px 2px rgba(60, 64, 67, 0.3), 0px 1px 3px 1px rgba(60, 64, 67, 0.15);\n",
              "      fill: #174EA6;\n",
              "    }\n",
              "\n",
              "    [theme=dark] .colab-df-convert {\n",
              "      background-color: #3B4455;\n",
              "      fill: #D2E3FC;\n",
              "    }\n",
              "\n",
              "    [theme=dark] .colab-df-convert:hover {\n",
              "      background-color: #434B5C;\n",
              "      box-shadow: 0px 1px 3px 1px rgba(0, 0, 0, 0.15);\n",
              "      filter: drop-shadow(0px 1px 2px rgba(0, 0, 0, 0.3));\n",
              "      fill: #FFFFFF;\n",
              "    }\n",
              "  </style>\n",
              "\n",
              "      <script>\n",
              "        const buttonEl =\n",
              "          document.querySelector('#df-ca484b8a-080c-4f91-bace-f58f582bdc92 button.colab-df-convert');\n",
              "        buttonEl.style.display =\n",
              "          google.colab.kernel.accessAllowed ? 'block' : 'none';\n",
              "\n",
              "        async function convertToInteractive(key) {\n",
              "          const element = document.querySelector('#df-ca484b8a-080c-4f91-bace-f58f582bdc92');\n",
              "          const dataTable =\n",
              "            await google.colab.kernel.invokeFunction('convertToInteractive',\n",
              "                                                     [key], {});\n",
              "          if (!dataTable) return;\n",
              "\n",
              "          const docLinkHtml = 'Like what you see? Visit the ' +\n",
              "            '<a target=\"_blank\" href=https://colab.research.google.com/notebooks/data_table.ipynb>data table notebook</a>'\n",
              "            + ' to learn more about interactive tables.';\n",
              "          element.innerHTML = '';\n",
              "          dataTable['output_type'] = 'display_data';\n",
              "          await google.colab.output.renderOutput(dataTable, element);\n",
              "          const docLink = document.createElement('div');\n",
              "          docLink.innerHTML = docLinkHtml;\n",
              "          element.appendChild(docLink);\n",
              "        }\n",
              "      </script>\n",
              "    </div>\n",
              "  </div>\n",
              "  "
            ],
            "text/plain": [
              "                                            reviewId  \\\n",
              "0  gp:AOqpTOGyrs6dN-63zHf9_3YqeNGCoiq4X5TJooW2mSb...   \n",
              "1  gp:AOqpTOGiEq-3phAW_ddlkP92jttQCY_vFh6M23n-NBs...   \n",
              "2  gp:AOqpTOGNcmEnQ9nTfp7VjCfpTD-9kR60DMaRsyaRu_q...   \n",
              "3  gp:AOqpTOHpNLUy7OStgkanmJhpOFLNWAtQLZIUrdSeOz8...   \n",
              "4  gp:AOqpTOH4Ceoijvl0CNfvISHsxSgvMCfaXHfI2JGQvCu...   \n",
              "\n",
              "                       userName  \\\n",
              "0                      Ravi Pal   \n",
              "1                    Swarn Kaur   \n",
              "2                Dr. P.S. SIDHU   \n",
              "3               kulwinder jeeda   \n",
              "4  Only best recipes /knowledge   \n",
              "\n",
              "                                           userImage  \\\n",
              "0  https://play-lh.googleusercontent.com/a/AATXAJ...   \n",
              "1  https://play-lh.googleusercontent.com/a/AATXAJ...   \n",
              "2  https://play-lh.googleusercontent.com/a-/AOh14...   \n",
              "3  https://play-lh.googleusercontent.com/a-/AOh14...   \n",
              "4  https://play-lh.googleusercontent.com/a-/AOh14...   \n",
              "\n",
              "                                             content  score  thumbsUpCount  \\\n",
              "0                                         Good job 👌      5              0   \n",
              "1   Bahut vadiya app a ess to bahut sahoolat mildi a      5              0   \n",
              "2             Very Good Efforts by Punjab Government      5              0   \n",
              "3                                    Points not show      5              0   \n",
              "4  Bad experience b'coz Cove certificate download...      1              0   \n",
              "\n",
              "  reviewCreatedVersion                  at replyContent repliedAt  \n",
              "0               1.3.64 2022-04-10 07:13:02         None       NaT  \n",
              "1               1.3.65 2022-04-07 08:14:55         None       NaT  \n",
              "2               1.3.65 2022-04-05 17:10:42         None       NaT  \n",
              "3               1.3.65 2022-04-05 10:35:45         None       NaT  \n",
              "4               1.3.64 2022-04-05 10:08:19         None       NaT  "
            ]
          },
          "execution_count": null,
          "metadata": {},
          "output_type": "execute_result"
        }
      ],
      "source": [
        "data_scraped4 = pd.DataFrame(np.array(result4),columns=['review'])\n",
        "data_scraped4 = data_scraped4.join(pd.DataFrame(data_scraped4.pop('review').tolist()))\n",
        "data_scraped4.head()"
      ]
    },
    {
      "cell_type": "markdown",
      "metadata": {
        "id": "Godo1jMeLk0r"
      },
      "source": [
        "Let's see the count of the data that we got"
      ]
    },
    {
      "cell_type": "code",
      "execution_count": null,
      "metadata": {
        "colab": {
          "background_save": true
        },
        "id": "kPTLvP2XLlwy",
        "outputId": "d8b52da8-a736-4da5-a1ec-39b19bc6cbac"
      },
      "outputs": [
        {
          "data": {
            "text/plain": [
              "10365"
            ]
          },
          "execution_count": null,
          "metadata": {},
          "output_type": "execute_result"
        }
      ],
      "source": [
        "len(data_scraped4.index)"
      ]
    },
    {
      "cell_type": "markdown",
      "metadata": {
        "id": "KYSLP4KELzxM"
      },
      "source": [
        "Code to download/import our data to our device"
      ]
    },
    {
      "cell_type": "code",
      "execution_count": null,
      "metadata": {
        "colab": {
          "background_save": true
        },
        "id": "KMZnXeOgL0lW"
      },
      "outputs": [],
      "source": [
        "data_scraped4.to_csv(\"COVA_Punjab.csv\", index = False) #it's save the file as x csv."
      ]
    },
    {
      "cell_type": "markdown",
      "metadata": {
        "id": "lxg9qZ9HYmnb"
      },
      "source": [
        "# 5) COVID-19 Sounds App"
      ]
    },
    {
      "cell_type": "code",
      "source": [
        "result5 = reviews_all(\n",
        "    'uk.ac.cam.cl.covid19sounds',\n",
        "    sleep_milliseconds=0,  # by defaults it's take 0\n",
        "    lang='en', # by defaluts it's take 'en'\n",
        "    country='us', # by defaluts it's take 'us'\n",
        "    sort = Sort.NEWEST, # by defaults to Sort.MOST_RELEVANT, you can usee Sort.Newest to get newst reviews first\n",
        ")"
      ],
      "metadata": {
        "id": "41ClFHif-VoU"
      },
      "execution_count": 15,
      "outputs": []
    },
    {
      "cell_type": "markdown",
      "source": [
        "Let's see the preview data"
      ],
      "metadata": {
        "id": "vl2EMPuO_L1x"
      }
    },
    {
      "cell_type": "code",
      "source": [
        "data_scraped5 = pd.DataFrame(np.array(result5),columns=['review'])\n",
        "data_scraped5 = data_scraped5.join(pd.DataFrame(data_scraped5.pop('review').tolist()))\n",
        "data_scraped5.head()"
      ],
      "metadata": {
        "colab": {
          "base_uri": "https://localhost:8080/",
          "height": 582
        },
        "id": "JyKMR7eD_Mxu",
        "outputId": "21befb22-4c59-40a5-802e-ebdf96366713"
      },
      "execution_count": 16,
      "outputs": [
        {
          "output_type": "execute_result",
          "data": {
            "text/plain": [
              "                                            reviewId       userName  \\\n",
              "0  gp:AOqpTOFN2lQXzAbLGD6tBfA9VF-bEIhRsqe2qQ3ahmb...     David Hume   \n",
              "1  gp:AOqpTOEMcmgNo6rRNhR1Ghw4SIO33sCagHpsIZf42Ji...   Deborah Gaye   \n",
              "2  gp:AOqpTOE0gC8IiXq03ywjj-5xiO-4Ug26NYDLPHxRjiE...  Waleed Walled   \n",
              "3  gp:AOqpTOGzz72EjIWkMgLtpFzJ3fNLHcbdIBo6T034woj...  Lindesay Mace   \n",
              "4  gp:AOqpTOF2BMj9fQxC-Pg4ZlivXK662bFxwl66z0KDQUq...  Ian Henderson   \n",
              "\n",
              "                                           userImage  \\\n",
              "0  https://play-lh.googleusercontent.com/a/AATXAJ...   \n",
              "1  https://play-lh.googleusercontent.com/a-/AOh14...   \n",
              "2  https://play-lh.googleusercontent.com/a/AATXAJ...   \n",
              "3  https://play-lh.googleusercontent.com/a/AATXAJ...   \n",
              "4  https://play-lh.googleusercontent.com/a-/AOh14...   \n",
              "\n",
              "                                             content  score  thumbsUpCount  \\\n",
              "0  Asks a lot from you and gives nothing in retur...      1              0   \n",
              "1                         Public health tool by NHS.      5              0   \n",
              "2                    Why i shoukd wait for research?      1              0   \n",
              "3  Covid test question needs an 'unknown' option....      3             13   \n",
              "4                             Broken... Doesn't work      1              1   \n",
              "\n",
              "  reviewCreatedVersion                  at replyContent repliedAt  \n",
              "0               1.1.19 2022-01-09 07:26:18         None      None  \n",
              "1               1.1.19 2021-12-27 18:05:22         None      None  \n",
              "2               1.1.19 2021-06-07 15:15:16         None      None  \n",
              "3               1.1.19 2021-01-13 01:47:12         None      None  \n",
              "4               1.1.19 2021-01-10 16:21:19         None      None  "
            ],
            "text/html": [
              "\n",
              "  <div id=\"df-191bfe99-5140-4d3f-9eab-4d379a9a08bf\">\n",
              "    <div class=\"colab-df-container\">\n",
              "      <div>\n",
              "<style scoped>\n",
              "    .dataframe tbody tr th:only-of-type {\n",
              "        vertical-align: middle;\n",
              "    }\n",
              "\n",
              "    .dataframe tbody tr th {\n",
              "        vertical-align: top;\n",
              "    }\n",
              "\n",
              "    .dataframe thead th {\n",
              "        text-align: right;\n",
              "    }\n",
              "</style>\n",
              "<table border=\"1\" class=\"dataframe\">\n",
              "  <thead>\n",
              "    <tr style=\"text-align: right;\">\n",
              "      <th></th>\n",
              "      <th>reviewId</th>\n",
              "      <th>userName</th>\n",
              "      <th>userImage</th>\n",
              "      <th>content</th>\n",
              "      <th>score</th>\n",
              "      <th>thumbsUpCount</th>\n",
              "      <th>reviewCreatedVersion</th>\n",
              "      <th>at</th>\n",
              "      <th>replyContent</th>\n",
              "      <th>repliedAt</th>\n",
              "    </tr>\n",
              "  </thead>\n",
              "  <tbody>\n",
              "    <tr>\n",
              "      <th>0</th>\n",
              "      <td>gp:AOqpTOFN2lQXzAbLGD6tBfA9VF-bEIhRsqe2qQ3ahmb...</td>\n",
              "      <td>David Hume</td>\n",
              "      <td>https://play-lh.googleusercontent.com/a/AATXAJ...</td>\n",
              "      <td>Asks a lot from you and gives nothing in retur...</td>\n",
              "      <td>1</td>\n",
              "      <td>0</td>\n",
              "      <td>1.1.19</td>\n",
              "      <td>2022-01-09 07:26:18</td>\n",
              "      <td>None</td>\n",
              "      <td>None</td>\n",
              "    </tr>\n",
              "    <tr>\n",
              "      <th>1</th>\n",
              "      <td>gp:AOqpTOEMcmgNo6rRNhR1Ghw4SIO33sCagHpsIZf42Ji...</td>\n",
              "      <td>Deborah Gaye</td>\n",
              "      <td>https://play-lh.googleusercontent.com/a-/AOh14...</td>\n",
              "      <td>Public health tool by NHS.</td>\n",
              "      <td>5</td>\n",
              "      <td>0</td>\n",
              "      <td>1.1.19</td>\n",
              "      <td>2021-12-27 18:05:22</td>\n",
              "      <td>None</td>\n",
              "      <td>None</td>\n",
              "    </tr>\n",
              "    <tr>\n",
              "      <th>2</th>\n",
              "      <td>gp:AOqpTOE0gC8IiXq03ywjj-5xiO-4Ug26NYDLPHxRjiE...</td>\n",
              "      <td>Waleed Walled</td>\n",
              "      <td>https://play-lh.googleusercontent.com/a/AATXAJ...</td>\n",
              "      <td>Why i shoukd wait for research?</td>\n",
              "      <td>1</td>\n",
              "      <td>0</td>\n",
              "      <td>1.1.19</td>\n",
              "      <td>2021-06-07 15:15:16</td>\n",
              "      <td>None</td>\n",
              "      <td>None</td>\n",
              "    </tr>\n",
              "    <tr>\n",
              "      <th>3</th>\n",
              "      <td>gp:AOqpTOGzz72EjIWkMgLtpFzJ3fNLHcbdIBo6T034woj...</td>\n",
              "      <td>Lindesay Mace</td>\n",
              "      <td>https://play-lh.googleusercontent.com/a/AATXAJ...</td>\n",
              "      <td>Covid test question needs an 'unknown' option....</td>\n",
              "      <td>3</td>\n",
              "      <td>13</td>\n",
              "      <td>1.1.19</td>\n",
              "      <td>2021-01-13 01:47:12</td>\n",
              "      <td>None</td>\n",
              "      <td>None</td>\n",
              "    </tr>\n",
              "    <tr>\n",
              "      <th>4</th>\n",
              "      <td>gp:AOqpTOF2BMj9fQxC-Pg4ZlivXK662bFxwl66z0KDQUq...</td>\n",
              "      <td>Ian Henderson</td>\n",
              "      <td>https://play-lh.googleusercontent.com/a-/AOh14...</td>\n",
              "      <td>Broken... Doesn't work</td>\n",
              "      <td>1</td>\n",
              "      <td>1</td>\n",
              "      <td>1.1.19</td>\n",
              "      <td>2021-01-10 16:21:19</td>\n",
              "      <td>None</td>\n",
              "      <td>None</td>\n",
              "    </tr>\n",
              "  </tbody>\n",
              "</table>\n",
              "</div>\n",
              "      <button class=\"colab-df-convert\" onclick=\"convertToInteractive('df-191bfe99-5140-4d3f-9eab-4d379a9a08bf')\"\n",
              "              title=\"Convert this dataframe to an interactive table.\"\n",
              "              style=\"display:none;\">\n",
              "        \n",
              "  <svg xmlns=\"http://www.w3.org/2000/svg\" height=\"24px\"viewBox=\"0 0 24 24\"\n",
              "       width=\"24px\">\n",
              "    <path d=\"M0 0h24v24H0V0z\" fill=\"none\"/>\n",
              "    <path d=\"M18.56 5.44l.94 2.06.94-2.06 2.06-.94-2.06-.94-.94-2.06-.94 2.06-2.06.94zm-11 1L8.5 8.5l.94-2.06 2.06-.94-2.06-.94L8.5 2.5l-.94 2.06-2.06.94zm10 10l.94 2.06.94-2.06 2.06-.94-2.06-.94-.94-2.06-.94 2.06-2.06.94z\"/><path d=\"M17.41 7.96l-1.37-1.37c-.4-.4-.92-.59-1.43-.59-.52 0-1.04.2-1.43.59L10.3 9.45l-7.72 7.72c-.78.78-.78 2.05 0 2.83L4 21.41c.39.39.9.59 1.41.59.51 0 1.02-.2 1.41-.59l7.78-7.78 2.81-2.81c.8-.78.8-2.07 0-2.86zM5.41 20L4 18.59l7.72-7.72 1.47 1.35L5.41 20z\"/>\n",
              "  </svg>\n",
              "      </button>\n",
              "      \n",
              "  <style>\n",
              "    .colab-df-container {\n",
              "      display:flex;\n",
              "      flex-wrap:wrap;\n",
              "      gap: 12px;\n",
              "    }\n",
              "\n",
              "    .colab-df-convert {\n",
              "      background-color: #E8F0FE;\n",
              "      border: none;\n",
              "      border-radius: 50%;\n",
              "      cursor: pointer;\n",
              "      display: none;\n",
              "      fill: #1967D2;\n",
              "      height: 32px;\n",
              "      padding: 0 0 0 0;\n",
              "      width: 32px;\n",
              "    }\n",
              "\n",
              "    .colab-df-convert:hover {\n",
              "      background-color: #E2EBFA;\n",
              "      box-shadow: 0px 1px 2px rgba(60, 64, 67, 0.3), 0px 1px 3px 1px rgba(60, 64, 67, 0.15);\n",
              "      fill: #174EA6;\n",
              "    }\n",
              "\n",
              "    [theme=dark] .colab-df-convert {\n",
              "      background-color: #3B4455;\n",
              "      fill: #D2E3FC;\n",
              "    }\n",
              "\n",
              "    [theme=dark] .colab-df-convert:hover {\n",
              "      background-color: #434B5C;\n",
              "      box-shadow: 0px 1px 3px 1px rgba(0, 0, 0, 0.15);\n",
              "      filter: drop-shadow(0px 1px 2px rgba(0, 0, 0, 0.3));\n",
              "      fill: #FFFFFF;\n",
              "    }\n",
              "  </style>\n",
              "\n",
              "      <script>\n",
              "        const buttonEl =\n",
              "          document.querySelector('#df-191bfe99-5140-4d3f-9eab-4d379a9a08bf button.colab-df-convert');\n",
              "        buttonEl.style.display =\n",
              "          google.colab.kernel.accessAllowed ? 'block' : 'none';\n",
              "\n",
              "        async function convertToInteractive(key) {\n",
              "          const element = document.querySelector('#df-191bfe99-5140-4d3f-9eab-4d379a9a08bf');\n",
              "          const dataTable =\n",
              "            await google.colab.kernel.invokeFunction('convertToInteractive',\n",
              "                                                     [key], {});\n",
              "          if (!dataTable) return;\n",
              "\n",
              "          const docLinkHtml = 'Like what you see? Visit the ' +\n",
              "            '<a target=\"_blank\" href=https://colab.research.google.com/notebooks/data_table.ipynb>data table notebook</a>'\n",
              "            + ' to learn more about interactive tables.';\n",
              "          element.innerHTML = '';\n",
              "          dataTable['output_type'] = 'display_data';\n",
              "          await google.colab.output.renderOutput(dataTable, element);\n",
              "          const docLink = document.createElement('div');\n",
              "          docLink.innerHTML = docLinkHtml;\n",
              "          element.appendChild(docLink);\n",
              "        }\n",
              "      </script>\n",
              "    </div>\n",
              "  </div>\n",
              "  "
            ]
          },
          "metadata": {},
          "execution_count": 16
        }
      ]
    },
    {
      "cell_type": "markdown",
      "source": [
        "Let's see the count of the data that we got"
      ],
      "metadata": {
        "id": "PiHGzjQT_UC0"
      }
    },
    {
      "cell_type": "code",
      "source": [
        "len(data_scraped5.index)"
      ],
      "metadata": {
        "colab": {
          "base_uri": "https://localhost:8080/"
        },
        "id": "I1IjYjzV_Xdf",
        "outputId": "49c5c10c-346a-4159-feb4-218a5351cbbf"
      },
      "execution_count": 17,
      "outputs": [
        {
          "output_type": "execute_result",
          "data": {
            "text/plain": [
              "16"
            ]
          },
          "metadata": {},
          "execution_count": 17
        }
      ]
    },
    {
      "cell_type": "markdown",
      "source": [
        "Code to download/import our data to our device"
      ],
      "metadata": {
        "id": "BgRNGGKA_dGr"
      }
    },
    {
      "cell_type": "code",
      "source": [
        "data_scraped5.to_csv(\"COVID19_Sounds.csv\", index = False) #it's save the file as x csv."
      ],
      "metadata": {
        "id": "l3tlBoKl_d5N"
      },
      "execution_count": 19,
      "outputs": []
    },
    {
      "cell_type": "markdown",
      "source": [
        "# 6) Coronavirus Australia App"
      ],
      "metadata": {
        "id": "wSfGZ6bwQNDB"
      }
    },
    {
      "cell_type": "code",
      "source": [
        "result6 = reviews_all(\n",
        "    'au.gov.health.covid19',\n",
        "    sleep_milliseconds=0,  # by defaults it's take 0\n",
        "    lang='en', # by defaluts it's take 'en'\n",
        "    country='us', # by defaluts it's take 'us'\n",
        "    sort = Sort.NEWEST, # by defaults to Sort.MOST_RELEVANT, you can usee Sort.Newest to get newst reviews first\n",
        ")"
      ],
      "metadata": {
        "id": "e8wm2YaWQYkY"
      },
      "execution_count": 20,
      "outputs": []
    },
    {
      "cell_type": "markdown",
      "source": [
        "Let's see the preview data"
      ],
      "metadata": {
        "id": "e2FrBru5QUzN"
      }
    },
    {
      "cell_type": "code",
      "source": [
        "data_scraped6 = pd.DataFrame(np.array(result6),columns=['review'])\n",
        "data_scraped6 = data_scraped6.join(pd.DataFrame(data_scraped6.pop('review').tolist()))\n",
        "data_scraped6.head()"
      ],
      "metadata": {
        "colab": {
          "base_uri": "https://localhost:8080/",
          "height": 461
        },
        "id": "nKTTUoFkQd5y",
        "outputId": "498d31b9-23b8-4496-e3a6-5e8a1e2c71a7"
      },
      "execution_count": 21,
      "outputs": [
        {
          "output_type": "execute_result",
          "data": {
            "text/plain": [
              "                                            reviewId          userName  \\\n",
              "0  gp:AOqpTOFs8DlEB5lyWE0CVGUw6DUzKXahyR32bzciFHS...  Christine Wrobel   \n",
              "1  gp:AOqpTOE-jVrjsnhwBCKw79WVy2cnuunnKVc_JWRfwSs...     Terence Venes   \n",
              "2  gp:AOqpTOHlMZ2Z5gkTAM2X-83fIYs69o9SJfu3t2Wvnvy...        Derwin Lau   \n",
              "3  gp:AOqpTOFoZJC6UfwaniDM03pCGTiwpKLx1hBL_uMax2G...             Lyn C   \n",
              "4  gp:AOqpTOHmEskQIHOjneQUwjmUzVjqm3zBePismaesE9-...       Colin McKay   \n",
              "\n",
              "                                           userImage  \\\n",
              "0  https://play-lh.googleusercontent.com/a-/AOh14...   \n",
              "1  https://play-lh.googleusercontent.com/a/AATXAJ...   \n",
              "2  https://play-lh.googleusercontent.com/a-/AOh14...   \n",
              "3  https://play-lh.googleusercontent.com/a-/AOh14...   \n",
              "4  https://play-lh.googleusercontent.com/a-/AOh14...   \n",
              "\n",
              "                                             content  score  thumbsUpCount  \\\n",
              "0                           Can't use it on my phone      1              0   \n",
              "1                                           Required      5              0   \n",
              "2                              It is pretty useless.      1              0   \n",
              "3                 Comprehensive details - excellent.      5              0   \n",
              "4  Does this have any useful information any more...      3             37   \n",
              "\n",
              "  reviewCreatedVersion                  at replyContent repliedAt  \n",
              "0               1.4.10 2022-04-05 06:35:02         None      None  \n",
              "1               1.4.10 2022-03-18 18:48:46         None      None  \n",
              "2                 None 2022-02-24 07:53:18         None      None  \n",
              "3               1.4.10 2022-01-28 03:00:54         None      None  \n",
              "4               1.4.10 2022-01-24 22:11:32         None      None  "
            ],
            "text/html": [
              "\n",
              "  <div id=\"df-b1fe6d68-0ab0-421d-b179-6f6f33a17bb9\">\n",
              "    <div class=\"colab-df-container\">\n",
              "      <div>\n",
              "<style scoped>\n",
              "    .dataframe tbody tr th:only-of-type {\n",
              "        vertical-align: middle;\n",
              "    }\n",
              "\n",
              "    .dataframe tbody tr th {\n",
              "        vertical-align: top;\n",
              "    }\n",
              "\n",
              "    .dataframe thead th {\n",
              "        text-align: right;\n",
              "    }\n",
              "</style>\n",
              "<table border=\"1\" class=\"dataframe\">\n",
              "  <thead>\n",
              "    <tr style=\"text-align: right;\">\n",
              "      <th></th>\n",
              "      <th>reviewId</th>\n",
              "      <th>userName</th>\n",
              "      <th>userImage</th>\n",
              "      <th>content</th>\n",
              "      <th>score</th>\n",
              "      <th>thumbsUpCount</th>\n",
              "      <th>reviewCreatedVersion</th>\n",
              "      <th>at</th>\n",
              "      <th>replyContent</th>\n",
              "      <th>repliedAt</th>\n",
              "    </tr>\n",
              "  </thead>\n",
              "  <tbody>\n",
              "    <tr>\n",
              "      <th>0</th>\n",
              "      <td>gp:AOqpTOFs8DlEB5lyWE0CVGUw6DUzKXahyR32bzciFHS...</td>\n",
              "      <td>Christine Wrobel</td>\n",
              "      <td>https://play-lh.googleusercontent.com/a-/AOh14...</td>\n",
              "      <td>Can't use it on my phone</td>\n",
              "      <td>1</td>\n",
              "      <td>0</td>\n",
              "      <td>1.4.10</td>\n",
              "      <td>2022-04-05 06:35:02</td>\n",
              "      <td>None</td>\n",
              "      <td>None</td>\n",
              "    </tr>\n",
              "    <tr>\n",
              "      <th>1</th>\n",
              "      <td>gp:AOqpTOE-jVrjsnhwBCKw79WVy2cnuunnKVc_JWRfwSs...</td>\n",
              "      <td>Terence Venes</td>\n",
              "      <td>https://play-lh.googleusercontent.com/a/AATXAJ...</td>\n",
              "      <td>Required</td>\n",
              "      <td>5</td>\n",
              "      <td>0</td>\n",
              "      <td>1.4.10</td>\n",
              "      <td>2022-03-18 18:48:46</td>\n",
              "      <td>None</td>\n",
              "      <td>None</td>\n",
              "    </tr>\n",
              "    <tr>\n",
              "      <th>2</th>\n",
              "      <td>gp:AOqpTOHlMZ2Z5gkTAM2X-83fIYs69o9SJfu3t2Wvnvy...</td>\n",
              "      <td>Derwin Lau</td>\n",
              "      <td>https://play-lh.googleusercontent.com/a-/AOh14...</td>\n",
              "      <td>It is pretty useless.</td>\n",
              "      <td>1</td>\n",
              "      <td>0</td>\n",
              "      <td>None</td>\n",
              "      <td>2022-02-24 07:53:18</td>\n",
              "      <td>None</td>\n",
              "      <td>None</td>\n",
              "    </tr>\n",
              "    <tr>\n",
              "      <th>3</th>\n",
              "      <td>gp:AOqpTOFoZJC6UfwaniDM03pCGTiwpKLx1hBL_uMax2G...</td>\n",
              "      <td>Lyn C</td>\n",
              "      <td>https://play-lh.googleusercontent.com/a-/AOh14...</td>\n",
              "      <td>Comprehensive details - excellent.</td>\n",
              "      <td>5</td>\n",
              "      <td>0</td>\n",
              "      <td>1.4.10</td>\n",
              "      <td>2022-01-28 03:00:54</td>\n",
              "      <td>None</td>\n",
              "      <td>None</td>\n",
              "    </tr>\n",
              "    <tr>\n",
              "      <th>4</th>\n",
              "      <td>gp:AOqpTOHmEskQIHOjneQUwjmUzVjqm3zBePismaesE9-...</td>\n",
              "      <td>Colin McKay</td>\n",
              "      <td>https://play-lh.googleusercontent.com/a-/AOh14...</td>\n",
              "      <td>Does this have any useful information any more...</td>\n",
              "      <td>3</td>\n",
              "      <td>37</td>\n",
              "      <td>1.4.10</td>\n",
              "      <td>2022-01-24 22:11:32</td>\n",
              "      <td>None</td>\n",
              "      <td>None</td>\n",
              "    </tr>\n",
              "  </tbody>\n",
              "</table>\n",
              "</div>\n",
              "      <button class=\"colab-df-convert\" onclick=\"convertToInteractive('df-b1fe6d68-0ab0-421d-b179-6f6f33a17bb9')\"\n",
              "              title=\"Convert this dataframe to an interactive table.\"\n",
              "              style=\"display:none;\">\n",
              "        \n",
              "  <svg xmlns=\"http://www.w3.org/2000/svg\" height=\"24px\"viewBox=\"0 0 24 24\"\n",
              "       width=\"24px\">\n",
              "    <path d=\"M0 0h24v24H0V0z\" fill=\"none\"/>\n",
              "    <path d=\"M18.56 5.44l.94 2.06.94-2.06 2.06-.94-2.06-.94-.94-2.06-.94 2.06-2.06.94zm-11 1L8.5 8.5l.94-2.06 2.06-.94-2.06-.94L8.5 2.5l-.94 2.06-2.06.94zm10 10l.94 2.06.94-2.06 2.06-.94-2.06-.94-.94-2.06-.94 2.06-2.06.94z\"/><path d=\"M17.41 7.96l-1.37-1.37c-.4-.4-.92-.59-1.43-.59-.52 0-1.04.2-1.43.59L10.3 9.45l-7.72 7.72c-.78.78-.78 2.05 0 2.83L4 21.41c.39.39.9.59 1.41.59.51 0 1.02-.2 1.41-.59l7.78-7.78 2.81-2.81c.8-.78.8-2.07 0-2.86zM5.41 20L4 18.59l7.72-7.72 1.47 1.35L5.41 20z\"/>\n",
              "  </svg>\n",
              "      </button>\n",
              "      \n",
              "  <style>\n",
              "    .colab-df-container {\n",
              "      display:flex;\n",
              "      flex-wrap:wrap;\n",
              "      gap: 12px;\n",
              "    }\n",
              "\n",
              "    .colab-df-convert {\n",
              "      background-color: #E8F0FE;\n",
              "      border: none;\n",
              "      border-radius: 50%;\n",
              "      cursor: pointer;\n",
              "      display: none;\n",
              "      fill: #1967D2;\n",
              "      height: 32px;\n",
              "      padding: 0 0 0 0;\n",
              "      width: 32px;\n",
              "    }\n",
              "\n",
              "    .colab-df-convert:hover {\n",
              "      background-color: #E2EBFA;\n",
              "      box-shadow: 0px 1px 2px rgba(60, 64, 67, 0.3), 0px 1px 3px 1px rgba(60, 64, 67, 0.15);\n",
              "      fill: #174EA6;\n",
              "    }\n",
              "\n",
              "    [theme=dark] .colab-df-convert {\n",
              "      background-color: #3B4455;\n",
              "      fill: #D2E3FC;\n",
              "    }\n",
              "\n",
              "    [theme=dark] .colab-df-convert:hover {\n",
              "      background-color: #434B5C;\n",
              "      box-shadow: 0px 1px 3px 1px rgba(0, 0, 0, 0.15);\n",
              "      filter: drop-shadow(0px 1px 2px rgba(0, 0, 0, 0.3));\n",
              "      fill: #FFFFFF;\n",
              "    }\n",
              "  </style>\n",
              "\n",
              "      <script>\n",
              "        const buttonEl =\n",
              "          document.querySelector('#df-b1fe6d68-0ab0-421d-b179-6f6f33a17bb9 button.colab-df-convert');\n",
              "        buttonEl.style.display =\n",
              "          google.colab.kernel.accessAllowed ? 'block' : 'none';\n",
              "\n",
              "        async function convertToInteractive(key) {\n",
              "          const element = document.querySelector('#df-b1fe6d68-0ab0-421d-b179-6f6f33a17bb9');\n",
              "          const dataTable =\n",
              "            await google.colab.kernel.invokeFunction('convertToInteractive',\n",
              "                                                     [key], {});\n",
              "          if (!dataTable) return;\n",
              "\n",
              "          const docLinkHtml = 'Like what you see? Visit the ' +\n",
              "            '<a target=\"_blank\" href=https://colab.research.google.com/notebooks/data_table.ipynb>data table notebook</a>'\n",
              "            + ' to learn more about interactive tables.';\n",
              "          element.innerHTML = '';\n",
              "          dataTable['output_type'] = 'display_data';\n",
              "          await google.colab.output.renderOutput(dataTable, element);\n",
              "          const docLink = document.createElement('div');\n",
              "          docLink.innerHTML = docLinkHtml;\n",
              "          element.appendChild(docLink);\n",
              "        }\n",
              "      </script>\n",
              "    </div>\n",
              "  </div>\n",
              "  "
            ]
          },
          "metadata": {},
          "execution_count": 21
        }
      ]
    },
    {
      "cell_type": "markdown",
      "source": [
        "Let's see the count of the data that we got"
      ],
      "metadata": {
        "id": "BsxFKE-5QlIf"
      }
    },
    {
      "cell_type": "code",
      "source": [
        "len(data_scraped6.index)"
      ],
      "metadata": {
        "colab": {
          "base_uri": "https://localhost:8080/"
        },
        "id": "G4UdtHMQQqm4",
        "outputId": "0450f79b-68ac-4bf6-f3eb-fc1ac72780fa"
      },
      "execution_count": 22,
      "outputs": [
        {
          "output_type": "execute_result",
          "data": {
            "text/plain": [
              "837"
            ]
          },
          "metadata": {},
          "execution_count": 22
        }
      ]
    },
    {
      "cell_type": "markdown",
      "source": [
        "Code to download/import our data to our device"
      ],
      "metadata": {
        "id": "-1w9-dxAQtNO"
      }
    },
    {
      "cell_type": "code",
      "source": [
        "data_scraped6.to_csv(\"Coronavirus_Australia.csv\", index = False) #it's save the file as x csv."
      ],
      "metadata": {
        "id": "5nd2CldmQuGf"
      },
      "execution_count": 23,
      "outputs": []
    },
    {
      "cell_type": "markdown",
      "source": [
        "# 7) COVID-19 Andhra Pradesh App"
      ],
      "metadata": {
        "id": "SQMoPFxXRTLQ"
      }
    },
    {
      "cell_type": "code",
      "source": [
        "result7 = reviews_all(\n",
        "    'com.entrolabs.apcovid19',\n",
        "    sleep_milliseconds=0,  # by defaults it's take 0\n",
        "    lang='en', # by defaluts it's take 'en'\n",
        "    country='us', # by defaluts it's take 'us'\n",
        "    sort = Sort.NEWEST, # by defaults to Sort.MOST_RELEVANT, you can usee Sort.Newest to get newst reviews first\n",
        ")"
      ],
      "metadata": {
        "id": "AzIWPPmjRtfY"
      },
      "execution_count": 24,
      "outputs": []
    },
    {
      "cell_type": "markdown",
      "source": [
        "Let's see the preview data"
      ],
      "metadata": {
        "id": "Xe9sVDRKSAVu"
      }
    },
    {
      "cell_type": "code",
      "source": [
        "data_scraped7 = pd.DataFrame(np.array(result7),columns=['review'])\n",
        "data_scraped7 = data_scraped7.join(pd.DataFrame(data_scraped7.pop('review').tolist()))\n",
        "data_scraped7.head()"
      ],
      "metadata": {
        "colab": {
          "base_uri": "https://localhost:8080/",
          "height": 634
        },
        "id": "5Pgk4nJVSBN5",
        "outputId": "22cdd250-3ec0-4911-92aa-16ba028a6666"
      },
      "execution_count": 25,
      "outputs": [
        {
          "output_type": "execute_result",
          "data": {
            "text/plain": [
              "                                            reviewId                userName  \\\n",
              "0  gp:AOqpTOH9SQfRFKbgxNgq-3wSDRO_0p6-IsfOxhLk1-T...             PAVAN KUMAR   \n",
              "1  gp:AOqpTOGhtRalYBzUZnvHsJUk9QdLAPwLNZj3jFXVDuU...      subhashini gubbala   \n",
              "2  gp:AOqpTOEVBvt-o0MWtyuGFdaYUMDEakdohDBCpHRSTxX...  NARAPUREDDY YERRINAIDU   \n",
              "3  gp:AOqpTOFcaWNit6dwT1f_vujIi1mtJw43rNg0SzTGLbE...     Sudhir Peethambaran   \n",
              "4  gp:AOqpTOFwN2JTAmF53eAbIuosV_83ejepVdKj0CvKsnQ...            Jaipal Singh   \n",
              "\n",
              "                                           userImage  \\\n",
              "0  https://play-lh.googleusercontent.com/a-/AOh14...   \n",
              "1  https://play-lh.googleusercontent.com/a-/AOh14...   \n",
              "2  https://play-lh.googleusercontent.com/a/AATXAJ...   \n",
              "3  https://play-lh.googleusercontent.com/a-/AOh14...   \n",
              "4  https://play-lh.googleusercontent.com/a-/AOh14...   \n",
              "\n",
              "                                             content  score  thumbsUpCount  \\\n",
              "0                             This app not working 🚫      1              0   \n",
              "1  Worst service..not able to login only...it's n...      1              0   \n",
              "2  Very good 😊😊😊😊 Working accurately I am using s...      5              0   \n",
              "3                                             Useful      5              0   \n",
              "4  Not on time showing data showing ,some are not...      2              0   \n",
              "\n",
              "  reviewCreatedVersion                  at replyContent repliedAt  \n",
              "0                  1.9 2022-04-05 01:57:41         None       NaT  \n",
              "1                  1.9 2022-03-31 13:35:17         None       NaT  \n",
              "2                 None 2022-02-26 17:37:02         None       NaT  \n",
              "3                 None 2022-02-18 02:58:08         None       NaT  \n",
              "4                 None 2022-02-01 13:59:40         None       NaT  "
            ],
            "text/html": [
              "\n",
              "  <div id=\"df-059864db-c86a-4c28-b916-fa3491d33b9b\">\n",
              "    <div class=\"colab-df-container\">\n",
              "      <div>\n",
              "<style scoped>\n",
              "    .dataframe tbody tr th:only-of-type {\n",
              "        vertical-align: middle;\n",
              "    }\n",
              "\n",
              "    .dataframe tbody tr th {\n",
              "        vertical-align: top;\n",
              "    }\n",
              "\n",
              "    .dataframe thead th {\n",
              "        text-align: right;\n",
              "    }\n",
              "</style>\n",
              "<table border=\"1\" class=\"dataframe\">\n",
              "  <thead>\n",
              "    <tr style=\"text-align: right;\">\n",
              "      <th></th>\n",
              "      <th>reviewId</th>\n",
              "      <th>userName</th>\n",
              "      <th>userImage</th>\n",
              "      <th>content</th>\n",
              "      <th>score</th>\n",
              "      <th>thumbsUpCount</th>\n",
              "      <th>reviewCreatedVersion</th>\n",
              "      <th>at</th>\n",
              "      <th>replyContent</th>\n",
              "      <th>repliedAt</th>\n",
              "    </tr>\n",
              "  </thead>\n",
              "  <tbody>\n",
              "    <tr>\n",
              "      <th>0</th>\n",
              "      <td>gp:AOqpTOH9SQfRFKbgxNgq-3wSDRO_0p6-IsfOxhLk1-T...</td>\n",
              "      <td>PAVAN KUMAR</td>\n",
              "      <td>https://play-lh.googleusercontent.com/a-/AOh14...</td>\n",
              "      <td>This app not working 🚫</td>\n",
              "      <td>1</td>\n",
              "      <td>0</td>\n",
              "      <td>1.9</td>\n",
              "      <td>2022-04-05 01:57:41</td>\n",
              "      <td>None</td>\n",
              "      <td>NaT</td>\n",
              "    </tr>\n",
              "    <tr>\n",
              "      <th>1</th>\n",
              "      <td>gp:AOqpTOGhtRalYBzUZnvHsJUk9QdLAPwLNZj3jFXVDuU...</td>\n",
              "      <td>subhashini gubbala</td>\n",
              "      <td>https://play-lh.googleusercontent.com/a-/AOh14...</td>\n",
              "      <td>Worst service..not able to login only...it's n...</td>\n",
              "      <td>1</td>\n",
              "      <td>0</td>\n",
              "      <td>1.9</td>\n",
              "      <td>2022-03-31 13:35:17</td>\n",
              "      <td>None</td>\n",
              "      <td>NaT</td>\n",
              "    </tr>\n",
              "    <tr>\n",
              "      <th>2</th>\n",
              "      <td>gp:AOqpTOEVBvt-o0MWtyuGFdaYUMDEakdohDBCpHRSTxX...</td>\n",
              "      <td>NARAPUREDDY YERRINAIDU</td>\n",
              "      <td>https://play-lh.googleusercontent.com/a/AATXAJ...</td>\n",
              "      <td>Very good 😊😊😊😊 Working accurately I am using s...</td>\n",
              "      <td>5</td>\n",
              "      <td>0</td>\n",
              "      <td>None</td>\n",
              "      <td>2022-02-26 17:37:02</td>\n",
              "      <td>None</td>\n",
              "      <td>NaT</td>\n",
              "    </tr>\n",
              "    <tr>\n",
              "      <th>3</th>\n",
              "      <td>gp:AOqpTOFcaWNit6dwT1f_vujIi1mtJw43rNg0SzTGLbE...</td>\n",
              "      <td>Sudhir Peethambaran</td>\n",
              "      <td>https://play-lh.googleusercontent.com/a-/AOh14...</td>\n",
              "      <td>Useful</td>\n",
              "      <td>5</td>\n",
              "      <td>0</td>\n",
              "      <td>None</td>\n",
              "      <td>2022-02-18 02:58:08</td>\n",
              "      <td>None</td>\n",
              "      <td>NaT</td>\n",
              "    </tr>\n",
              "    <tr>\n",
              "      <th>4</th>\n",
              "      <td>gp:AOqpTOFwN2JTAmF53eAbIuosV_83ejepVdKj0CvKsnQ...</td>\n",
              "      <td>Jaipal Singh</td>\n",
              "      <td>https://play-lh.googleusercontent.com/a-/AOh14...</td>\n",
              "      <td>Not on time showing data showing ,some are not...</td>\n",
              "      <td>2</td>\n",
              "      <td>0</td>\n",
              "      <td>None</td>\n",
              "      <td>2022-02-01 13:59:40</td>\n",
              "      <td>None</td>\n",
              "      <td>NaT</td>\n",
              "    </tr>\n",
              "  </tbody>\n",
              "</table>\n",
              "</div>\n",
              "      <button class=\"colab-df-convert\" onclick=\"convertToInteractive('df-059864db-c86a-4c28-b916-fa3491d33b9b')\"\n",
              "              title=\"Convert this dataframe to an interactive table.\"\n",
              "              style=\"display:none;\">\n",
              "        \n",
              "  <svg xmlns=\"http://www.w3.org/2000/svg\" height=\"24px\"viewBox=\"0 0 24 24\"\n",
              "       width=\"24px\">\n",
              "    <path d=\"M0 0h24v24H0V0z\" fill=\"none\"/>\n",
              "    <path d=\"M18.56 5.44l.94 2.06.94-2.06 2.06-.94-2.06-.94-.94-2.06-.94 2.06-2.06.94zm-11 1L8.5 8.5l.94-2.06 2.06-.94-2.06-.94L8.5 2.5l-.94 2.06-2.06.94zm10 10l.94 2.06.94-2.06 2.06-.94-2.06-.94-.94-2.06-.94 2.06-2.06.94z\"/><path d=\"M17.41 7.96l-1.37-1.37c-.4-.4-.92-.59-1.43-.59-.52 0-1.04.2-1.43.59L10.3 9.45l-7.72 7.72c-.78.78-.78 2.05 0 2.83L4 21.41c.39.39.9.59 1.41.59.51 0 1.02-.2 1.41-.59l7.78-7.78 2.81-2.81c.8-.78.8-2.07 0-2.86zM5.41 20L4 18.59l7.72-7.72 1.47 1.35L5.41 20z\"/>\n",
              "  </svg>\n",
              "      </button>\n",
              "      \n",
              "  <style>\n",
              "    .colab-df-container {\n",
              "      display:flex;\n",
              "      flex-wrap:wrap;\n",
              "      gap: 12px;\n",
              "    }\n",
              "\n",
              "    .colab-df-convert {\n",
              "      background-color: #E8F0FE;\n",
              "      border: none;\n",
              "      border-radius: 50%;\n",
              "      cursor: pointer;\n",
              "      display: none;\n",
              "      fill: #1967D2;\n",
              "      height: 32px;\n",
              "      padding: 0 0 0 0;\n",
              "      width: 32px;\n",
              "    }\n",
              "\n",
              "    .colab-df-convert:hover {\n",
              "      background-color: #E2EBFA;\n",
              "      box-shadow: 0px 1px 2px rgba(60, 64, 67, 0.3), 0px 1px 3px 1px rgba(60, 64, 67, 0.15);\n",
              "      fill: #174EA6;\n",
              "    }\n",
              "\n",
              "    [theme=dark] .colab-df-convert {\n",
              "      background-color: #3B4455;\n",
              "      fill: #D2E3FC;\n",
              "    }\n",
              "\n",
              "    [theme=dark] .colab-df-convert:hover {\n",
              "      background-color: #434B5C;\n",
              "      box-shadow: 0px 1px 3px 1px rgba(0, 0, 0, 0.15);\n",
              "      filter: drop-shadow(0px 1px 2px rgba(0, 0, 0, 0.3));\n",
              "      fill: #FFFFFF;\n",
              "    }\n",
              "  </style>\n",
              "\n",
              "      <script>\n",
              "        const buttonEl =\n",
              "          document.querySelector('#df-059864db-c86a-4c28-b916-fa3491d33b9b button.colab-df-convert');\n",
              "        buttonEl.style.display =\n",
              "          google.colab.kernel.accessAllowed ? 'block' : 'none';\n",
              "\n",
              "        async function convertToInteractive(key) {\n",
              "          const element = document.querySelector('#df-059864db-c86a-4c28-b916-fa3491d33b9b');\n",
              "          const dataTable =\n",
              "            await google.colab.kernel.invokeFunction('convertToInteractive',\n",
              "                                                     [key], {});\n",
              "          if (!dataTable) return;\n",
              "\n",
              "          const docLinkHtml = 'Like what you see? Visit the ' +\n",
              "            '<a target=\"_blank\" href=https://colab.research.google.com/notebooks/data_table.ipynb>data table notebook</a>'\n",
              "            + ' to learn more about interactive tables.';\n",
              "          element.innerHTML = '';\n",
              "          dataTable['output_type'] = 'display_data';\n",
              "          await google.colab.output.renderOutput(dataTable, element);\n",
              "          const docLink = document.createElement('div');\n",
              "          docLink.innerHTML = docLinkHtml;\n",
              "          element.appendChild(docLink);\n",
              "        }\n",
              "      </script>\n",
              "    </div>\n",
              "  </div>\n",
              "  "
            ]
          },
          "metadata": {},
          "execution_count": 25
        }
      ]
    },
    {
      "cell_type": "markdown",
      "source": [
        "Let's see the count of the data that we got"
      ],
      "metadata": {
        "id": "W7nill-9SGEv"
      }
    },
    {
      "cell_type": "code",
      "source": [
        "len(data_scraped7.index)"
      ],
      "metadata": {
        "colab": {
          "base_uri": "https://localhost:8080/"
        },
        "id": "V9rFYeh9SHDs",
        "outputId": "1bbf39a9-de6c-461d-dfba-0ed89e048431"
      },
      "execution_count": 26,
      "outputs": [
        {
          "output_type": "execute_result",
          "data": {
            "text/plain": [
              "1588"
            ]
          },
          "metadata": {},
          "execution_count": 26
        }
      ]
    },
    {
      "cell_type": "markdown",
      "source": [
        "Code to download/import our data to our device"
      ],
      "metadata": {
        "id": "FvHfyPyWSLbn"
      }
    },
    {
      "cell_type": "code",
      "source": [
        "data_scraped7.to_csv(\"COVID19_Andhra_Pradesh.csv\", index = False) #it's save the file as x csv."
      ],
      "metadata": {
        "id": "ib_OvIcESN_g"
      },
      "execution_count": 34,
      "outputs": []
    },
    {
      "cell_type": "markdown",
      "source": [
        "# 8) STOP COVID 19 CAT App"
      ],
      "metadata": {
        "id": "s2q2yxwLTfdv"
      }
    },
    {
      "cell_type": "code",
      "source": [
        "result8 = reviews_all(\n",
        "    'com.entrolabs.apcovid19',\n",
        "    sleep_milliseconds=0,  # by defaults it's take 0\n",
        "    lang='en', # by defaluts it's take 'en'\n",
        "    country='us', # by defaluts it's take 'us'\n",
        "    sort = Sort.NEWEST, # by defaults to Sort.MOST_RELEVANT, you can usee Sort.Newest to get newst reviews first\n",
        ")"
      ],
      "metadata": {
        "id": "1ff4jV8ETloh"
      },
      "execution_count": 28,
      "outputs": []
    },
    {
      "cell_type": "markdown",
      "source": [
        "Let's see the preview data"
      ],
      "metadata": {
        "id": "YWb5Z-ZxT14z"
      }
    },
    {
      "cell_type": "code",
      "source": [
        "data_scraped8 = pd.DataFrame(np.array(result8),columns=['review'])\n",
        "data_scraped8 = data_scraped8.join(pd.DataFrame(data_scraped8.pop('review').tolist()))\n",
        "data_scraped8.head()"
      ],
      "metadata": {
        "colab": {
          "base_uri": "https://localhost:8080/",
          "height": 634
        },
        "id": "kiFx-DsLT23J",
        "outputId": "21a166dd-66d0-4734-8d84-0122a8264132"
      },
      "execution_count": 29,
      "outputs": [
        {
          "output_type": "execute_result",
          "data": {
            "text/plain": [
              "                                            reviewId                userName  \\\n",
              "0  gp:AOqpTOH9SQfRFKbgxNgq-3wSDRO_0p6-IsfOxhLk1-T...             PAVAN KUMAR   \n",
              "1  gp:AOqpTOGhtRalYBzUZnvHsJUk9QdLAPwLNZj3jFXVDuU...      subhashini gubbala   \n",
              "2  gp:AOqpTOEVBvt-o0MWtyuGFdaYUMDEakdohDBCpHRSTxX...  NARAPUREDDY YERRINAIDU   \n",
              "3  gp:AOqpTOFcaWNit6dwT1f_vujIi1mtJw43rNg0SzTGLbE...     Sudhir Peethambaran   \n",
              "4  gp:AOqpTOFwN2JTAmF53eAbIuosV_83ejepVdKj0CvKsnQ...            Jaipal Singh   \n",
              "\n",
              "                                           userImage  \\\n",
              "0  https://play-lh.googleusercontent.com/a-/AOh14...   \n",
              "1  https://play-lh.googleusercontent.com/a-/AOh14...   \n",
              "2  https://play-lh.googleusercontent.com/a/AATXAJ...   \n",
              "3  https://play-lh.googleusercontent.com/a-/AOh14...   \n",
              "4  https://play-lh.googleusercontent.com/a-/AOh14...   \n",
              "\n",
              "                                             content  score  thumbsUpCount  \\\n",
              "0                             This app not working 🚫      1              0   \n",
              "1  Worst service..not able to login only...it's n...      1              0   \n",
              "2  Very good 😊😊😊😊 Working accurately I am using s...      5              0   \n",
              "3                                             Useful      5              0   \n",
              "4  Not on time showing data showing ,some are not...      2              0   \n",
              "\n",
              "  reviewCreatedVersion                  at replyContent repliedAt  \n",
              "0                  1.9 2022-04-05 01:57:41         None       NaT  \n",
              "1                  1.9 2022-03-31 13:35:17         None       NaT  \n",
              "2                 None 2022-02-26 17:37:02         None       NaT  \n",
              "3                 None 2022-02-18 02:58:08         None       NaT  \n",
              "4                 None 2022-02-01 13:59:40         None       NaT  "
            ],
            "text/html": [
              "\n",
              "  <div id=\"df-bdd87eb0-799e-4e92-95f1-7fdfb92abbec\">\n",
              "    <div class=\"colab-df-container\">\n",
              "      <div>\n",
              "<style scoped>\n",
              "    .dataframe tbody tr th:only-of-type {\n",
              "        vertical-align: middle;\n",
              "    }\n",
              "\n",
              "    .dataframe tbody tr th {\n",
              "        vertical-align: top;\n",
              "    }\n",
              "\n",
              "    .dataframe thead th {\n",
              "        text-align: right;\n",
              "    }\n",
              "</style>\n",
              "<table border=\"1\" class=\"dataframe\">\n",
              "  <thead>\n",
              "    <tr style=\"text-align: right;\">\n",
              "      <th></th>\n",
              "      <th>reviewId</th>\n",
              "      <th>userName</th>\n",
              "      <th>userImage</th>\n",
              "      <th>content</th>\n",
              "      <th>score</th>\n",
              "      <th>thumbsUpCount</th>\n",
              "      <th>reviewCreatedVersion</th>\n",
              "      <th>at</th>\n",
              "      <th>replyContent</th>\n",
              "      <th>repliedAt</th>\n",
              "    </tr>\n",
              "  </thead>\n",
              "  <tbody>\n",
              "    <tr>\n",
              "      <th>0</th>\n",
              "      <td>gp:AOqpTOH9SQfRFKbgxNgq-3wSDRO_0p6-IsfOxhLk1-T...</td>\n",
              "      <td>PAVAN KUMAR</td>\n",
              "      <td>https://play-lh.googleusercontent.com/a-/AOh14...</td>\n",
              "      <td>This app not working 🚫</td>\n",
              "      <td>1</td>\n",
              "      <td>0</td>\n",
              "      <td>1.9</td>\n",
              "      <td>2022-04-05 01:57:41</td>\n",
              "      <td>None</td>\n",
              "      <td>NaT</td>\n",
              "    </tr>\n",
              "    <tr>\n",
              "      <th>1</th>\n",
              "      <td>gp:AOqpTOGhtRalYBzUZnvHsJUk9QdLAPwLNZj3jFXVDuU...</td>\n",
              "      <td>subhashini gubbala</td>\n",
              "      <td>https://play-lh.googleusercontent.com/a-/AOh14...</td>\n",
              "      <td>Worst service..not able to login only...it's n...</td>\n",
              "      <td>1</td>\n",
              "      <td>0</td>\n",
              "      <td>1.9</td>\n",
              "      <td>2022-03-31 13:35:17</td>\n",
              "      <td>None</td>\n",
              "      <td>NaT</td>\n",
              "    </tr>\n",
              "    <tr>\n",
              "      <th>2</th>\n",
              "      <td>gp:AOqpTOEVBvt-o0MWtyuGFdaYUMDEakdohDBCpHRSTxX...</td>\n",
              "      <td>NARAPUREDDY YERRINAIDU</td>\n",
              "      <td>https://play-lh.googleusercontent.com/a/AATXAJ...</td>\n",
              "      <td>Very good 😊😊😊😊 Working accurately I am using s...</td>\n",
              "      <td>5</td>\n",
              "      <td>0</td>\n",
              "      <td>None</td>\n",
              "      <td>2022-02-26 17:37:02</td>\n",
              "      <td>None</td>\n",
              "      <td>NaT</td>\n",
              "    </tr>\n",
              "    <tr>\n",
              "      <th>3</th>\n",
              "      <td>gp:AOqpTOFcaWNit6dwT1f_vujIi1mtJw43rNg0SzTGLbE...</td>\n",
              "      <td>Sudhir Peethambaran</td>\n",
              "      <td>https://play-lh.googleusercontent.com/a-/AOh14...</td>\n",
              "      <td>Useful</td>\n",
              "      <td>5</td>\n",
              "      <td>0</td>\n",
              "      <td>None</td>\n",
              "      <td>2022-02-18 02:58:08</td>\n",
              "      <td>None</td>\n",
              "      <td>NaT</td>\n",
              "    </tr>\n",
              "    <tr>\n",
              "      <th>4</th>\n",
              "      <td>gp:AOqpTOFwN2JTAmF53eAbIuosV_83ejepVdKj0CvKsnQ...</td>\n",
              "      <td>Jaipal Singh</td>\n",
              "      <td>https://play-lh.googleusercontent.com/a-/AOh14...</td>\n",
              "      <td>Not on time showing data showing ,some are not...</td>\n",
              "      <td>2</td>\n",
              "      <td>0</td>\n",
              "      <td>None</td>\n",
              "      <td>2022-02-01 13:59:40</td>\n",
              "      <td>None</td>\n",
              "      <td>NaT</td>\n",
              "    </tr>\n",
              "  </tbody>\n",
              "</table>\n",
              "</div>\n",
              "      <button class=\"colab-df-convert\" onclick=\"convertToInteractive('df-bdd87eb0-799e-4e92-95f1-7fdfb92abbec')\"\n",
              "              title=\"Convert this dataframe to an interactive table.\"\n",
              "              style=\"display:none;\">\n",
              "        \n",
              "  <svg xmlns=\"http://www.w3.org/2000/svg\" height=\"24px\"viewBox=\"0 0 24 24\"\n",
              "       width=\"24px\">\n",
              "    <path d=\"M0 0h24v24H0V0z\" fill=\"none\"/>\n",
              "    <path d=\"M18.56 5.44l.94 2.06.94-2.06 2.06-.94-2.06-.94-.94-2.06-.94 2.06-2.06.94zm-11 1L8.5 8.5l.94-2.06 2.06-.94-2.06-.94L8.5 2.5l-.94 2.06-2.06.94zm10 10l.94 2.06.94-2.06 2.06-.94-2.06-.94-.94-2.06-.94 2.06-2.06.94z\"/><path d=\"M17.41 7.96l-1.37-1.37c-.4-.4-.92-.59-1.43-.59-.52 0-1.04.2-1.43.59L10.3 9.45l-7.72 7.72c-.78.78-.78 2.05 0 2.83L4 21.41c.39.39.9.59 1.41.59.51 0 1.02-.2 1.41-.59l7.78-7.78 2.81-2.81c.8-.78.8-2.07 0-2.86zM5.41 20L4 18.59l7.72-7.72 1.47 1.35L5.41 20z\"/>\n",
              "  </svg>\n",
              "      </button>\n",
              "      \n",
              "  <style>\n",
              "    .colab-df-container {\n",
              "      display:flex;\n",
              "      flex-wrap:wrap;\n",
              "      gap: 12px;\n",
              "    }\n",
              "\n",
              "    .colab-df-convert {\n",
              "      background-color: #E8F0FE;\n",
              "      border: none;\n",
              "      border-radius: 50%;\n",
              "      cursor: pointer;\n",
              "      display: none;\n",
              "      fill: #1967D2;\n",
              "      height: 32px;\n",
              "      padding: 0 0 0 0;\n",
              "      width: 32px;\n",
              "    }\n",
              "\n",
              "    .colab-df-convert:hover {\n",
              "      background-color: #E2EBFA;\n",
              "      box-shadow: 0px 1px 2px rgba(60, 64, 67, 0.3), 0px 1px 3px 1px rgba(60, 64, 67, 0.15);\n",
              "      fill: #174EA6;\n",
              "    }\n",
              "\n",
              "    [theme=dark] .colab-df-convert {\n",
              "      background-color: #3B4455;\n",
              "      fill: #D2E3FC;\n",
              "    }\n",
              "\n",
              "    [theme=dark] .colab-df-convert:hover {\n",
              "      background-color: #434B5C;\n",
              "      box-shadow: 0px 1px 3px 1px rgba(0, 0, 0, 0.15);\n",
              "      filter: drop-shadow(0px 1px 2px rgba(0, 0, 0, 0.3));\n",
              "      fill: #FFFFFF;\n",
              "    }\n",
              "  </style>\n",
              "\n",
              "      <script>\n",
              "        const buttonEl =\n",
              "          document.querySelector('#df-bdd87eb0-799e-4e92-95f1-7fdfb92abbec button.colab-df-convert');\n",
              "        buttonEl.style.display =\n",
              "          google.colab.kernel.accessAllowed ? 'block' : 'none';\n",
              "\n",
              "        async function convertToInteractive(key) {\n",
              "          const element = document.querySelector('#df-bdd87eb0-799e-4e92-95f1-7fdfb92abbec');\n",
              "          const dataTable =\n",
              "            await google.colab.kernel.invokeFunction('convertToInteractive',\n",
              "                                                     [key], {});\n",
              "          if (!dataTable) return;\n",
              "\n",
              "          const docLinkHtml = 'Like what you see? Visit the ' +\n",
              "            '<a target=\"_blank\" href=https://colab.research.google.com/notebooks/data_table.ipynb>data table notebook</a>'\n",
              "            + ' to learn more about interactive tables.';\n",
              "          element.innerHTML = '';\n",
              "          dataTable['output_type'] = 'display_data';\n",
              "          await google.colab.output.renderOutput(dataTable, element);\n",
              "          const docLink = document.createElement('div');\n",
              "          docLink.innerHTML = docLinkHtml;\n",
              "          element.appendChild(docLink);\n",
              "        }\n",
              "      </script>\n",
              "    </div>\n",
              "  </div>\n",
              "  "
            ]
          },
          "metadata": {},
          "execution_count": 29
        }
      ]
    },
    {
      "cell_type": "markdown",
      "source": [
        "Let's see the count of the data that we got"
      ],
      "metadata": {
        "id": "ROQB_XHST54T"
      }
    },
    {
      "cell_type": "code",
      "source": [
        "len(data_scraped8.index)"
      ],
      "metadata": {
        "colab": {
          "base_uri": "https://localhost:8080/"
        },
        "id": "YjPfDvhsT_kV",
        "outputId": "5ae11943-a201-4c88-8f4f-f4329d83fcd1"
      },
      "execution_count": 30,
      "outputs": [
        {
          "output_type": "execute_result",
          "data": {
            "text/plain": [
              "1588"
            ]
          },
          "metadata": {},
          "execution_count": 30
        }
      ]
    },
    {
      "cell_type": "markdown",
      "source": [
        "Code to download/import our data to our device"
      ],
      "metadata": {
        "id": "bC7_8znzUEG6"
      }
    },
    {
      "cell_type": "code",
      "source": [
        "data_scraped8.to_csv(\"STOP_COVID19_CAT.csv\", index = False) #it's save the file as x csv."
      ],
      "metadata": {
        "id": "OgXukBilUKsh"
      },
      "execution_count": 33,
      "outputs": []
    },
    {
      "cell_type": "markdown",
      "source": [
        "# 9) ArriveCAN app"
      ],
      "metadata": {
        "id": "0CuH0DeYc5R4"
      }
    },
    {
      "cell_type": "code",
      "source": [
        "result9 = reviews_all(\n",
        "    'ca.gc.cbsa.coronavirus',\n",
        "    sleep_milliseconds=0,  # by defaults it's take 0\n",
        "    lang='en', # by defaluts it's take 'en'\n",
        "    country='us', # by defaluts it's take 'us'\n",
        "    sort = Sort.NEWEST, # by defaults to Sort.MOST_RELEVANT, you can usee Sort.Newest to get newst reviews first\n",
        ")"
      ],
      "metadata": {
        "id": "Mmk-ebo2e34P"
      },
      "execution_count": 35,
      "outputs": []
    },
    {
      "cell_type": "markdown",
      "source": [
        "Let's see the preview data"
      ],
      "metadata": {
        "id": "KOKl0Tdmm0hk"
      }
    },
    {
      "cell_type": "code",
      "source": [
        "data_scraped9 = pd.DataFrame(np.array(result9),columns=['review'])\n",
        "data_scraped9 = data_scraped9.join(pd.DataFrame(data_scraped9.pop('review').tolist()))\n",
        "data_scraped9.head()"
      ],
      "metadata": {
        "colab": {
          "base_uri": "https://localhost:8080/",
          "height": 652
        },
        "id": "B7dbY7X_m1WU",
        "outputId": "c3bdc498-814f-4407-9052-57523618c3bf"
      },
      "execution_count": 36,
      "outputs": [
        {
          "output_type": "execute_result",
          "data": {
            "text/plain": [
              "                                            reviewId            userName  \\\n",
              "0  gp:AOqpTOFsLJMc8IeMCG4dhGUZ66eo5jiUu4qx3L7-Azy...  Because I am a Boy   \n",
              "1  gp:AOqpTOHkHC1IjTjbY9wPwrCrHBQn9CBKyHBQAqfUdhn...           Darkblaze   \n",
              "2  gp:AOqpTOF6UDeTowuniLIPpwBQCfEkmbNRZEbZLuNFved...          Dave Black   \n",
              "3  gp:AOqpTOHaybpYdKz-kqH0gFZW5P-v6pdJBgYYCtRA60L...        andy greiner   \n",
              "4  gp:AOqpTOHPdktKxUZQFD62lqCon8Z0V1EdPFM5sOSfEFX...          FroZe RoZe   \n",
              "\n",
              "                                           userImage  \\\n",
              "0  https://play-lh.googleusercontent.com/a-/AOh14...   \n",
              "1  https://play-lh.googleusercontent.com/a-/AOh14...   \n",
              "2  https://play-lh.googleusercontent.com/a/AATXAJ...   \n",
              "3  https://play-lh.googleusercontent.com/a/AATXAJ...   \n",
              "4  https://play-lh.googleusercontent.com/a-/AOh14...   \n",
              "\n",
              "                                             content  score  thumbsUpCount  \\\n",
              "0  Junk like everything else coming from this pos...      1              0   \n",
              "1  Wasn't a fan on how you can't add multiple doc...      2              0   \n",
              "2                                     Ok it was easy      5              0   \n",
              "3  Did it in 2 minutes on my Samsung. Third time ...      3              0   \n",
              "4  Doesn't even work half the time, so glad our t...      1              0   \n",
              "\n",
              "  reviewCreatedVersion                  at replyContent repliedAt  \n",
              "0               2.27.2 2022-04-10 11:10:30         None       NaT  \n",
              "1                 None 2022-04-10 05:38:02         None       NaT  \n",
              "2               2.27.2 2022-04-10 01:35:21         None       NaT  \n",
              "3               2.27.2 2022-04-10 01:19:34         None       NaT  \n",
              "4               2.27.2 2022-04-10 00:32:38         None       NaT  "
            ],
            "text/html": [
              "\n",
              "  <div id=\"df-a7caab0e-ed50-47ad-a853-a0c0ded83f21\">\n",
              "    <div class=\"colab-df-container\">\n",
              "      <div>\n",
              "<style scoped>\n",
              "    .dataframe tbody tr th:only-of-type {\n",
              "        vertical-align: middle;\n",
              "    }\n",
              "\n",
              "    .dataframe tbody tr th {\n",
              "        vertical-align: top;\n",
              "    }\n",
              "\n",
              "    .dataframe thead th {\n",
              "        text-align: right;\n",
              "    }\n",
              "</style>\n",
              "<table border=\"1\" class=\"dataframe\">\n",
              "  <thead>\n",
              "    <tr style=\"text-align: right;\">\n",
              "      <th></th>\n",
              "      <th>reviewId</th>\n",
              "      <th>userName</th>\n",
              "      <th>userImage</th>\n",
              "      <th>content</th>\n",
              "      <th>score</th>\n",
              "      <th>thumbsUpCount</th>\n",
              "      <th>reviewCreatedVersion</th>\n",
              "      <th>at</th>\n",
              "      <th>replyContent</th>\n",
              "      <th>repliedAt</th>\n",
              "    </tr>\n",
              "  </thead>\n",
              "  <tbody>\n",
              "    <tr>\n",
              "      <th>0</th>\n",
              "      <td>gp:AOqpTOFsLJMc8IeMCG4dhGUZ66eo5jiUu4qx3L7-Azy...</td>\n",
              "      <td>Because I am a Boy</td>\n",
              "      <td>https://play-lh.googleusercontent.com/a-/AOh14...</td>\n",
              "      <td>Junk like everything else coming from this pos...</td>\n",
              "      <td>1</td>\n",
              "      <td>0</td>\n",
              "      <td>2.27.2</td>\n",
              "      <td>2022-04-10 11:10:30</td>\n",
              "      <td>None</td>\n",
              "      <td>NaT</td>\n",
              "    </tr>\n",
              "    <tr>\n",
              "      <th>1</th>\n",
              "      <td>gp:AOqpTOHkHC1IjTjbY9wPwrCrHBQn9CBKyHBQAqfUdhn...</td>\n",
              "      <td>Darkblaze</td>\n",
              "      <td>https://play-lh.googleusercontent.com/a-/AOh14...</td>\n",
              "      <td>Wasn't a fan on how you can't add multiple doc...</td>\n",
              "      <td>2</td>\n",
              "      <td>0</td>\n",
              "      <td>None</td>\n",
              "      <td>2022-04-10 05:38:02</td>\n",
              "      <td>None</td>\n",
              "      <td>NaT</td>\n",
              "    </tr>\n",
              "    <tr>\n",
              "      <th>2</th>\n",
              "      <td>gp:AOqpTOF6UDeTowuniLIPpwBQCfEkmbNRZEbZLuNFved...</td>\n",
              "      <td>Dave Black</td>\n",
              "      <td>https://play-lh.googleusercontent.com/a/AATXAJ...</td>\n",
              "      <td>Ok it was easy</td>\n",
              "      <td>5</td>\n",
              "      <td>0</td>\n",
              "      <td>2.27.2</td>\n",
              "      <td>2022-04-10 01:35:21</td>\n",
              "      <td>None</td>\n",
              "      <td>NaT</td>\n",
              "    </tr>\n",
              "    <tr>\n",
              "      <th>3</th>\n",
              "      <td>gp:AOqpTOHaybpYdKz-kqH0gFZW5P-v6pdJBgYYCtRA60L...</td>\n",
              "      <td>andy greiner</td>\n",
              "      <td>https://play-lh.googleusercontent.com/a/AATXAJ...</td>\n",
              "      <td>Did it in 2 minutes on my Samsung. Third time ...</td>\n",
              "      <td>3</td>\n",
              "      <td>0</td>\n",
              "      <td>2.27.2</td>\n",
              "      <td>2022-04-10 01:19:34</td>\n",
              "      <td>None</td>\n",
              "      <td>NaT</td>\n",
              "    </tr>\n",
              "    <tr>\n",
              "      <th>4</th>\n",
              "      <td>gp:AOqpTOHPdktKxUZQFD62lqCon8Z0V1EdPFM5sOSfEFX...</td>\n",
              "      <td>FroZe RoZe</td>\n",
              "      <td>https://play-lh.googleusercontent.com/a-/AOh14...</td>\n",
              "      <td>Doesn't even work half the time, so glad our t...</td>\n",
              "      <td>1</td>\n",
              "      <td>0</td>\n",
              "      <td>2.27.2</td>\n",
              "      <td>2022-04-10 00:32:38</td>\n",
              "      <td>None</td>\n",
              "      <td>NaT</td>\n",
              "    </tr>\n",
              "  </tbody>\n",
              "</table>\n",
              "</div>\n",
              "      <button class=\"colab-df-convert\" onclick=\"convertToInteractive('df-a7caab0e-ed50-47ad-a853-a0c0ded83f21')\"\n",
              "              title=\"Convert this dataframe to an interactive table.\"\n",
              "              style=\"display:none;\">\n",
              "        \n",
              "  <svg xmlns=\"http://www.w3.org/2000/svg\" height=\"24px\"viewBox=\"0 0 24 24\"\n",
              "       width=\"24px\">\n",
              "    <path d=\"M0 0h24v24H0V0z\" fill=\"none\"/>\n",
              "    <path d=\"M18.56 5.44l.94 2.06.94-2.06 2.06-.94-2.06-.94-.94-2.06-.94 2.06-2.06.94zm-11 1L8.5 8.5l.94-2.06 2.06-.94-2.06-.94L8.5 2.5l-.94 2.06-2.06.94zm10 10l.94 2.06.94-2.06 2.06-.94-2.06-.94-.94-2.06-.94 2.06-2.06.94z\"/><path d=\"M17.41 7.96l-1.37-1.37c-.4-.4-.92-.59-1.43-.59-.52 0-1.04.2-1.43.59L10.3 9.45l-7.72 7.72c-.78.78-.78 2.05 0 2.83L4 21.41c.39.39.9.59 1.41.59.51 0 1.02-.2 1.41-.59l7.78-7.78 2.81-2.81c.8-.78.8-2.07 0-2.86zM5.41 20L4 18.59l7.72-7.72 1.47 1.35L5.41 20z\"/>\n",
              "  </svg>\n",
              "      </button>\n",
              "      \n",
              "  <style>\n",
              "    .colab-df-container {\n",
              "      display:flex;\n",
              "      flex-wrap:wrap;\n",
              "      gap: 12px;\n",
              "    }\n",
              "\n",
              "    .colab-df-convert {\n",
              "      background-color: #E8F0FE;\n",
              "      border: none;\n",
              "      border-radius: 50%;\n",
              "      cursor: pointer;\n",
              "      display: none;\n",
              "      fill: #1967D2;\n",
              "      height: 32px;\n",
              "      padding: 0 0 0 0;\n",
              "      width: 32px;\n",
              "    }\n",
              "\n",
              "    .colab-df-convert:hover {\n",
              "      background-color: #E2EBFA;\n",
              "      box-shadow: 0px 1px 2px rgba(60, 64, 67, 0.3), 0px 1px 3px 1px rgba(60, 64, 67, 0.15);\n",
              "      fill: #174EA6;\n",
              "    }\n",
              "\n",
              "    [theme=dark] .colab-df-convert {\n",
              "      background-color: #3B4455;\n",
              "      fill: #D2E3FC;\n",
              "    }\n",
              "\n",
              "    [theme=dark] .colab-df-convert:hover {\n",
              "      background-color: #434B5C;\n",
              "      box-shadow: 0px 1px 3px 1px rgba(0, 0, 0, 0.15);\n",
              "      filter: drop-shadow(0px 1px 2px rgba(0, 0, 0, 0.3));\n",
              "      fill: #FFFFFF;\n",
              "    }\n",
              "  </style>\n",
              "\n",
              "      <script>\n",
              "        const buttonEl =\n",
              "          document.querySelector('#df-a7caab0e-ed50-47ad-a853-a0c0ded83f21 button.colab-df-convert');\n",
              "        buttonEl.style.display =\n",
              "          google.colab.kernel.accessAllowed ? 'block' : 'none';\n",
              "\n",
              "        async function convertToInteractive(key) {\n",
              "          const element = document.querySelector('#df-a7caab0e-ed50-47ad-a853-a0c0ded83f21');\n",
              "          const dataTable =\n",
              "            await google.colab.kernel.invokeFunction('convertToInteractive',\n",
              "                                                     [key], {});\n",
              "          if (!dataTable) return;\n",
              "\n",
              "          const docLinkHtml = 'Like what you see? Visit the ' +\n",
              "            '<a target=\"_blank\" href=https://colab.research.google.com/notebooks/data_table.ipynb>data table notebook</a>'\n",
              "            + ' to learn more about interactive tables.';\n",
              "          element.innerHTML = '';\n",
              "          dataTable['output_type'] = 'display_data';\n",
              "          await google.colab.output.renderOutput(dataTable, element);\n",
              "          const docLink = document.createElement('div');\n",
              "          docLink.innerHTML = docLinkHtml;\n",
              "          element.appendChild(docLink);\n",
              "        }\n",
              "      </script>\n",
              "    </div>\n",
              "  </div>\n",
              "  "
            ]
          },
          "metadata": {},
          "execution_count": 36
        }
      ]
    },
    {
      "cell_type": "markdown",
      "source": [
        "Let's see the count of the data that we got"
      ],
      "metadata": {
        "id": "1baWasN7m4Ko"
      }
    },
    {
      "cell_type": "code",
      "source": [
        "len(data_scraped9.index)"
      ],
      "metadata": {
        "colab": {
          "base_uri": "https://localhost:8080/"
        },
        "id": "4pvwhNDam7L0",
        "outputId": "af982454-f292-4f07-f05f-8cbbb987c963"
      },
      "execution_count": 37,
      "outputs": [
        {
          "output_type": "execute_result",
          "data": {
            "text/plain": [
              "5227"
            ]
          },
          "metadata": {},
          "execution_count": 37
        }
      ]
    },
    {
      "cell_type": "markdown",
      "source": [
        "Code to download/import our data to our device"
      ],
      "metadata": {
        "id": "Lo9OCbPqnOR6"
      }
    },
    {
      "cell_type": "code",
      "source": [
        "data_scraped9.to_csv(\"ArriveCAN.csv\", index = False) #it's save the file as x csv."
      ],
      "metadata": {
        "id": "itLtRFEGnPbj"
      },
      "execution_count": 38,
      "outputs": []
    },
    {
      "cell_type": "markdown",
      "source": [
        "# 10) COVID Alert app"
      ],
      "metadata": {
        "id": "sm0WWMAknwrI"
      }
    },
    {
      "cell_type": "code",
      "source": [
        "result10 = reviews_all(\n",
        "    'ca.gc.hcsc.canada.stopcovid',\n",
        "    sleep_milliseconds=0,  # by defaults it's take 0\n",
        "    lang='en', # by defaluts it's take 'en'\n",
        "    country='us', # by defaluts it's take 'us'\n",
        "    sort = Sort.NEWEST, # by defaults to Sort.MOST_RELEVANT, you can usee Sort.Newest to get newst reviews first\n",
        ")"
      ],
      "metadata": {
        "id": "MIO_RaB4n3IT"
      },
      "execution_count": 39,
      "outputs": []
    },
    {
      "cell_type": "markdown",
      "source": [
        "Let's see the preview data"
      ],
      "metadata": {
        "id": "1o2VyeZMoAH8"
      }
    },
    {
      "cell_type": "code",
      "source": [
        "data_scraped10 = pd.DataFrame(np.array(result10),columns=['review'])\n",
        "data_scraped10 = data_scraped10.join(pd.DataFrame(data_scraped10.pop('review').tolist()))\n",
        "data_scraped10.head()"
      ],
      "metadata": {
        "colab": {
          "base_uri": "https://localhost:8080/",
          "height": 738
        },
        "id": "HWGPGiv8oDfo",
        "outputId": "c1fac48d-df21-4496-a01c-668c38544bda"
      },
      "execution_count": 40,
      "outputs": [
        {
          "output_type": "execute_result",
          "data": {
            "text/plain": [
              "                                            reviewId       userName  \\\n",
              "0  gp:AOqpTOHQ2Qk64eGZJeBEMaDZkZjn3RAXmOy-dIBqGgF...   Thomas Bardy   \n",
              "1  gp:AOqpTOGy6o4oX_-F27g3RyeZS2kf9qCZLCBUjjn9Mh8...   Stefan Lukus   \n",
              "2  gp:AOqpTOFqDFWFGOjFgILNyiyqcWcnIuLjjUMfkG9-4ez...  jayden murray   \n",
              "3  gp:AOqpTOFpHvuXHEJiVo6_vF2kNXDRacHrZkG1F4AnEXV...    Angela Xiao   \n",
              "4  gp:AOqpTOGPzFF9Z-gKRijxbRJYzLiFt3FpCvQRKYkRlUr...   Shelly Tomic   \n",
              "\n",
              "                                           userImage  \\\n",
              "0  https://play-lh.googleusercontent.com/a/AATXAJ...   \n",
              "1  https://play-lh.googleusercontent.com/a-/AOh14...   \n",
              "2  https://play-lh.googleusercontent.com/a/AATXAJ...   \n",
              "3  https://play-lh.googleusercontent.com/a/AATXAJ...   \n",
              "4  https://play-lh.googleusercontent.com/a-/AOh14...   \n",
              "\n",
              "                                             content  score  thumbsUpCount  \\\n",
              "0  Informs me when I've been out shopping I get a...      5              0   \n",
              "1  There have been 10 confirmed cases of covid in...      1              0   \n",
              "2  Bruh like I turn off my Bluetooth to improve p...      1              0   \n",
              "3  I use a OnePlus phone bought outside of Canada...      2              0   \n",
              "4  I am always looking for a better way to protec...      4              0   \n",
              "\n",
              "  reviewCreatedVersion                  at  \\\n",
              "0                1.5.3 2022-04-08 23:52:26   \n",
              "1                1.5.3 2022-04-07 22:58:51   \n",
              "2                1.5.3 2022-04-07 06:45:00   \n",
              "3                1.5.3 2022-04-05 15:28:16   \n",
              "4                 None 2022-04-04 14:34:07   \n",
              "\n",
              "                                        replyContent           repliedAt  \n",
              "0                                               None                 NaT  \n",
              "1                                               None                 NaT  \n",
              "2                                               None                 NaT  \n",
              "3  Certain Android users have reported this issue... 2022-04-06 11:24:52  \n",
              "4                                               None                 NaT  "
            ],
            "text/html": [
              "\n",
              "  <div id=\"df-80446526-14be-4164-9cf5-a0f180fba790\">\n",
              "    <div class=\"colab-df-container\">\n",
              "      <div>\n",
              "<style scoped>\n",
              "    .dataframe tbody tr th:only-of-type {\n",
              "        vertical-align: middle;\n",
              "    }\n",
              "\n",
              "    .dataframe tbody tr th {\n",
              "        vertical-align: top;\n",
              "    }\n",
              "\n",
              "    .dataframe thead th {\n",
              "        text-align: right;\n",
              "    }\n",
              "</style>\n",
              "<table border=\"1\" class=\"dataframe\">\n",
              "  <thead>\n",
              "    <tr style=\"text-align: right;\">\n",
              "      <th></th>\n",
              "      <th>reviewId</th>\n",
              "      <th>userName</th>\n",
              "      <th>userImage</th>\n",
              "      <th>content</th>\n",
              "      <th>score</th>\n",
              "      <th>thumbsUpCount</th>\n",
              "      <th>reviewCreatedVersion</th>\n",
              "      <th>at</th>\n",
              "      <th>replyContent</th>\n",
              "      <th>repliedAt</th>\n",
              "    </tr>\n",
              "  </thead>\n",
              "  <tbody>\n",
              "    <tr>\n",
              "      <th>0</th>\n",
              "      <td>gp:AOqpTOHQ2Qk64eGZJeBEMaDZkZjn3RAXmOy-dIBqGgF...</td>\n",
              "      <td>Thomas Bardy</td>\n",
              "      <td>https://play-lh.googleusercontent.com/a/AATXAJ...</td>\n",
              "      <td>Informs me when I've been out shopping I get a...</td>\n",
              "      <td>5</td>\n",
              "      <td>0</td>\n",
              "      <td>1.5.3</td>\n",
              "      <td>2022-04-08 23:52:26</td>\n",
              "      <td>None</td>\n",
              "      <td>NaT</td>\n",
              "    </tr>\n",
              "    <tr>\n",
              "      <th>1</th>\n",
              "      <td>gp:AOqpTOGy6o4oX_-F27g3RyeZS2kf9qCZLCBUjjn9Mh8...</td>\n",
              "      <td>Stefan Lukus</td>\n",
              "      <td>https://play-lh.googleusercontent.com/a-/AOh14...</td>\n",
              "      <td>There have been 10 confirmed cases of covid in...</td>\n",
              "      <td>1</td>\n",
              "      <td>0</td>\n",
              "      <td>1.5.3</td>\n",
              "      <td>2022-04-07 22:58:51</td>\n",
              "      <td>None</td>\n",
              "      <td>NaT</td>\n",
              "    </tr>\n",
              "    <tr>\n",
              "      <th>2</th>\n",
              "      <td>gp:AOqpTOFqDFWFGOjFgILNyiyqcWcnIuLjjUMfkG9-4ez...</td>\n",
              "      <td>jayden murray</td>\n",
              "      <td>https://play-lh.googleusercontent.com/a/AATXAJ...</td>\n",
              "      <td>Bruh like I turn off my Bluetooth to improve p...</td>\n",
              "      <td>1</td>\n",
              "      <td>0</td>\n",
              "      <td>1.5.3</td>\n",
              "      <td>2022-04-07 06:45:00</td>\n",
              "      <td>None</td>\n",
              "      <td>NaT</td>\n",
              "    </tr>\n",
              "    <tr>\n",
              "      <th>3</th>\n",
              "      <td>gp:AOqpTOFpHvuXHEJiVo6_vF2kNXDRacHrZkG1F4AnEXV...</td>\n",
              "      <td>Angela Xiao</td>\n",
              "      <td>https://play-lh.googleusercontent.com/a/AATXAJ...</td>\n",
              "      <td>I use a OnePlus phone bought outside of Canada...</td>\n",
              "      <td>2</td>\n",
              "      <td>0</td>\n",
              "      <td>1.5.3</td>\n",
              "      <td>2022-04-05 15:28:16</td>\n",
              "      <td>Certain Android users have reported this issue...</td>\n",
              "      <td>2022-04-06 11:24:52</td>\n",
              "    </tr>\n",
              "    <tr>\n",
              "      <th>4</th>\n",
              "      <td>gp:AOqpTOGPzFF9Z-gKRijxbRJYzLiFt3FpCvQRKYkRlUr...</td>\n",
              "      <td>Shelly Tomic</td>\n",
              "      <td>https://play-lh.googleusercontent.com/a-/AOh14...</td>\n",
              "      <td>I am always looking for a better way to protec...</td>\n",
              "      <td>4</td>\n",
              "      <td>0</td>\n",
              "      <td>None</td>\n",
              "      <td>2022-04-04 14:34:07</td>\n",
              "      <td>None</td>\n",
              "      <td>NaT</td>\n",
              "    </tr>\n",
              "  </tbody>\n",
              "</table>\n",
              "</div>\n",
              "      <button class=\"colab-df-convert\" onclick=\"convertToInteractive('df-80446526-14be-4164-9cf5-a0f180fba790')\"\n",
              "              title=\"Convert this dataframe to an interactive table.\"\n",
              "              style=\"display:none;\">\n",
              "        \n",
              "  <svg xmlns=\"http://www.w3.org/2000/svg\" height=\"24px\"viewBox=\"0 0 24 24\"\n",
              "       width=\"24px\">\n",
              "    <path d=\"M0 0h24v24H0V0z\" fill=\"none\"/>\n",
              "    <path d=\"M18.56 5.44l.94 2.06.94-2.06 2.06-.94-2.06-.94-.94-2.06-.94 2.06-2.06.94zm-11 1L8.5 8.5l.94-2.06 2.06-.94-2.06-.94L8.5 2.5l-.94 2.06-2.06.94zm10 10l.94 2.06.94-2.06 2.06-.94-2.06-.94-.94-2.06-.94 2.06-2.06.94z\"/><path d=\"M17.41 7.96l-1.37-1.37c-.4-.4-.92-.59-1.43-.59-.52 0-1.04.2-1.43.59L10.3 9.45l-7.72 7.72c-.78.78-.78 2.05 0 2.83L4 21.41c.39.39.9.59 1.41.59.51 0 1.02-.2 1.41-.59l7.78-7.78 2.81-2.81c.8-.78.8-2.07 0-2.86zM5.41 20L4 18.59l7.72-7.72 1.47 1.35L5.41 20z\"/>\n",
              "  </svg>\n",
              "      </button>\n",
              "      \n",
              "  <style>\n",
              "    .colab-df-container {\n",
              "      display:flex;\n",
              "      flex-wrap:wrap;\n",
              "      gap: 12px;\n",
              "    }\n",
              "\n",
              "    .colab-df-convert {\n",
              "      background-color: #E8F0FE;\n",
              "      border: none;\n",
              "      border-radius: 50%;\n",
              "      cursor: pointer;\n",
              "      display: none;\n",
              "      fill: #1967D2;\n",
              "      height: 32px;\n",
              "      padding: 0 0 0 0;\n",
              "      width: 32px;\n",
              "    }\n",
              "\n",
              "    .colab-df-convert:hover {\n",
              "      background-color: #E2EBFA;\n",
              "      box-shadow: 0px 1px 2px rgba(60, 64, 67, 0.3), 0px 1px 3px 1px rgba(60, 64, 67, 0.15);\n",
              "      fill: #174EA6;\n",
              "    }\n",
              "\n",
              "    [theme=dark] .colab-df-convert {\n",
              "      background-color: #3B4455;\n",
              "      fill: #D2E3FC;\n",
              "    }\n",
              "\n",
              "    [theme=dark] .colab-df-convert:hover {\n",
              "      background-color: #434B5C;\n",
              "      box-shadow: 0px 1px 3px 1px rgba(0, 0, 0, 0.15);\n",
              "      filter: drop-shadow(0px 1px 2px rgba(0, 0, 0, 0.3));\n",
              "      fill: #FFFFFF;\n",
              "    }\n",
              "  </style>\n",
              "\n",
              "      <script>\n",
              "        const buttonEl =\n",
              "          document.querySelector('#df-80446526-14be-4164-9cf5-a0f180fba790 button.colab-df-convert');\n",
              "        buttonEl.style.display =\n",
              "          google.colab.kernel.accessAllowed ? 'block' : 'none';\n",
              "\n",
              "        async function convertToInteractive(key) {\n",
              "          const element = document.querySelector('#df-80446526-14be-4164-9cf5-a0f180fba790');\n",
              "          const dataTable =\n",
              "            await google.colab.kernel.invokeFunction('convertToInteractive',\n",
              "                                                     [key], {});\n",
              "          if (!dataTable) return;\n",
              "\n",
              "          const docLinkHtml = 'Like what you see? Visit the ' +\n",
              "            '<a target=\"_blank\" href=https://colab.research.google.com/notebooks/data_table.ipynb>data table notebook</a>'\n",
              "            + ' to learn more about interactive tables.';\n",
              "          element.innerHTML = '';\n",
              "          dataTable['output_type'] = 'display_data';\n",
              "          await google.colab.output.renderOutput(dataTable, element);\n",
              "          const docLink = document.createElement('div');\n",
              "          docLink.innerHTML = docLinkHtml;\n",
              "          element.appendChild(docLink);\n",
              "        }\n",
              "      </script>\n",
              "    </div>\n",
              "  </div>\n",
              "  "
            ]
          },
          "metadata": {},
          "execution_count": 40
        }
      ]
    },
    {
      "cell_type": "markdown",
      "source": [
        "Let's see the count of the data that we got"
      ],
      "metadata": {
        "id": "qqYM9ubsoGfC"
      }
    },
    {
      "cell_type": "code",
      "source": [
        "len(data_scraped10.index)"
      ],
      "metadata": {
        "colab": {
          "base_uri": "https://localhost:8080/"
        },
        "id": "srpZRdM5oDPO",
        "outputId": "76369ff4-9333-4ca6-c648-18136f2bd9a3"
      },
      "execution_count": 41,
      "outputs": [
        {
          "output_type": "execute_result",
          "data": {
            "text/plain": [
              "3349"
            ]
          },
          "metadata": {},
          "execution_count": 41
        }
      ]
    },
    {
      "cell_type": "markdown",
      "source": [
        "Code to download/import our data to our device"
      ],
      "metadata": {
        "id": "NiHOPhiboLcd"
      }
    },
    {
      "cell_type": "code",
      "source": [
        "data_scraped10.to_csv(\"COVID_Alert.csv\", index = False) #it's save the file as x csv."
      ],
      "metadata": {
        "id": "iy5p7lL2oWAK"
      },
      "execution_count": 42,
      "outputs": []
    },
    {
      "cell_type": "markdown",
      "source": [
        "# 11) COVID Symptom Study app"
      ],
      "metadata": {
        "id": "oz6L6LNPqqX-"
      }
    },
    {
      "cell_type": "code",
      "source": [
        "result11 = reviews_all(\n",
        "    'com.joinzoe.covid_zoe',\n",
        "    sleep_milliseconds=0,  # by defaults it's take 0\n",
        "    lang='en', # by defaluts it's take 'en'\n",
        "    country='us', # by defaluts it's take 'us'\n",
        "    sort = Sort.NEWEST, # by defaults to Sort.MOST_RELEVANT, you can usee Sort.Newest to get newst reviews first\n",
        ")"
      ],
      "metadata": {
        "id": "YKa-TSUnq3s7"
      },
      "execution_count": 43,
      "outputs": []
    },
    {
      "cell_type": "markdown",
      "source": [
        "Let's see the preview data"
      ],
      "metadata": {
        "id": "WNJZ9TNRrQly"
      }
    },
    {
      "cell_type": "code",
      "source": [
        "data_scraped11 = pd.DataFrame(np.array(result11),columns=['review'])\n",
        "data_scraped11 = data_scraped11.join(pd.DataFrame(data_scraped11.pop('review').tolist()))\n",
        "data_scraped11.head()"
      ],
      "metadata": {
        "colab": {
          "base_uri": "https://localhost:8080/",
          "height": 564
        },
        "id": "nveYJtrErP5k",
        "outputId": "671bc761-7c4c-4847-c92f-283db32952a3"
      },
      "execution_count": 44,
      "outputs": [
        {
          "output_type": "execute_result",
          "data": {
            "text/plain": [
              "                                            reviewId              userName  \\\n",
              "0  gp:AOqpTOFTBD8pCose7LtSHG7qDUt2ebEvCK8t1PYKxBH...         Doug Edworthy   \n",
              "1  gp:AOqpTOHqIcu9hKplt7_ixG8YUepEk5i-8Jqgsb9BWpy...         Ellie Merrett   \n",
              "2  gp:AOqpTOHJ7YyAVKxt59L-qXIjl8aD1CjjKaAngU4EZfL...         A Google user   \n",
              "3  gp:AOqpTOFdJUpZQcdRS92rcAgMaZxLj3hxEmfU6L2DCru...  Katharine Swingewood   \n",
              "4  gp:AOqpTOFyXIR4iWNwN70cFCPJJXneWxJQuzh9ordHIc_...            Mrs G Chew   \n",
              "\n",
              "                                           userImage  \\\n",
              "0  https://play-lh.googleusercontent.com/a/AATXAJ...   \n",
              "1  https://play-lh.googleusercontent.com/a-/AOh14...   \n",
              "2  https://play-lh.googleusercontent.com/EGemoI2N...   \n",
              "3  https://play-lh.googleusercontent.com/a/AATXAJ...   \n",
              "4  https://play-lh.googleusercontent.com/a/AATXAJ...   \n",
              "\n",
              "                                             content  score  thumbsUpCount  \\\n",
              "0  Easy to use, good to know I'm helping the figh...      5              0   \n",
              "1  I'm finding this app very helpful. It's not di...      5              0   \n",
              "2           Accurate, up to date, useful information      5              1   \n",
              "3                 Easy to use and really informative      5              0   \n",
              "4  This was often good as an app, but the efforts...      5              0   \n",
              "\n",
              "  reviewCreatedVersion                  at replyContent repliedAt  \n",
              "0                2.7.1 2022-04-10 13:30:19         None       NaT  \n",
              "1                2.7.1 2022-04-10 13:06:14         None       NaT  \n",
              "2                2.7.1 2022-04-10 09:50:26         None       NaT  \n",
              "3                2.7.1 2022-04-10 09:20:44         None       NaT  \n",
              "4                2.7.1 2022-04-10 08:45:33         None       NaT  "
            ],
            "text/html": [
              "\n",
              "  <div id=\"df-2a4f9fa9-5606-404a-8359-01ffe1384d93\">\n",
              "    <div class=\"colab-df-container\">\n",
              "      <div>\n",
              "<style scoped>\n",
              "    .dataframe tbody tr th:only-of-type {\n",
              "        vertical-align: middle;\n",
              "    }\n",
              "\n",
              "    .dataframe tbody tr th {\n",
              "        vertical-align: top;\n",
              "    }\n",
              "\n",
              "    .dataframe thead th {\n",
              "        text-align: right;\n",
              "    }\n",
              "</style>\n",
              "<table border=\"1\" class=\"dataframe\">\n",
              "  <thead>\n",
              "    <tr style=\"text-align: right;\">\n",
              "      <th></th>\n",
              "      <th>reviewId</th>\n",
              "      <th>userName</th>\n",
              "      <th>userImage</th>\n",
              "      <th>content</th>\n",
              "      <th>score</th>\n",
              "      <th>thumbsUpCount</th>\n",
              "      <th>reviewCreatedVersion</th>\n",
              "      <th>at</th>\n",
              "      <th>replyContent</th>\n",
              "      <th>repliedAt</th>\n",
              "    </tr>\n",
              "  </thead>\n",
              "  <tbody>\n",
              "    <tr>\n",
              "      <th>0</th>\n",
              "      <td>gp:AOqpTOFTBD8pCose7LtSHG7qDUt2ebEvCK8t1PYKxBH...</td>\n",
              "      <td>Doug Edworthy</td>\n",
              "      <td>https://play-lh.googleusercontent.com/a/AATXAJ...</td>\n",
              "      <td>Easy to use, good to know I'm helping the figh...</td>\n",
              "      <td>5</td>\n",
              "      <td>0</td>\n",
              "      <td>2.7.1</td>\n",
              "      <td>2022-04-10 13:30:19</td>\n",
              "      <td>None</td>\n",
              "      <td>NaT</td>\n",
              "    </tr>\n",
              "    <tr>\n",
              "      <th>1</th>\n",
              "      <td>gp:AOqpTOHqIcu9hKplt7_ixG8YUepEk5i-8Jqgsb9BWpy...</td>\n",
              "      <td>Ellie Merrett</td>\n",
              "      <td>https://play-lh.googleusercontent.com/a-/AOh14...</td>\n",
              "      <td>I'm finding this app very helpful. It's not di...</td>\n",
              "      <td>5</td>\n",
              "      <td>0</td>\n",
              "      <td>2.7.1</td>\n",
              "      <td>2022-04-10 13:06:14</td>\n",
              "      <td>None</td>\n",
              "      <td>NaT</td>\n",
              "    </tr>\n",
              "    <tr>\n",
              "      <th>2</th>\n",
              "      <td>gp:AOqpTOHJ7YyAVKxt59L-qXIjl8aD1CjjKaAngU4EZfL...</td>\n",
              "      <td>A Google user</td>\n",
              "      <td>https://play-lh.googleusercontent.com/EGemoI2N...</td>\n",
              "      <td>Accurate, up to date, useful information</td>\n",
              "      <td>5</td>\n",
              "      <td>1</td>\n",
              "      <td>2.7.1</td>\n",
              "      <td>2022-04-10 09:50:26</td>\n",
              "      <td>None</td>\n",
              "      <td>NaT</td>\n",
              "    </tr>\n",
              "    <tr>\n",
              "      <th>3</th>\n",
              "      <td>gp:AOqpTOFdJUpZQcdRS92rcAgMaZxLj3hxEmfU6L2DCru...</td>\n",
              "      <td>Katharine Swingewood</td>\n",
              "      <td>https://play-lh.googleusercontent.com/a/AATXAJ...</td>\n",
              "      <td>Easy to use and really informative</td>\n",
              "      <td>5</td>\n",
              "      <td>0</td>\n",
              "      <td>2.7.1</td>\n",
              "      <td>2022-04-10 09:20:44</td>\n",
              "      <td>None</td>\n",
              "      <td>NaT</td>\n",
              "    </tr>\n",
              "    <tr>\n",
              "      <th>4</th>\n",
              "      <td>gp:AOqpTOFyXIR4iWNwN70cFCPJJXneWxJQuzh9ordHIc_...</td>\n",
              "      <td>Mrs G Chew</td>\n",
              "      <td>https://play-lh.googleusercontent.com/a/AATXAJ...</td>\n",
              "      <td>This was often good as an app, but the efforts...</td>\n",
              "      <td>5</td>\n",
              "      <td>0</td>\n",
              "      <td>2.7.1</td>\n",
              "      <td>2022-04-10 08:45:33</td>\n",
              "      <td>None</td>\n",
              "      <td>NaT</td>\n",
              "    </tr>\n",
              "  </tbody>\n",
              "</table>\n",
              "</div>\n",
              "      <button class=\"colab-df-convert\" onclick=\"convertToInteractive('df-2a4f9fa9-5606-404a-8359-01ffe1384d93')\"\n",
              "              title=\"Convert this dataframe to an interactive table.\"\n",
              "              style=\"display:none;\">\n",
              "        \n",
              "  <svg xmlns=\"http://www.w3.org/2000/svg\" height=\"24px\"viewBox=\"0 0 24 24\"\n",
              "       width=\"24px\">\n",
              "    <path d=\"M0 0h24v24H0V0z\" fill=\"none\"/>\n",
              "    <path d=\"M18.56 5.44l.94 2.06.94-2.06 2.06-.94-2.06-.94-.94-2.06-.94 2.06-2.06.94zm-11 1L8.5 8.5l.94-2.06 2.06-.94-2.06-.94L8.5 2.5l-.94 2.06-2.06.94zm10 10l.94 2.06.94-2.06 2.06-.94-2.06-.94-.94-2.06-.94 2.06-2.06.94z\"/><path d=\"M17.41 7.96l-1.37-1.37c-.4-.4-.92-.59-1.43-.59-.52 0-1.04.2-1.43.59L10.3 9.45l-7.72 7.72c-.78.78-.78 2.05 0 2.83L4 21.41c.39.39.9.59 1.41.59.51 0 1.02-.2 1.41-.59l7.78-7.78 2.81-2.81c.8-.78.8-2.07 0-2.86zM5.41 20L4 18.59l7.72-7.72 1.47 1.35L5.41 20z\"/>\n",
              "  </svg>\n",
              "      </button>\n",
              "      \n",
              "  <style>\n",
              "    .colab-df-container {\n",
              "      display:flex;\n",
              "      flex-wrap:wrap;\n",
              "      gap: 12px;\n",
              "    }\n",
              "\n",
              "    .colab-df-convert {\n",
              "      background-color: #E8F0FE;\n",
              "      border: none;\n",
              "      border-radius: 50%;\n",
              "      cursor: pointer;\n",
              "      display: none;\n",
              "      fill: #1967D2;\n",
              "      height: 32px;\n",
              "      padding: 0 0 0 0;\n",
              "      width: 32px;\n",
              "    }\n",
              "\n",
              "    .colab-df-convert:hover {\n",
              "      background-color: #E2EBFA;\n",
              "      box-shadow: 0px 1px 2px rgba(60, 64, 67, 0.3), 0px 1px 3px 1px rgba(60, 64, 67, 0.15);\n",
              "      fill: #174EA6;\n",
              "    }\n",
              "\n",
              "    [theme=dark] .colab-df-convert {\n",
              "      background-color: #3B4455;\n",
              "      fill: #D2E3FC;\n",
              "    }\n",
              "\n",
              "    [theme=dark] .colab-df-convert:hover {\n",
              "      background-color: #434B5C;\n",
              "      box-shadow: 0px 1px 3px 1px rgba(0, 0, 0, 0.15);\n",
              "      filter: drop-shadow(0px 1px 2px rgba(0, 0, 0, 0.3));\n",
              "      fill: #FFFFFF;\n",
              "    }\n",
              "  </style>\n",
              "\n",
              "      <script>\n",
              "        const buttonEl =\n",
              "          document.querySelector('#df-2a4f9fa9-5606-404a-8359-01ffe1384d93 button.colab-df-convert');\n",
              "        buttonEl.style.display =\n",
              "          google.colab.kernel.accessAllowed ? 'block' : 'none';\n",
              "\n",
              "        async function convertToInteractive(key) {\n",
              "          const element = document.querySelector('#df-2a4f9fa9-5606-404a-8359-01ffe1384d93');\n",
              "          const dataTable =\n",
              "            await google.colab.kernel.invokeFunction('convertToInteractive',\n",
              "                                                     [key], {});\n",
              "          if (!dataTable) return;\n",
              "\n",
              "          const docLinkHtml = 'Like what you see? Visit the ' +\n",
              "            '<a target=\"_blank\" href=https://colab.research.google.com/notebooks/data_table.ipynb>data table notebook</a>'\n",
              "            + ' to learn more about interactive tables.';\n",
              "          element.innerHTML = '';\n",
              "          dataTable['output_type'] = 'display_data';\n",
              "          await google.colab.output.renderOutput(dataTable, element);\n",
              "          const docLink = document.createElement('div');\n",
              "          docLink.innerHTML = docLinkHtml;\n",
              "          element.appendChild(docLink);\n",
              "        }\n",
              "      </script>\n",
              "    </div>\n",
              "  </div>\n",
              "  "
            ]
          },
          "metadata": {},
          "execution_count": 44
        }
      ]
    },
    {
      "cell_type": "markdown",
      "source": [
        "Let's see the count of the data that we got"
      ],
      "metadata": {
        "id": "SRjb08L0rDBt"
      }
    },
    {
      "cell_type": "code",
      "source": [
        "len(data_scraped11.index)"
      ],
      "metadata": {
        "colab": {
          "base_uri": "https://localhost:8080/"
        },
        "id": "WnXIUcwxrEx0",
        "outputId": "b5e71756-113e-49df-e9de-e98746a28836"
      },
      "execution_count": 45,
      "outputs": [
        {
          "output_type": "execute_result",
          "data": {
            "text/plain": [
              "59505"
            ]
          },
          "metadata": {},
          "execution_count": 45
        }
      ]
    },
    {
      "cell_type": "markdown",
      "source": [
        "Code to download/import our data to our device"
      ],
      "metadata": {
        "id": "LZaX1Q6Lq8dK"
      }
    },
    {
      "cell_type": "code",
      "source": [
        "data_scraped11.to_csv(\"COVID_Symptom_Study.csv\", index = False) #it's save the file as x csv."
      ],
      "metadata": {
        "id": "5OKTO8Erq3dm"
      },
      "execution_count": 46,
      "outputs": []
    },
    {
      "cell_type": "markdown",
      "source": [
        "# 12) CMED Agent app"
      ],
      "metadata": {
        "id": "8hiVY20x_5ce"
      }
    },
    {
      "cell_type": "code",
      "source": [
        "result12 = reviews_all(\n",
        "    'bd.com.cmed.agent',\n",
        "    sleep_milliseconds=0,  # by defaults it's take 0\n",
        "    lang='en', # by defaluts it's take 'en'\n",
        "    country='us', # by defaluts it's take 'us'\n",
        "    sort = Sort.NEWEST, # by defaults to Sort.MOST_RELEVANT, you can usee Sort.Newest to get newst reviews first\n",
        ")"
      ],
      "metadata": {
        "id": "hBfGyRg3_-dT"
      },
      "execution_count": 47,
      "outputs": []
    },
    {
      "cell_type": "markdown",
      "source": [
        "Let's see the preview data"
      ],
      "metadata": {
        "id": "SAotVii5AC8-"
      }
    },
    {
      "cell_type": "code",
      "source": [
        "data_scraped12 = pd.DataFrame(np.array(result12),columns=['review'])\n",
        "data_scraped12 = data_scraped12.join(pd.DataFrame(data_scraped12.pop('review').tolist()))\n",
        "data_scraped12.head()"
      ],
      "metadata": {
        "colab": {
          "base_uri": "https://localhost:8080/",
          "height": 477
        },
        "id": "0XNRjtaRAECd",
        "outputId": "141073ad-ac6e-40bf-b22b-44f3155e9561"
      },
      "execution_count": 48,
      "outputs": [
        {
          "output_type": "execute_result",
          "data": {
            "text/plain": [
              "                                            reviewId           userName  \\\n",
              "0  gp:AOqpTOGyvBsLfmd6OxjJjwzdyNNDv_kFf685lnEgyxP...       tanvir yasin   \n",
              "1  gp:AOqpTOGX_ffJ4aB8t1zaDXYGzYyrtIjbCAB1UdiW_n0...     Sarafat Tushar   \n",
              "2  gp:AOqpTOHCkrZdWgtqN1SkuWte0kKse5UxcjUYVbGJ0fl...      Monir Hossain   \n",
              "3  gp:AOqpTOERssDgsS8OGXHxeqvTAwsYscQI3pVGpPTW-O-...  Shahadath Hossain   \n",
              "4  gp:AOqpTOEKfIWRpVf6fbz7RPcI37GQKPcpkF4BuuXDUl7...       Enamul Haque   \n",
              "\n",
              "                                           userImage  \\\n",
              "0  https://play-lh.googleusercontent.com/a/AATXAJ...   \n",
              "1  https://play-lh.googleusercontent.com/a-/AOh14...   \n",
              "2  https://play-lh.googleusercontent.com/a/AATXAJ...   \n",
              "3  https://play-lh.googleusercontent.com/a/AATXAJ...   \n",
              "4  https://play-lh.googleusercontent.com/a-/AOh14...   \n",
              "\n",
              "                                       content  score  thumbsUpCount  \\\n",
              "0  Excellent app for one stop health solutions      5              0   \n",
              "1                                         Good      5              0   \n",
              "2                                Very good app      5              0   \n",
              "3                                         Good      5              0   \n",
              "4                                  Awesome app      5              0   \n",
              "\n",
              "  reviewCreatedVersion                  at replyContent repliedAt  \n",
              "0                 None 2022-04-05 06:27:58         None      None  \n",
              "1   5.1.0.0-production 2021-10-25 04:42:57         None      None  \n",
              "2   3.2.0.0-production 2021-09-20 05:05:20         None      None  \n",
              "3   4.0.0.0-production 2021-08-27 16:51:49         None      None  \n",
              "4                 None 2021-05-31 05:24:47         None      None  "
            ],
            "text/html": [
              "\n",
              "  <div id=\"df-61153f36-b002-4075-a03b-9fbc2cc36ded\">\n",
              "    <div class=\"colab-df-container\">\n",
              "      <div>\n",
              "<style scoped>\n",
              "    .dataframe tbody tr th:only-of-type {\n",
              "        vertical-align: middle;\n",
              "    }\n",
              "\n",
              "    .dataframe tbody tr th {\n",
              "        vertical-align: top;\n",
              "    }\n",
              "\n",
              "    .dataframe thead th {\n",
              "        text-align: right;\n",
              "    }\n",
              "</style>\n",
              "<table border=\"1\" class=\"dataframe\">\n",
              "  <thead>\n",
              "    <tr style=\"text-align: right;\">\n",
              "      <th></th>\n",
              "      <th>reviewId</th>\n",
              "      <th>userName</th>\n",
              "      <th>userImage</th>\n",
              "      <th>content</th>\n",
              "      <th>score</th>\n",
              "      <th>thumbsUpCount</th>\n",
              "      <th>reviewCreatedVersion</th>\n",
              "      <th>at</th>\n",
              "      <th>replyContent</th>\n",
              "      <th>repliedAt</th>\n",
              "    </tr>\n",
              "  </thead>\n",
              "  <tbody>\n",
              "    <tr>\n",
              "      <th>0</th>\n",
              "      <td>gp:AOqpTOGyvBsLfmd6OxjJjwzdyNNDv_kFf685lnEgyxP...</td>\n",
              "      <td>tanvir yasin</td>\n",
              "      <td>https://play-lh.googleusercontent.com/a/AATXAJ...</td>\n",
              "      <td>Excellent app for one stop health solutions</td>\n",
              "      <td>5</td>\n",
              "      <td>0</td>\n",
              "      <td>None</td>\n",
              "      <td>2022-04-05 06:27:58</td>\n",
              "      <td>None</td>\n",
              "      <td>None</td>\n",
              "    </tr>\n",
              "    <tr>\n",
              "      <th>1</th>\n",
              "      <td>gp:AOqpTOGX_ffJ4aB8t1zaDXYGzYyrtIjbCAB1UdiW_n0...</td>\n",
              "      <td>Sarafat Tushar</td>\n",
              "      <td>https://play-lh.googleusercontent.com/a-/AOh14...</td>\n",
              "      <td>Good</td>\n",
              "      <td>5</td>\n",
              "      <td>0</td>\n",
              "      <td>5.1.0.0-production</td>\n",
              "      <td>2021-10-25 04:42:57</td>\n",
              "      <td>None</td>\n",
              "      <td>None</td>\n",
              "    </tr>\n",
              "    <tr>\n",
              "      <th>2</th>\n",
              "      <td>gp:AOqpTOHCkrZdWgtqN1SkuWte0kKse5UxcjUYVbGJ0fl...</td>\n",
              "      <td>Monir Hossain</td>\n",
              "      <td>https://play-lh.googleusercontent.com/a/AATXAJ...</td>\n",
              "      <td>Very good app</td>\n",
              "      <td>5</td>\n",
              "      <td>0</td>\n",
              "      <td>3.2.0.0-production</td>\n",
              "      <td>2021-09-20 05:05:20</td>\n",
              "      <td>None</td>\n",
              "      <td>None</td>\n",
              "    </tr>\n",
              "    <tr>\n",
              "      <th>3</th>\n",
              "      <td>gp:AOqpTOERssDgsS8OGXHxeqvTAwsYscQI3pVGpPTW-O-...</td>\n",
              "      <td>Shahadath Hossain</td>\n",
              "      <td>https://play-lh.googleusercontent.com/a/AATXAJ...</td>\n",
              "      <td>Good</td>\n",
              "      <td>5</td>\n",
              "      <td>0</td>\n",
              "      <td>4.0.0.0-production</td>\n",
              "      <td>2021-08-27 16:51:49</td>\n",
              "      <td>None</td>\n",
              "      <td>None</td>\n",
              "    </tr>\n",
              "    <tr>\n",
              "      <th>4</th>\n",
              "      <td>gp:AOqpTOEKfIWRpVf6fbz7RPcI37GQKPcpkF4BuuXDUl7...</td>\n",
              "      <td>Enamul Haque</td>\n",
              "      <td>https://play-lh.googleusercontent.com/a-/AOh14...</td>\n",
              "      <td>Awesome app</td>\n",
              "      <td>5</td>\n",
              "      <td>0</td>\n",
              "      <td>None</td>\n",
              "      <td>2021-05-31 05:24:47</td>\n",
              "      <td>None</td>\n",
              "      <td>None</td>\n",
              "    </tr>\n",
              "  </tbody>\n",
              "</table>\n",
              "</div>\n",
              "      <button class=\"colab-df-convert\" onclick=\"convertToInteractive('df-61153f36-b002-4075-a03b-9fbc2cc36ded')\"\n",
              "              title=\"Convert this dataframe to an interactive table.\"\n",
              "              style=\"display:none;\">\n",
              "        \n",
              "  <svg xmlns=\"http://www.w3.org/2000/svg\" height=\"24px\"viewBox=\"0 0 24 24\"\n",
              "       width=\"24px\">\n",
              "    <path d=\"M0 0h24v24H0V0z\" fill=\"none\"/>\n",
              "    <path d=\"M18.56 5.44l.94 2.06.94-2.06 2.06-.94-2.06-.94-.94-2.06-.94 2.06-2.06.94zm-11 1L8.5 8.5l.94-2.06 2.06-.94-2.06-.94L8.5 2.5l-.94 2.06-2.06.94zm10 10l.94 2.06.94-2.06 2.06-.94-2.06-.94-.94-2.06-.94 2.06-2.06.94z\"/><path d=\"M17.41 7.96l-1.37-1.37c-.4-.4-.92-.59-1.43-.59-.52 0-1.04.2-1.43.59L10.3 9.45l-7.72 7.72c-.78.78-.78 2.05 0 2.83L4 21.41c.39.39.9.59 1.41.59.51 0 1.02-.2 1.41-.59l7.78-7.78 2.81-2.81c.8-.78.8-2.07 0-2.86zM5.41 20L4 18.59l7.72-7.72 1.47 1.35L5.41 20z\"/>\n",
              "  </svg>\n",
              "      </button>\n",
              "      \n",
              "  <style>\n",
              "    .colab-df-container {\n",
              "      display:flex;\n",
              "      flex-wrap:wrap;\n",
              "      gap: 12px;\n",
              "    }\n",
              "\n",
              "    .colab-df-convert {\n",
              "      background-color: #E8F0FE;\n",
              "      border: none;\n",
              "      border-radius: 50%;\n",
              "      cursor: pointer;\n",
              "      display: none;\n",
              "      fill: #1967D2;\n",
              "      height: 32px;\n",
              "      padding: 0 0 0 0;\n",
              "      width: 32px;\n",
              "    }\n",
              "\n",
              "    .colab-df-convert:hover {\n",
              "      background-color: #E2EBFA;\n",
              "      box-shadow: 0px 1px 2px rgba(60, 64, 67, 0.3), 0px 1px 3px 1px rgba(60, 64, 67, 0.15);\n",
              "      fill: #174EA6;\n",
              "    }\n",
              "\n",
              "    [theme=dark] .colab-df-convert {\n",
              "      background-color: #3B4455;\n",
              "      fill: #D2E3FC;\n",
              "    }\n",
              "\n",
              "    [theme=dark] .colab-df-convert:hover {\n",
              "      background-color: #434B5C;\n",
              "      box-shadow: 0px 1px 3px 1px rgba(0, 0, 0, 0.15);\n",
              "      filter: drop-shadow(0px 1px 2px rgba(0, 0, 0, 0.3));\n",
              "      fill: #FFFFFF;\n",
              "    }\n",
              "  </style>\n",
              "\n",
              "      <script>\n",
              "        const buttonEl =\n",
              "          document.querySelector('#df-61153f36-b002-4075-a03b-9fbc2cc36ded button.colab-df-convert');\n",
              "        buttonEl.style.display =\n",
              "          google.colab.kernel.accessAllowed ? 'block' : 'none';\n",
              "\n",
              "        async function convertToInteractive(key) {\n",
              "          const element = document.querySelector('#df-61153f36-b002-4075-a03b-9fbc2cc36ded');\n",
              "          const dataTable =\n",
              "            await google.colab.kernel.invokeFunction('convertToInteractive',\n",
              "                                                     [key], {});\n",
              "          if (!dataTable) return;\n",
              "\n",
              "          const docLinkHtml = 'Like what you see? Visit the ' +\n",
              "            '<a target=\"_blank\" href=https://colab.research.google.com/notebooks/data_table.ipynb>data table notebook</a>'\n",
              "            + ' to learn more about interactive tables.';\n",
              "          element.innerHTML = '';\n",
              "          dataTable['output_type'] = 'display_data';\n",
              "          await google.colab.output.renderOutput(dataTable, element);\n",
              "          const docLink = document.createElement('div');\n",
              "          docLink.innerHTML = docLinkHtml;\n",
              "          element.appendChild(docLink);\n",
              "        }\n",
              "      </script>\n",
              "    </div>\n",
              "  </div>\n",
              "  "
            ]
          },
          "metadata": {},
          "execution_count": 48
        }
      ]
    },
    {
      "cell_type": "markdown",
      "source": [
        "Let's see the count of the data that we got"
      ],
      "metadata": {
        "id": "iku7lBTwAMjI"
      }
    },
    {
      "cell_type": "code",
      "source": [
        "len(data_scraped12.index)"
      ],
      "metadata": {
        "colab": {
          "base_uri": "https://localhost:8080/"
        },
        "id": "uOutG1L5AQUU",
        "outputId": "c6ecbf59-84bd-4640-d032-63860274fe4e"
      },
      "execution_count": 49,
      "outputs": [
        {
          "output_type": "execute_result",
          "data": {
            "text/plain": [
              "109"
            ]
          },
          "metadata": {},
          "execution_count": 49
        }
      ]
    },
    {
      "cell_type": "markdown",
      "source": [
        "Code to download/import our data to our device"
      ],
      "metadata": {
        "id": "mM84G76lASrT"
      }
    },
    {
      "cell_type": "code",
      "source": [
        "data_scraped12.to_csv(\"CMED_Agent.csv\", index = False) #it's save the file as x csv."
      ],
      "metadata": {
        "id": "QRXkvWb0AWd2"
      },
      "execution_count": 50,
      "outputs": []
    },
    {
      "cell_type": "markdown",
      "source": [
        "# 13) CoronaBD app"
      ],
      "metadata": {
        "id": "jekZs1X_AeOU"
      }
    },
    {
      "cell_type": "code",
      "source": [
        "result13 = reviews_all(\n",
        "    'com.bs.ccc',\n",
        "    sleep_milliseconds=0,  # by defaults it's take 0\n",
        "    lang='en', # by defaluts it's take 'en'\n",
        "    country='us', # by defaluts it's take 'us'\n",
        "    sort = Sort.NEWEST, # by defaults to Sort.MOST_RELEVANT, you can usee Sort.Newest to get newst reviews first\n",
        ")"
      ],
      "metadata": {
        "id": "Q2erRU_cAlO9"
      },
      "execution_count": 51,
      "outputs": []
    },
    {
      "cell_type": "markdown",
      "source": [
        "Let's see the preview data"
      ],
      "metadata": {
        "id": "52ltCUXKAuZC"
      }
    },
    {
      "cell_type": "code",
      "source": [
        "data_scraped13 = pd.DataFrame(np.array(result13),columns=['review'])\n",
        "data_scraped13 = data_scraped13.join(pd.DataFrame(data_scraped13.pop('review').tolist()))\n",
        "data_scraped13.head()"
      ],
      "metadata": {
        "colab": {
          "base_uri": "https://localhost:8080/",
          "height": 477
        },
        "id": "Z0oTv31wAyza",
        "outputId": "90697eb7-7c88-4835-cd20-344dd40fff0a"
      },
      "execution_count": 52,
      "outputs": [
        {
          "output_type": "execute_result",
          "data": {
            "text/plain": [
              "                                            reviewId  \\\n",
              "0  gp:AOqpTOEuPmzgWBkjs26p2RGE-WquD30ijb51ywqyK09...   \n",
              "1  gp:AOqpTOENkh-pA7qch2QYvqoLYNDFRmiLDubPyGRdn-0...   \n",
              "2  gp:AOqpTOH-QHj8mHTjKiempJ5Ff9RQUwbNsdP1o8Xk6Se...   \n",
              "3  gp:AOqpTOF6E9h2l1qil_6HQQqLhH4vemlArj_brv0MKca...   \n",
              "4  gp:AOqpTOF6LJ1ZApO1_pyGyQEU2fxPq8DUzbZ-S7rRoAX...   \n",
              "\n",
              "                          userName  \\\n",
              "0                      Romjan Khan   \n",
              "1                     md. Bipul nd   \n",
              "2  md monir mondol md monir mondol   \n",
              "3                       Masud Rana   \n",
              "4                   Mir. Akbar Ali   \n",
              "\n",
              "                                           userImage  \\\n",
              "0  https://play-lh.googleusercontent.com/a-/AOh14...   \n",
              "1  https://play-lh.googleusercontent.com/a-/AOh14...   \n",
              "2  https://play-lh.googleusercontent.com/a-/AOh14...   \n",
              "3  https://play-lh.googleusercontent.com/a/AATXAJ...   \n",
              "4  https://play-lh.googleusercontent.com/a-/AOh14...   \n",
              "\n",
              "                     content  score  thumbsUpCount reviewCreatedVersion  \\\n",
              "0                         আই      5              0                 None   \n",
              "1                       Good      5              0                1.4.3   \n",
              "2                       nice      5              0                 None   \n",
              "3  দেখলাম ১৯ ভ্যাসিন নিবন্ধন      5              0                 None   \n",
              "4                         Ok      5              0                 None   \n",
              "\n",
              "                   at replyContent repliedAt  \n",
              "0 2022-02-17 22:32:15         None       NaT  \n",
              "1 2022-01-15 11:35:01         None       NaT  \n",
              "2 2021-10-26 05:15:43         None       NaT  \n",
              "3 2021-10-12 14:22:31         None       NaT  \n",
              "4 2021-10-10 12:39:30         None       NaT  "
            ],
            "text/html": [
              "\n",
              "  <div id=\"df-9c3390c0-4aa9-4081-a00e-ade294fc4270\">\n",
              "    <div class=\"colab-df-container\">\n",
              "      <div>\n",
              "<style scoped>\n",
              "    .dataframe tbody tr th:only-of-type {\n",
              "        vertical-align: middle;\n",
              "    }\n",
              "\n",
              "    .dataframe tbody tr th {\n",
              "        vertical-align: top;\n",
              "    }\n",
              "\n",
              "    .dataframe thead th {\n",
              "        text-align: right;\n",
              "    }\n",
              "</style>\n",
              "<table border=\"1\" class=\"dataframe\">\n",
              "  <thead>\n",
              "    <tr style=\"text-align: right;\">\n",
              "      <th></th>\n",
              "      <th>reviewId</th>\n",
              "      <th>userName</th>\n",
              "      <th>userImage</th>\n",
              "      <th>content</th>\n",
              "      <th>score</th>\n",
              "      <th>thumbsUpCount</th>\n",
              "      <th>reviewCreatedVersion</th>\n",
              "      <th>at</th>\n",
              "      <th>replyContent</th>\n",
              "      <th>repliedAt</th>\n",
              "    </tr>\n",
              "  </thead>\n",
              "  <tbody>\n",
              "    <tr>\n",
              "      <th>0</th>\n",
              "      <td>gp:AOqpTOEuPmzgWBkjs26p2RGE-WquD30ijb51ywqyK09...</td>\n",
              "      <td>Romjan Khan</td>\n",
              "      <td>https://play-lh.googleusercontent.com/a-/AOh14...</td>\n",
              "      <td>আই</td>\n",
              "      <td>5</td>\n",
              "      <td>0</td>\n",
              "      <td>None</td>\n",
              "      <td>2022-02-17 22:32:15</td>\n",
              "      <td>None</td>\n",
              "      <td>NaT</td>\n",
              "    </tr>\n",
              "    <tr>\n",
              "      <th>1</th>\n",
              "      <td>gp:AOqpTOENkh-pA7qch2QYvqoLYNDFRmiLDubPyGRdn-0...</td>\n",
              "      <td>md. Bipul nd</td>\n",
              "      <td>https://play-lh.googleusercontent.com/a-/AOh14...</td>\n",
              "      <td>Good</td>\n",
              "      <td>5</td>\n",
              "      <td>0</td>\n",
              "      <td>1.4.3</td>\n",
              "      <td>2022-01-15 11:35:01</td>\n",
              "      <td>None</td>\n",
              "      <td>NaT</td>\n",
              "    </tr>\n",
              "    <tr>\n",
              "      <th>2</th>\n",
              "      <td>gp:AOqpTOH-QHj8mHTjKiempJ5Ff9RQUwbNsdP1o8Xk6Se...</td>\n",
              "      <td>md monir mondol md monir mondol</td>\n",
              "      <td>https://play-lh.googleusercontent.com/a-/AOh14...</td>\n",
              "      <td>nice</td>\n",
              "      <td>5</td>\n",
              "      <td>0</td>\n",
              "      <td>None</td>\n",
              "      <td>2021-10-26 05:15:43</td>\n",
              "      <td>None</td>\n",
              "      <td>NaT</td>\n",
              "    </tr>\n",
              "    <tr>\n",
              "      <th>3</th>\n",
              "      <td>gp:AOqpTOF6E9h2l1qil_6HQQqLhH4vemlArj_brv0MKca...</td>\n",
              "      <td>Masud Rana</td>\n",
              "      <td>https://play-lh.googleusercontent.com/a/AATXAJ...</td>\n",
              "      <td>দেখলাম ১৯ ভ্যাসিন নিবন্ধন</td>\n",
              "      <td>5</td>\n",
              "      <td>0</td>\n",
              "      <td>None</td>\n",
              "      <td>2021-10-12 14:22:31</td>\n",
              "      <td>None</td>\n",
              "      <td>NaT</td>\n",
              "    </tr>\n",
              "    <tr>\n",
              "      <th>4</th>\n",
              "      <td>gp:AOqpTOF6LJ1ZApO1_pyGyQEU2fxPq8DUzbZ-S7rRoAX...</td>\n",
              "      <td>Mir. Akbar Ali</td>\n",
              "      <td>https://play-lh.googleusercontent.com/a-/AOh14...</td>\n",
              "      <td>Ok</td>\n",
              "      <td>5</td>\n",
              "      <td>0</td>\n",
              "      <td>None</td>\n",
              "      <td>2021-10-10 12:39:30</td>\n",
              "      <td>None</td>\n",
              "      <td>NaT</td>\n",
              "    </tr>\n",
              "  </tbody>\n",
              "</table>\n",
              "</div>\n",
              "      <button class=\"colab-df-convert\" onclick=\"convertToInteractive('df-9c3390c0-4aa9-4081-a00e-ade294fc4270')\"\n",
              "              title=\"Convert this dataframe to an interactive table.\"\n",
              "              style=\"display:none;\">\n",
              "        \n",
              "  <svg xmlns=\"http://www.w3.org/2000/svg\" height=\"24px\"viewBox=\"0 0 24 24\"\n",
              "       width=\"24px\">\n",
              "    <path d=\"M0 0h24v24H0V0z\" fill=\"none\"/>\n",
              "    <path d=\"M18.56 5.44l.94 2.06.94-2.06 2.06-.94-2.06-.94-.94-2.06-.94 2.06-2.06.94zm-11 1L8.5 8.5l.94-2.06 2.06-.94-2.06-.94L8.5 2.5l-.94 2.06-2.06.94zm10 10l.94 2.06.94-2.06 2.06-.94-2.06-.94-.94-2.06-.94 2.06-2.06.94z\"/><path d=\"M17.41 7.96l-1.37-1.37c-.4-.4-.92-.59-1.43-.59-.52 0-1.04.2-1.43.59L10.3 9.45l-7.72 7.72c-.78.78-.78 2.05 0 2.83L4 21.41c.39.39.9.59 1.41.59.51 0 1.02-.2 1.41-.59l7.78-7.78 2.81-2.81c.8-.78.8-2.07 0-2.86zM5.41 20L4 18.59l7.72-7.72 1.47 1.35L5.41 20z\"/>\n",
              "  </svg>\n",
              "      </button>\n",
              "      \n",
              "  <style>\n",
              "    .colab-df-container {\n",
              "      display:flex;\n",
              "      flex-wrap:wrap;\n",
              "      gap: 12px;\n",
              "    }\n",
              "\n",
              "    .colab-df-convert {\n",
              "      background-color: #E8F0FE;\n",
              "      border: none;\n",
              "      border-radius: 50%;\n",
              "      cursor: pointer;\n",
              "      display: none;\n",
              "      fill: #1967D2;\n",
              "      height: 32px;\n",
              "      padding: 0 0 0 0;\n",
              "      width: 32px;\n",
              "    }\n",
              "\n",
              "    .colab-df-convert:hover {\n",
              "      background-color: #E2EBFA;\n",
              "      box-shadow: 0px 1px 2px rgba(60, 64, 67, 0.3), 0px 1px 3px 1px rgba(60, 64, 67, 0.15);\n",
              "      fill: #174EA6;\n",
              "    }\n",
              "\n",
              "    [theme=dark] .colab-df-convert {\n",
              "      background-color: #3B4455;\n",
              "      fill: #D2E3FC;\n",
              "    }\n",
              "\n",
              "    [theme=dark] .colab-df-convert:hover {\n",
              "      background-color: #434B5C;\n",
              "      box-shadow: 0px 1px 3px 1px rgba(0, 0, 0, 0.15);\n",
              "      filter: drop-shadow(0px 1px 2px rgba(0, 0, 0, 0.3));\n",
              "      fill: #FFFFFF;\n",
              "    }\n",
              "  </style>\n",
              "\n",
              "      <script>\n",
              "        const buttonEl =\n",
              "          document.querySelector('#df-9c3390c0-4aa9-4081-a00e-ade294fc4270 button.colab-df-convert');\n",
              "        buttonEl.style.display =\n",
              "          google.colab.kernel.accessAllowed ? 'block' : 'none';\n",
              "\n",
              "        async function convertToInteractive(key) {\n",
              "          const element = document.querySelector('#df-9c3390c0-4aa9-4081-a00e-ade294fc4270');\n",
              "          const dataTable =\n",
              "            await google.colab.kernel.invokeFunction('convertToInteractive',\n",
              "                                                     [key], {});\n",
              "          if (!dataTable) return;\n",
              "\n",
              "          const docLinkHtml = 'Like what you see? Visit the ' +\n",
              "            '<a target=\"_blank\" href=https://colab.research.google.com/notebooks/data_table.ipynb>data table notebook</a>'\n",
              "            + ' to learn more about interactive tables.';\n",
              "          element.innerHTML = '';\n",
              "          dataTable['output_type'] = 'display_data';\n",
              "          await google.colab.output.renderOutput(dataTable, element);\n",
              "          const docLink = document.createElement('div');\n",
              "          docLink.innerHTML = docLinkHtml;\n",
              "          element.appendChild(docLink);\n",
              "        }\n",
              "      </script>\n",
              "    </div>\n",
              "  </div>\n",
              "  "
            ]
          },
          "metadata": {},
          "execution_count": 52
        }
      ]
    },
    {
      "cell_type": "markdown",
      "source": [
        "Let's see the count of the data that we got"
      ],
      "metadata": {
        "id": "7rpBj1cRA2a8"
      }
    },
    {
      "cell_type": "code",
      "source": [
        "len(data_scraped13.index)"
      ],
      "metadata": {
        "colab": {
          "base_uri": "https://localhost:8080/"
        },
        "id": "EhIGV_ynA6bu",
        "outputId": "300d8d4d-131f-49e5-9700-ce770185de4d"
      },
      "execution_count": 53,
      "outputs": [
        {
          "output_type": "execute_result",
          "data": {
            "text/plain": [
              "957"
            ]
          },
          "metadata": {},
          "execution_count": 53
        }
      ]
    },
    {
      "cell_type": "markdown",
      "source": [
        "Code to download/import our data to our device"
      ],
      "metadata": {
        "id": "i7D3lFbCBA8Z"
      }
    },
    {
      "cell_type": "code",
      "source": [
        "data_scraped13.to_csv(\"CoronaBD.csv\", index = False) #it's save the file as x csv."
      ],
      "metadata": {
        "id": "FM9cI45_BF1T"
      },
      "execution_count": 54,
      "outputs": []
    },
    {
      "cell_type": "markdown",
      "source": [
        "# 14) Covid Free GR app"
      ],
      "metadata": {
        "id": "6rUcymCpAm8L"
      }
    },
    {
      "cell_type": "code",
      "source": [
        "result14 = reviews_all(\n",
        "    'gr.gov.dcc.mini',\n",
        "    sleep_milliseconds=0,  # by defaults it's take 0\n",
        "    lang='en', # by defaluts it's take 'en'\n",
        "    country='us', # by defaluts it's take 'us'\n",
        "    sort = Sort.NEWEST, # by defaults to Sort.MOST_RELEVANT, you can usee Sort.Newest to get newst reviews first\n",
        ")"
      ],
      "metadata": {
        "id": "hRx3HatyArKk"
      },
      "execution_count": 55,
      "outputs": []
    },
    {
      "cell_type": "markdown",
      "source": [
        "Let's see the preview data"
      ],
      "metadata": {
        "id": "55M67XscAvN6"
      }
    },
    {
      "cell_type": "code",
      "source": [
        "data_scraped14 = pd.DataFrame(np.array(result14),columns=['review'])\n",
        "data_scraped14 = data_scraped14.join(pd.DataFrame(data_scraped14.pop('review').tolist()))\n",
        "data_scraped14.head()"
      ],
      "metadata": {
        "colab": {
          "base_uri": "https://localhost:8080/",
          "height": 477
        },
        "id": "Et-jNJi9Azre",
        "outputId": "d3160082-32fb-441d-da1c-8f45c7d193c3"
      },
      "execution_count": 56,
      "outputs": [
        {
          "output_type": "execute_result",
          "data": {
            "text/plain": [
              "                                            reviewId           userName  \\\n",
              "0  gp:AOqpTOGwuP-ZXD9iBXouZCRcyaDTpUYOp5M24NAb8MD...          Shen Shih   \n",
              "1  gp:AOqpTOF7B5VGcFLbQHsiN2SqFpu0d4ucB1RbPGGbd87...          Marinos M   \n",
              "2  gp:AOqpTOEqPufZo44XBkguf_HcYXKQwRvB6JnNcNgJbbK...          Marios C.   \n",
              "3  gp:AOqpTOHJ5_hWNZ-5uS_GNJ4EUX8LeBE4LN2hAAQLoE6...  Antreas Stylianou   \n",
              "4  gp:AOqpTOEfjaz64IJ4hCKGslLMK8vF4gnmroH6rphpwWd...  Stella Seremetaki   \n",
              "\n",
              "                                           userImage  \\\n",
              "0  https://play-lh.googleusercontent.com/a/AATXAJ...   \n",
              "1  https://play-lh.googleusercontent.com/a-/AOh14...   \n",
              "2  https://play-lh.googleusercontent.com/a-/AOh14...   \n",
              "3  https://play-lh.googleusercontent.com/a-/AOh14...   \n",
              "4  https://play-lh.googleusercontent.com/a-/AOh14...   \n",
              "\n",
              "                                             content  score  thumbsUpCount  \\\n",
              "0                                           Disgrace      1              0   \n",
              "1                                 Μητσοτάκη Γαμ*****      1              0   \n",
              "2                                       Doesn't work      1              0   \n",
              "3  Φαίνεται πως παλιά προβλήματα που είχανε με πι...      3              0   \n",
              "4                                          Thank you      5              0   \n",
              "\n",
              "  reviewCreatedVersion                  at replyContent repliedAt  \n",
              "0                 None 2022-04-04 22:54:54         None      None  \n",
              "1                 None 2022-03-31 10:01:13         None      None  \n",
              "2                2.2.1 2022-03-24 11:24:22         None      None  \n",
              "3                2.2.1 2022-03-15 11:23:06         None      None  \n",
              "4                2.0.0 2022-03-14 11:21:05         None      None  "
            ],
            "text/html": [
              "\n",
              "  <div id=\"df-d497f8d5-a38e-4e6b-965d-78648a75a5e1\">\n",
              "    <div class=\"colab-df-container\">\n",
              "      <div>\n",
              "<style scoped>\n",
              "    .dataframe tbody tr th:only-of-type {\n",
              "        vertical-align: middle;\n",
              "    }\n",
              "\n",
              "    .dataframe tbody tr th {\n",
              "        vertical-align: top;\n",
              "    }\n",
              "\n",
              "    .dataframe thead th {\n",
              "        text-align: right;\n",
              "    }\n",
              "</style>\n",
              "<table border=\"1\" class=\"dataframe\">\n",
              "  <thead>\n",
              "    <tr style=\"text-align: right;\">\n",
              "      <th></th>\n",
              "      <th>reviewId</th>\n",
              "      <th>userName</th>\n",
              "      <th>userImage</th>\n",
              "      <th>content</th>\n",
              "      <th>score</th>\n",
              "      <th>thumbsUpCount</th>\n",
              "      <th>reviewCreatedVersion</th>\n",
              "      <th>at</th>\n",
              "      <th>replyContent</th>\n",
              "      <th>repliedAt</th>\n",
              "    </tr>\n",
              "  </thead>\n",
              "  <tbody>\n",
              "    <tr>\n",
              "      <th>0</th>\n",
              "      <td>gp:AOqpTOGwuP-ZXD9iBXouZCRcyaDTpUYOp5M24NAb8MD...</td>\n",
              "      <td>Shen Shih</td>\n",
              "      <td>https://play-lh.googleusercontent.com/a/AATXAJ...</td>\n",
              "      <td>Disgrace</td>\n",
              "      <td>1</td>\n",
              "      <td>0</td>\n",
              "      <td>None</td>\n",
              "      <td>2022-04-04 22:54:54</td>\n",
              "      <td>None</td>\n",
              "      <td>None</td>\n",
              "    </tr>\n",
              "    <tr>\n",
              "      <th>1</th>\n",
              "      <td>gp:AOqpTOF7B5VGcFLbQHsiN2SqFpu0d4ucB1RbPGGbd87...</td>\n",
              "      <td>Marinos M</td>\n",
              "      <td>https://play-lh.googleusercontent.com/a-/AOh14...</td>\n",
              "      <td>Μητσοτάκη Γαμ*****</td>\n",
              "      <td>1</td>\n",
              "      <td>0</td>\n",
              "      <td>None</td>\n",
              "      <td>2022-03-31 10:01:13</td>\n",
              "      <td>None</td>\n",
              "      <td>None</td>\n",
              "    </tr>\n",
              "    <tr>\n",
              "      <th>2</th>\n",
              "      <td>gp:AOqpTOEqPufZo44XBkguf_HcYXKQwRvB6JnNcNgJbbK...</td>\n",
              "      <td>Marios C.</td>\n",
              "      <td>https://play-lh.googleusercontent.com/a-/AOh14...</td>\n",
              "      <td>Doesn't work</td>\n",
              "      <td>1</td>\n",
              "      <td>0</td>\n",
              "      <td>2.2.1</td>\n",
              "      <td>2022-03-24 11:24:22</td>\n",
              "      <td>None</td>\n",
              "      <td>None</td>\n",
              "    </tr>\n",
              "    <tr>\n",
              "      <th>3</th>\n",
              "      <td>gp:AOqpTOHJ5_hWNZ-5uS_GNJ4EUX8LeBE4LN2hAAQLoE6...</td>\n",
              "      <td>Antreas Stylianou</td>\n",
              "      <td>https://play-lh.googleusercontent.com/a-/AOh14...</td>\n",
              "      <td>Φαίνεται πως παλιά προβλήματα που είχανε με πι...</td>\n",
              "      <td>3</td>\n",
              "      <td>0</td>\n",
              "      <td>2.2.1</td>\n",
              "      <td>2022-03-15 11:23:06</td>\n",
              "      <td>None</td>\n",
              "      <td>None</td>\n",
              "    </tr>\n",
              "    <tr>\n",
              "      <th>4</th>\n",
              "      <td>gp:AOqpTOEfjaz64IJ4hCKGslLMK8vF4gnmroH6rphpwWd...</td>\n",
              "      <td>Stella Seremetaki</td>\n",
              "      <td>https://play-lh.googleusercontent.com/a-/AOh14...</td>\n",
              "      <td>Thank you</td>\n",
              "      <td>5</td>\n",
              "      <td>0</td>\n",
              "      <td>2.0.0</td>\n",
              "      <td>2022-03-14 11:21:05</td>\n",
              "      <td>None</td>\n",
              "      <td>None</td>\n",
              "    </tr>\n",
              "  </tbody>\n",
              "</table>\n",
              "</div>\n",
              "      <button class=\"colab-df-convert\" onclick=\"convertToInteractive('df-d497f8d5-a38e-4e6b-965d-78648a75a5e1')\"\n",
              "              title=\"Convert this dataframe to an interactive table.\"\n",
              "              style=\"display:none;\">\n",
              "        \n",
              "  <svg xmlns=\"http://www.w3.org/2000/svg\" height=\"24px\"viewBox=\"0 0 24 24\"\n",
              "       width=\"24px\">\n",
              "    <path d=\"M0 0h24v24H0V0z\" fill=\"none\"/>\n",
              "    <path d=\"M18.56 5.44l.94 2.06.94-2.06 2.06-.94-2.06-.94-.94-2.06-.94 2.06-2.06.94zm-11 1L8.5 8.5l.94-2.06 2.06-.94-2.06-.94L8.5 2.5l-.94 2.06-2.06.94zm10 10l.94 2.06.94-2.06 2.06-.94-2.06-.94-.94-2.06-.94 2.06-2.06.94z\"/><path d=\"M17.41 7.96l-1.37-1.37c-.4-.4-.92-.59-1.43-.59-.52 0-1.04.2-1.43.59L10.3 9.45l-7.72 7.72c-.78.78-.78 2.05 0 2.83L4 21.41c.39.39.9.59 1.41.59.51 0 1.02-.2 1.41-.59l7.78-7.78 2.81-2.81c.8-.78.8-2.07 0-2.86zM5.41 20L4 18.59l7.72-7.72 1.47 1.35L5.41 20z\"/>\n",
              "  </svg>\n",
              "      </button>\n",
              "      \n",
              "  <style>\n",
              "    .colab-df-container {\n",
              "      display:flex;\n",
              "      flex-wrap:wrap;\n",
              "      gap: 12px;\n",
              "    }\n",
              "\n",
              "    .colab-df-convert {\n",
              "      background-color: #E8F0FE;\n",
              "      border: none;\n",
              "      border-radius: 50%;\n",
              "      cursor: pointer;\n",
              "      display: none;\n",
              "      fill: #1967D2;\n",
              "      height: 32px;\n",
              "      padding: 0 0 0 0;\n",
              "      width: 32px;\n",
              "    }\n",
              "\n",
              "    .colab-df-convert:hover {\n",
              "      background-color: #E2EBFA;\n",
              "      box-shadow: 0px 1px 2px rgba(60, 64, 67, 0.3), 0px 1px 3px 1px rgba(60, 64, 67, 0.15);\n",
              "      fill: #174EA6;\n",
              "    }\n",
              "\n",
              "    [theme=dark] .colab-df-convert {\n",
              "      background-color: #3B4455;\n",
              "      fill: #D2E3FC;\n",
              "    }\n",
              "\n",
              "    [theme=dark] .colab-df-convert:hover {\n",
              "      background-color: #434B5C;\n",
              "      box-shadow: 0px 1px 3px 1px rgba(0, 0, 0, 0.15);\n",
              "      filter: drop-shadow(0px 1px 2px rgba(0, 0, 0, 0.3));\n",
              "      fill: #FFFFFF;\n",
              "    }\n",
              "  </style>\n",
              "\n",
              "      <script>\n",
              "        const buttonEl =\n",
              "          document.querySelector('#df-d497f8d5-a38e-4e6b-965d-78648a75a5e1 button.colab-df-convert');\n",
              "        buttonEl.style.display =\n",
              "          google.colab.kernel.accessAllowed ? 'block' : 'none';\n",
              "\n",
              "        async function convertToInteractive(key) {\n",
              "          const element = document.querySelector('#df-d497f8d5-a38e-4e6b-965d-78648a75a5e1');\n",
              "          const dataTable =\n",
              "            await google.colab.kernel.invokeFunction('convertToInteractive',\n",
              "                                                     [key], {});\n",
              "          if (!dataTable) return;\n",
              "\n",
              "          const docLinkHtml = 'Like what you see? Visit the ' +\n",
              "            '<a target=\"_blank\" href=https://colab.research.google.com/notebooks/data_table.ipynb>data table notebook</a>'\n",
              "            + ' to learn more about interactive tables.';\n",
              "          element.innerHTML = '';\n",
              "          dataTable['output_type'] = 'display_data';\n",
              "          await google.colab.output.renderOutput(dataTable, element);\n",
              "          const docLink = document.createElement('div');\n",
              "          docLink.innerHTML = docLinkHtml;\n",
              "          element.appendChild(docLink);\n",
              "        }\n",
              "      </script>\n",
              "    </div>\n",
              "  </div>\n",
              "  "
            ]
          },
          "metadata": {},
          "execution_count": 56
        }
      ]
    },
    {
      "cell_type": "markdown",
      "source": [
        "Let's see the count of the data that we got"
      ],
      "metadata": {
        "id": "yOBiOWBtA37s"
      }
    },
    {
      "cell_type": "code",
      "source": [
        "len(data_scraped14.index)"
      ],
      "metadata": {
        "colab": {
          "base_uri": "https://localhost:8080/"
        },
        "id": "Itfmos21A7y2",
        "outputId": "a41dcbbd-e62a-4edd-a920-1882dd464a20"
      },
      "execution_count": 57,
      "outputs": [
        {
          "output_type": "execute_result",
          "data": {
            "text/plain": [
              "317"
            ]
          },
          "metadata": {},
          "execution_count": 57
        }
      ]
    },
    {
      "cell_type": "markdown",
      "source": [
        "Code to download/import our data to our device"
      ],
      "metadata": {
        "id": "F32NgjnPBCUb"
      }
    },
    {
      "cell_type": "code",
      "source": [
        "data_scraped14.to_csv(\"COVID_Free_GR.csv\", index = False) #it's save the file as x csv."
      ],
      "metadata": {
        "id": "NbRbQ8_uBHeh"
      },
      "execution_count": 58,
      "outputs": []
    },
    {
      "cell_type": "markdown",
      "source": [
        "# 15) Suc Khoe Viet Nam"
      ],
      "metadata": {
        "id": "ns8SZzdHZhOd"
      }
    },
    {
      "cell_type": "code",
      "source": [
        "result15 = reviews_all(\n",
        "    'vn.suckhoetoandan.v2',\n",
        "    sleep_milliseconds=0,  # by defaults it's take 0\n",
        "    lang='en', # by defaluts it's take 'en'\n",
        "    country='us', # by defaluts it's take 'us'\n",
        "    sort = Sort.NEWEST, # by defaults to Sort.MOST_RELEVANT, you can usee Sort.Newest to get newst reviews first\n",
        ")"
      ],
      "metadata": {
        "id": "eJPJ4hT2ZoLt"
      },
      "execution_count": 59,
      "outputs": []
    },
    {
      "cell_type": "markdown",
      "source": [
        "Let's see the preview data"
      ],
      "metadata": {
        "id": "hV1id422aY0E"
      }
    },
    {
      "cell_type": "code",
      "source": [
        "data_scraped15 = pd.DataFrame(np.array(result15),columns=['review'])\n",
        "data_scraped15 = data_scraped15.join(pd.DataFrame(data_scraped15.pop('review').tolist()))\n",
        "data_scraped15.head()"
      ],
      "metadata": {
        "colab": {
          "base_uri": "https://localhost:8080/",
          "height": 513
        },
        "id": "HStSvNSqacjj",
        "outputId": "3654f957-a022-4926-aa36-855e9247a8cb"
      },
      "execution_count": 60,
      "outputs": [
        {
          "output_type": "execute_result",
          "data": {
            "text/plain": [
              "                                            reviewId         userName  \\\n",
              "0  gp:AOqpTOEk0UtOISBgxocDqXGh_Gda1U3sEv8VYkUTQC_...             MO N   \n",
              "1  gp:AOqpTOHv-HcvVHQ9qVr4VdCCheapvhVCrGutnXzvdqc...         Khánh Đỗ   \n",
              "2  gp:AOqpTOFf6xdXt1LSUYzITw2jd6QY1uHPA83wkiLmdhq...  Tiep Nguyen Duc   \n",
              "3  gp:AOqpTOG2tzQkA355yE2AjVpLZq1W4bao-aKtOVEFWHy...       Hoàng Minh   \n",
              "4  gp:AOqpTOEawJxvTcBSgcuFwB0vMGuUaV5QSBNDUX7LxGF...       Quang vlog   \n",
              "\n",
              "                                           userImage  \\\n",
              "0  https://play-lh.googleusercontent.com/a-/AOh14...   \n",
              "1  https://play-lh.googleusercontent.com/a-/AOh14...   \n",
              "2  https://play-lh.googleusercontent.com/a-/AOh14...   \n",
              "3  https://play-lh.googleusercontent.com/a-/AOh14...   \n",
              "4  https://play-lh.googleusercontent.com/a-/AOh14...   \n",
              "\n",
              "                                             content  score  thumbsUpCount  \\\n",
              "0  Ứng dụng gì mà chán kinh,UI lỗi thời ,đăng ký ...      1              1   \n",
              "1                                               Good      5              0   \n",
              "2                          app lỗi rồi có xem đc đâu      1              0   \n",
              "3  outdated ui and complicated step make this app...      2              5   \n",
              "4                                                tot      5              0   \n",
              "\n",
              "  reviewCreatedVersion                  at replyContent repliedAt  \n",
              "0                1.0.5 2021-09-11 14:22:14         None      None  \n",
              "1                 None 2021-07-16 04:42:49         None      None  \n",
              "2                1.0.5 2020-04-29 21:10:51         None      None  \n",
              "3                 None 2020-04-25 05:08:57         None      None  \n",
              "4                1.0.1 2020-04-09 02:27:53         None      None  "
            ],
            "text/html": [
              "\n",
              "  <div id=\"df-e1343dc3-16aa-46ff-bfe7-d930ae91fbcc\">\n",
              "    <div class=\"colab-df-container\">\n",
              "      <div>\n",
              "<style scoped>\n",
              "    .dataframe tbody tr th:only-of-type {\n",
              "        vertical-align: middle;\n",
              "    }\n",
              "\n",
              "    .dataframe tbody tr th {\n",
              "        vertical-align: top;\n",
              "    }\n",
              "\n",
              "    .dataframe thead th {\n",
              "        text-align: right;\n",
              "    }\n",
              "</style>\n",
              "<table border=\"1\" class=\"dataframe\">\n",
              "  <thead>\n",
              "    <tr style=\"text-align: right;\">\n",
              "      <th></th>\n",
              "      <th>reviewId</th>\n",
              "      <th>userName</th>\n",
              "      <th>userImage</th>\n",
              "      <th>content</th>\n",
              "      <th>score</th>\n",
              "      <th>thumbsUpCount</th>\n",
              "      <th>reviewCreatedVersion</th>\n",
              "      <th>at</th>\n",
              "      <th>replyContent</th>\n",
              "      <th>repliedAt</th>\n",
              "    </tr>\n",
              "  </thead>\n",
              "  <tbody>\n",
              "    <tr>\n",
              "      <th>0</th>\n",
              "      <td>gp:AOqpTOEk0UtOISBgxocDqXGh_Gda1U3sEv8VYkUTQC_...</td>\n",
              "      <td>MO N</td>\n",
              "      <td>https://play-lh.googleusercontent.com/a-/AOh14...</td>\n",
              "      <td>Ứng dụng gì mà chán kinh,UI lỗi thời ,đăng ký ...</td>\n",
              "      <td>1</td>\n",
              "      <td>1</td>\n",
              "      <td>1.0.5</td>\n",
              "      <td>2021-09-11 14:22:14</td>\n",
              "      <td>None</td>\n",
              "      <td>None</td>\n",
              "    </tr>\n",
              "    <tr>\n",
              "      <th>1</th>\n",
              "      <td>gp:AOqpTOHv-HcvVHQ9qVr4VdCCheapvhVCrGutnXzvdqc...</td>\n",
              "      <td>Khánh Đỗ</td>\n",
              "      <td>https://play-lh.googleusercontent.com/a-/AOh14...</td>\n",
              "      <td>Good</td>\n",
              "      <td>5</td>\n",
              "      <td>0</td>\n",
              "      <td>None</td>\n",
              "      <td>2021-07-16 04:42:49</td>\n",
              "      <td>None</td>\n",
              "      <td>None</td>\n",
              "    </tr>\n",
              "    <tr>\n",
              "      <th>2</th>\n",
              "      <td>gp:AOqpTOFf6xdXt1LSUYzITw2jd6QY1uHPA83wkiLmdhq...</td>\n",
              "      <td>Tiep Nguyen Duc</td>\n",
              "      <td>https://play-lh.googleusercontent.com/a-/AOh14...</td>\n",
              "      <td>app lỗi rồi có xem đc đâu</td>\n",
              "      <td>1</td>\n",
              "      <td>0</td>\n",
              "      <td>1.0.5</td>\n",
              "      <td>2020-04-29 21:10:51</td>\n",
              "      <td>None</td>\n",
              "      <td>None</td>\n",
              "    </tr>\n",
              "    <tr>\n",
              "      <th>3</th>\n",
              "      <td>gp:AOqpTOG2tzQkA355yE2AjVpLZq1W4bao-aKtOVEFWHy...</td>\n",
              "      <td>Hoàng Minh</td>\n",
              "      <td>https://play-lh.googleusercontent.com/a-/AOh14...</td>\n",
              "      <td>outdated ui and complicated step make this app...</td>\n",
              "      <td>2</td>\n",
              "      <td>5</td>\n",
              "      <td>None</td>\n",
              "      <td>2020-04-25 05:08:57</td>\n",
              "      <td>None</td>\n",
              "      <td>None</td>\n",
              "    </tr>\n",
              "    <tr>\n",
              "      <th>4</th>\n",
              "      <td>gp:AOqpTOEawJxvTcBSgcuFwB0vMGuUaV5QSBNDUX7LxGF...</td>\n",
              "      <td>Quang vlog</td>\n",
              "      <td>https://play-lh.googleusercontent.com/a-/AOh14...</td>\n",
              "      <td>tot</td>\n",
              "      <td>5</td>\n",
              "      <td>0</td>\n",
              "      <td>1.0.1</td>\n",
              "      <td>2020-04-09 02:27:53</td>\n",
              "      <td>None</td>\n",
              "      <td>None</td>\n",
              "    </tr>\n",
              "  </tbody>\n",
              "</table>\n",
              "</div>\n",
              "      <button class=\"colab-df-convert\" onclick=\"convertToInteractive('df-e1343dc3-16aa-46ff-bfe7-d930ae91fbcc')\"\n",
              "              title=\"Convert this dataframe to an interactive table.\"\n",
              "              style=\"display:none;\">\n",
              "        \n",
              "  <svg xmlns=\"http://www.w3.org/2000/svg\" height=\"24px\"viewBox=\"0 0 24 24\"\n",
              "       width=\"24px\">\n",
              "    <path d=\"M0 0h24v24H0V0z\" fill=\"none\"/>\n",
              "    <path d=\"M18.56 5.44l.94 2.06.94-2.06 2.06-.94-2.06-.94-.94-2.06-.94 2.06-2.06.94zm-11 1L8.5 8.5l.94-2.06 2.06-.94-2.06-.94L8.5 2.5l-.94 2.06-2.06.94zm10 10l.94 2.06.94-2.06 2.06-.94-2.06-.94-.94-2.06-.94 2.06-2.06.94z\"/><path d=\"M17.41 7.96l-1.37-1.37c-.4-.4-.92-.59-1.43-.59-.52 0-1.04.2-1.43.59L10.3 9.45l-7.72 7.72c-.78.78-.78 2.05 0 2.83L4 21.41c.39.39.9.59 1.41.59.51 0 1.02-.2 1.41-.59l7.78-7.78 2.81-2.81c.8-.78.8-2.07 0-2.86zM5.41 20L4 18.59l7.72-7.72 1.47 1.35L5.41 20z\"/>\n",
              "  </svg>\n",
              "      </button>\n",
              "      \n",
              "  <style>\n",
              "    .colab-df-container {\n",
              "      display:flex;\n",
              "      flex-wrap:wrap;\n",
              "      gap: 12px;\n",
              "    }\n",
              "\n",
              "    .colab-df-convert {\n",
              "      background-color: #E8F0FE;\n",
              "      border: none;\n",
              "      border-radius: 50%;\n",
              "      cursor: pointer;\n",
              "      display: none;\n",
              "      fill: #1967D2;\n",
              "      height: 32px;\n",
              "      padding: 0 0 0 0;\n",
              "      width: 32px;\n",
              "    }\n",
              "\n",
              "    .colab-df-convert:hover {\n",
              "      background-color: #E2EBFA;\n",
              "      box-shadow: 0px 1px 2px rgba(60, 64, 67, 0.3), 0px 1px 3px 1px rgba(60, 64, 67, 0.15);\n",
              "      fill: #174EA6;\n",
              "    }\n",
              "\n",
              "    [theme=dark] .colab-df-convert {\n",
              "      background-color: #3B4455;\n",
              "      fill: #D2E3FC;\n",
              "    }\n",
              "\n",
              "    [theme=dark] .colab-df-convert:hover {\n",
              "      background-color: #434B5C;\n",
              "      box-shadow: 0px 1px 3px 1px rgba(0, 0, 0, 0.15);\n",
              "      filter: drop-shadow(0px 1px 2px rgba(0, 0, 0, 0.3));\n",
              "      fill: #FFFFFF;\n",
              "    }\n",
              "  </style>\n",
              "\n",
              "      <script>\n",
              "        const buttonEl =\n",
              "          document.querySelector('#df-e1343dc3-16aa-46ff-bfe7-d930ae91fbcc button.colab-df-convert');\n",
              "        buttonEl.style.display =\n",
              "          google.colab.kernel.accessAllowed ? 'block' : 'none';\n",
              "\n",
              "        async function convertToInteractive(key) {\n",
              "          const element = document.querySelector('#df-e1343dc3-16aa-46ff-bfe7-d930ae91fbcc');\n",
              "          const dataTable =\n",
              "            await google.colab.kernel.invokeFunction('convertToInteractive',\n",
              "                                                     [key], {});\n",
              "          if (!dataTable) return;\n",
              "\n",
              "          const docLinkHtml = 'Like what you see? Visit the ' +\n",
              "            '<a target=\"_blank\" href=https://colab.research.google.com/notebooks/data_table.ipynb>data table notebook</a>'\n",
              "            + ' to learn more about interactive tables.';\n",
              "          element.innerHTML = '';\n",
              "          dataTable['output_type'] = 'display_data';\n",
              "          await google.colab.output.renderOutput(dataTable, element);\n",
              "          const docLink = document.createElement('div');\n",
              "          docLink.innerHTML = docLinkHtml;\n",
              "          element.appendChild(docLink);\n",
              "        }\n",
              "      </script>\n",
              "    </div>\n",
              "  </div>\n",
              "  "
            ]
          },
          "metadata": {},
          "execution_count": 60
        }
      ]
    },
    {
      "cell_type": "markdown",
      "source": [
        "Let's see the count of the data that we got"
      ],
      "metadata": {
        "id": "fIuVIS_9ahWt"
      }
    },
    {
      "cell_type": "code",
      "source": [
        "len(data_scraped15.index)"
      ],
      "metadata": {
        "colab": {
          "base_uri": "https://localhost:8080/"
        },
        "id": "ddkMyrZxaksb",
        "outputId": "47205bb4-1cca-4f76-a159-33bca3ce9f83"
      },
      "execution_count": 61,
      "outputs": [
        {
          "output_type": "execute_result",
          "data": {
            "text/plain": [
              "101"
            ]
          },
          "metadata": {},
          "execution_count": 61
        }
      ]
    },
    {
      "cell_type": "markdown",
      "source": [
        "Code to download/import our data to our device"
      ],
      "metadata": {
        "id": "j3i7Gmk5aoVV"
      }
    },
    {
      "cell_type": "code",
      "source": [
        "data_scraped15.to_csv(\"Suc_Khoe_Viet_Nam.csv\", index = False) #it's save the file as x csv."
      ],
      "metadata": {
        "id": "al_0o2TLaq0Y"
      },
      "execution_count": 62,
      "outputs": []
    },
    {
      "cell_type": "code",
      "source": [
        ""
      ],
      "metadata": {
        "id": "gHbNW7gTa8Z9"
      },
      "execution_count": null,
      "outputs": []
    }
  ],
  "metadata": {
    "colab": {
      "name": "Covid_Review.ipynb",
      "provenance": [],
      "authorship_tag": "ABX9TyOhYOXiFxPhHPZ+Yse9/4UO",
      "include_colab_link": true
    },
    "kernelspec": {
      "display_name": "Python 3",
      "name": "python3"
    },
    "language_info": {
      "name": "python"
    }
  },
  "nbformat": 4,
  "nbformat_minor": 0
}