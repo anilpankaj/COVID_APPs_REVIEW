{
  "cells": [
    {
      "cell_type": "markdown",
      "metadata": {
        "id": "_yP9H8pi7rsu"
      },
      "source": [
        "Library Needed"
      ]
    },
    {
      "cell_type": "code",
      "execution_count": null,
      "metadata": {
        "id": "7TCMtxFw6Arv"
      },
      "outputs": [],
      "source": [
        "# Library needed\n",
        "- google-play-scraper\n",
        "- pandas\n",
        "- numpy"
      ]
    },
    {
      "cell_type": "code",
      "execution_count": 2,
      "metadata": {
        "colab": {
          "base_uri": "https://localhost:8080/"
        },
        "id": "MYTDro3Q6cXJ",
        "outputId": "9f49f47d-d04c-4656-d0cc-46ca0d145996"
      },
      "outputs": [
        {
          "name": "stdout",
          "output_type": "stream",
          "text": [
            "Collecting google-play-scraper"
          ]
        },
        {
          "name": "stderr",
          "output_type": "stream",
          "text": [
            "WARNING: You are using pip version 21.3.1; however, version 22.0.4 is available.\n",
            "You should consider upgrading via the 'C:\\Python310\\python.exe -m pip install --upgrade pip' command.\n"
          ]
        },
        {
          "name": "stdout",
          "output_type": "stream",
          "text": [
            "\n",
            "  Downloading google-play-scraper-1.0.3.tar.gz (52 kB)\n",
            "  Preparing metadata (setup.py): started\n",
            "  Preparing metadata (setup.py): finished with status 'done'\n",
            "Building wheels for collected packages: google-play-scraper\n",
            "  Building wheel for google-play-scraper (setup.py): started\n",
            "  Building wheel for google-play-scraper (setup.py): finished with status 'done'\n",
            "  Created wheel for google-play-scraper: filename=google_play_scraper-1.0.3-py3-none-any.whl size=24394 sha256=b80667b8d00f1a796d9dd2bfa2db47eb24869280387b48bb700aa829773756bd\n",
            "  Stored in directory: c:\\users\\dell\\appdata\\local\\pip\\cache\\wheels\\7e\\de\\44\\295661d04f9a40215336d39f03034b1e75c5b3ab61f98d673f\n",
            "Successfully built google-play-scraper\n",
            "Installing collected packages: google-play-scraper\n",
            "Successfully installed google-play-scraper-1.0.3\n"
          ]
        }
      ],
      "source": [
        "# first we need to install google-play-scraper\n",
        "!pip install google-play-scraper"
      ]
    },
    {
      "cell_type": "code",
      "execution_count": 3,
      "metadata": {
        "id": "7vZYM1Cq6sDZ"
      },
      "outputs": [],
      "source": [
        "from google_play_scraper import Sort, reviews_all, reviews, app\n",
        "import pandas as pd\n",
        "import numpy as np"
      ]
    },
    {
      "cell_type": "markdown",
      "metadata": {
        "id": "yklwqlSw8F2_"
      },
      "source": [
        "#Scraping Code"
      ]
    },
    {
      "cell_type": "markdown",
      "metadata": {
        "id": "MfmYucjI-abU"
      },
      "source": [
        "First scrape all reviews"
      ]
    },
    {
      "cell_type": "code",
      "execution_count": 4,
      "metadata": {
        "id": "ffiUNBlD8J9V"
      },
      "outputs": [],
      "source": [
        "result = reviews_all(\n",
        "    'au.gov.health.covidsafe',\n",
        "    sleep_milliseconds=0,  # by defaults it's take 0\n",
        "    lang='en', # by defaluts it's take 'en'\n",
        "    country='us', # by defaluts it's take 'us'\n",
        "    sort = Sort.NEWEST, # by defaults to Sort.MOST_RELEVANT, you can usee Sort.Newest to get newst reviews first\n",
        ")"
      ]
    },
    {
      "cell_type": "markdown",
      "metadata": {
        "id": "Pjfb1o0dAbSy"
      },
      "source": [
        "Let's see scrape desired count reviews"
      ]
    },
    {
      "cell_type": "code",
      "execution_count": 5,
      "metadata": {
        "id": "ABBIA0kAAg1o"
      },
      "outputs": [],
      "source": [
        "result, continuation_token = reviews(\n",
        "    'au.gov.health.covidsafe',\n",
        "    lang='en', # by defaluts it's take 'en'\n",
        "    country='us', # by defaluts it's take 'us'\n",
        "    sort = Sort.NEWEST, # by defaults to Sort.MOST_RELEVANT, you can usee Sort.Newest to get newst reviews first\n",
        "    count=500,  # by defaults it's take 100\n",
        "    filter_score_with=None # by defaults to None, you can replace None and use 1,2,3,4,or 5     \n",
        ")"
      ]
    },
    {
      "cell_type": "markdown",
      "metadata": {
        "id": "WYySwAak71c8"
      },
      "source": [
        "#Scraping Result"
      ]
    },
    {
      "cell_type": "markdown",
      "metadata": {
        "id": "29zPPmG0B_Uq"
      },
      "source": [
        "Let's see the preview data"
      ]
    },
    {
      "cell_type": "code",
      "execution_count": 6,
      "metadata": {
        "colab": {
          "base_uri": "https://localhost:8080/",
          "height": 443
        },
        "id": "7G-FqL9D8C7M",
        "outputId": "029e66de-4afd-4f92-f80b-ea72b26e8c66"
      },
      "outputs": [
        {
          "data": {
            "text/html": [
              "<div>\n",
              "<style scoped>\n",
              "    .dataframe tbody tr th:only-of-type {\n",
              "        vertical-align: middle;\n",
              "    }\n",
              "\n",
              "    .dataframe tbody tr th {\n",
              "        vertical-align: top;\n",
              "    }\n",
              "\n",
              "    .dataframe thead th {\n",
              "        text-align: right;\n",
              "    }\n",
              "</style>\n",
              "<table border=\"1\" class=\"dataframe\">\n",
              "  <thead>\n",
              "    <tr style=\"text-align: right;\">\n",
              "      <th></th>\n",
              "      <th>reviewId</th>\n",
              "      <th>userName</th>\n",
              "      <th>userImage</th>\n",
              "      <th>content</th>\n",
              "      <th>score</th>\n",
              "      <th>thumbsUpCount</th>\n",
              "      <th>reviewCreatedVersion</th>\n",
              "      <th>at</th>\n",
              "      <th>replyContent</th>\n",
              "      <th>repliedAt</th>\n",
              "    </tr>\n",
              "  </thead>\n",
              "  <tbody>\n",
              "    <tr>\n",
              "      <th>0</th>\n",
              "      <td>gp:AOqpTOGWFwyQqNwNmHPQH6iuKzKbAa055jCY103Auf3...</td>\n",
              "      <td>Keryn Baker</td>\n",
              "      <td>https://play-lh.googleusercontent.com/a-/AOh14...</td>\n",
              "      <td>Excellent 👍</td>\n",
              "      <td>5</td>\n",
              "      <td>0</td>\n",
              "      <td>2.9</td>\n",
              "      <td>2022-03-23 07:12:51</td>\n",
              "      <td>None</td>\n",
              "      <td>None</td>\n",
              "    </tr>\n",
              "    <tr>\n",
              "      <th>1</th>\n",
              "      <td>gp:AOqpTOHRgr6Kt9AeUbOYD6yuQZoeNfRJ2vZfB0Hx5jU...</td>\n",
              "      <td>David Mueller</td>\n",
              "      <td>https://play-lh.googleusercontent.com/a/AATXAJ...</td>\n",
              "      <td>M m. 3_</td>\n",
              "      <td>4</td>\n",
              "      <td>0</td>\n",
              "      <td>2.9</td>\n",
              "      <td>2022-03-23 03:24:19</td>\n",
              "      <td>None</td>\n",
              "      <td>None</td>\n",
              "    </tr>\n",
              "    <tr>\n",
              "      <th>2</th>\n",
              "      <td>gp:AOqpTOG9EjqqoOTka18LrzDuUoNLWg9YO1rWXZzjydW...</td>\n",
              "      <td>NB</td>\n",
              "      <td>https://play-lh.googleusercontent.com/a-/AOh14...</td>\n",
              "      <td>Can I delete it yet?</td>\n",
              "      <td>1</td>\n",
              "      <td>0</td>\n",
              "      <td>2.9</td>\n",
              "      <td>2022-03-22 12:58:41</td>\n",
              "      <td>None</td>\n",
              "      <td>None</td>\n",
              "    </tr>\n",
              "    <tr>\n",
              "      <th>3</th>\n",
              "      <td>gp:AOqpTOFZ5NnRu9LeiwSxskTHdEQkZuRUbU81fl7rf_h...</td>\n",
              "      <td>Vanessa McDonald</td>\n",
              "      <td>https://play-lh.googleusercontent.com/a/AATXAJ...</td>\n",
              "      <td>What a load of rubbish!</td>\n",
              "      <td>1</td>\n",
              "      <td>0</td>\n",
              "      <td>2.9</td>\n",
              "      <td>2022-03-22 03:20:47</td>\n",
              "      <td>None</td>\n",
              "      <td>None</td>\n",
              "    </tr>\n",
              "    <tr>\n",
              "      <th>4</th>\n",
              "      <td>gp:AOqpTOHhrQNeDYPe1NQ3LF2fd7TL5H83L_VbTQDIluU...</td>\n",
              "      <td>Godfrey Bbrown</td>\n",
              "      <td>https://play-lh.googleusercontent.com/a-/AOh14...</td>\n",
              "      <td>Enough already!</td>\n",
              "      <td>1</td>\n",
              "      <td>0</td>\n",
              "      <td>None</td>\n",
              "      <td>2022-03-21 22:59:38</td>\n",
              "      <td>None</td>\n",
              "      <td>None</td>\n",
              "    </tr>\n",
              "  </tbody>\n",
              "</table>\n",
              "</div>"
            ],
            "text/plain": [
              "                                            reviewId          userName  \\\n",
              "0  gp:AOqpTOGWFwyQqNwNmHPQH6iuKzKbAa055jCY103Auf3...       Keryn Baker   \n",
              "1  gp:AOqpTOHRgr6Kt9AeUbOYD6yuQZoeNfRJ2vZfB0Hx5jU...     David Mueller   \n",
              "2  gp:AOqpTOG9EjqqoOTka18LrzDuUoNLWg9YO1rWXZzjydW...                NB   \n",
              "3  gp:AOqpTOFZ5NnRu9LeiwSxskTHdEQkZuRUbU81fl7rf_h...  Vanessa McDonald   \n",
              "4  gp:AOqpTOHhrQNeDYPe1NQ3LF2fd7TL5H83L_VbTQDIluU...    Godfrey Bbrown   \n",
              "\n",
              "                                           userImage                  content  \\\n",
              "0  https://play-lh.googleusercontent.com/a-/AOh14...              Excellent 👍   \n",
              "1  https://play-lh.googleusercontent.com/a/AATXAJ...                  M m. 3_   \n",
              "2  https://play-lh.googleusercontent.com/a-/AOh14...     Can I delete it yet?   \n",
              "3  https://play-lh.googleusercontent.com/a/AATXAJ...  What a load of rubbish!   \n",
              "4  https://play-lh.googleusercontent.com/a-/AOh14...          Enough already!   \n",
              "\n",
              "   score  thumbsUpCount reviewCreatedVersion                  at replyContent  \\\n",
              "0      5              0                  2.9 2022-03-23 07:12:51         None   \n",
              "1      4              0                  2.9 2022-03-23 03:24:19         None   \n",
              "2      1              0                  2.9 2022-03-22 12:58:41         None   \n",
              "3      1              0                  2.9 2022-03-22 03:20:47         None   \n",
              "4      1              0                 None 2022-03-21 22:59:38         None   \n",
              "\n",
              "  repliedAt  \n",
              "0      None  \n",
              "1      None  \n",
              "2      None  \n",
              "3      None  \n",
              "4      None  "
            ]
          },
          "execution_count": 6,
          "metadata": {},
          "output_type": "execute_result"
        }
      ],
      "source": [
        "scrapeddata = pd.DataFrame(np.array(result),columns=['review'])\n",
        "scrapeddata = scrapeddata.join(pd.DataFrame(scrapeddata.pop('review').tolist()))\n",
        "scrapeddata.head()"
      ]
    },
    {
      "cell_type": "markdown",
      "metadata": {
        "id": "lmemLUVwDiiT"
      },
      "source": [
        "Let's see the count of the data that we got"
      ]
    },
    {
      "cell_type": "code",
      "execution_count": 7,
      "metadata": {
        "colab": {
          "base_uri": "https://localhost:8080/"
        },
        "id": "taoaRFAqDpCf",
        "outputId": "ca75cd43-532c-4025-f1cb-46393fb2f8dc"
      },
      "outputs": [
        {
          "data": {
            "text/plain": [
              "500"
            ]
          },
          "execution_count": 7,
          "metadata": {},
          "output_type": "execute_result"
        }
      ],
      "source": [
        "len(scrapeddata.index)"
      ]
    },
    {
      "cell_type": "markdown",
      "metadata": {
        "id": "eFucow6bEFR8"
      },
      "source": [
        "We can filter the scraped data"
      ]
    },
    {
      "cell_type": "code",
      "execution_count": 8,
      "metadata": {
        "colab": {
          "base_uri": "https://localhost:8080/",
          "height": 206
        },
        "id": "dy89juKdEKHT",
        "outputId": "1a55561c-2eaf-406e-abee-9cb3ca808a1e"
      },
      "outputs": [
        {
          "data": {
            "text/html": [
              "<div>\n",
              "<style scoped>\n",
              "    .dataframe tbody tr th:only-of-type {\n",
              "        vertical-align: middle;\n",
              "    }\n",
              "\n",
              "    .dataframe tbody tr th {\n",
              "        vertical-align: top;\n",
              "    }\n",
              "\n",
              "    .dataframe thead th {\n",
              "        text-align: right;\n",
              "    }\n",
              "</style>\n",
              "<table border=\"1\" class=\"dataframe\">\n",
              "  <thead>\n",
              "    <tr style=\"text-align: right;\">\n",
              "      <th></th>\n",
              "      <th>at</th>\n",
              "      <th>content</th>\n",
              "      <th>score</th>\n",
              "    </tr>\n",
              "  </thead>\n",
              "  <tbody>\n",
              "    <tr>\n",
              "      <th>0</th>\n",
              "      <td>2022-03-23 07:12:51</td>\n",
              "      <td>Excellent 👍</td>\n",
              "      <td>5</td>\n",
              "    </tr>\n",
              "    <tr>\n",
              "      <th>1</th>\n",
              "      <td>2022-03-23 03:24:19</td>\n",
              "      <td>M m. 3_</td>\n",
              "      <td>4</td>\n",
              "    </tr>\n",
              "    <tr>\n",
              "      <th>2</th>\n",
              "      <td>2022-03-22 12:58:41</td>\n",
              "      <td>Can I delete it yet?</td>\n",
              "      <td>1</td>\n",
              "    </tr>\n",
              "    <tr>\n",
              "      <th>3</th>\n",
              "      <td>2022-03-22 03:20:47</td>\n",
              "      <td>What a load of rubbish!</td>\n",
              "      <td>1</td>\n",
              "    </tr>\n",
              "    <tr>\n",
              "      <th>4</th>\n",
              "      <td>2022-03-21 22:59:38</td>\n",
              "      <td>Enough already!</td>\n",
              "      <td>1</td>\n",
              "    </tr>\n",
              "  </tbody>\n",
              "</table>\n",
              "</div>"
            ],
            "text/plain": [
              "                   at                  content  score\n",
              "0 2022-03-23 07:12:51              Excellent 👍      5\n",
              "1 2022-03-23 03:24:19                  M m. 3_      4\n",
              "2 2022-03-22 12:58:41     Can I delete it yet?      1\n",
              "3 2022-03-22 03:20:47  What a load of rubbish!      1\n",
              "4 2022-03-21 22:59:38          Enough already!      1"
            ]
          },
          "execution_count": 8,
          "metadata": {},
          "output_type": "execute_result"
        }
      ],
      "source": [
        "scrapeddata[{'content','score','at'}].head()"
      ]
    },
    {
      "cell_type": "markdown",
      "metadata": {
        "id": "8lCtWI0oEkPa"
      },
      "source": [
        "if you want to sort the data according to date"
      ]
    },
    {
      "cell_type": "code",
      "execution_count": 9,
      "metadata": {
        "colab": {
          "base_uri": "https://localhost:8080/",
          "height": 206
        },
        "id": "muNPvxleErQk",
        "outputId": "922b74e9-eae1-4053-be43-67ab681c7d22"
      },
      "outputs": [
        {
          "data": {
            "text/html": [
              "<div>\n",
              "<style scoped>\n",
              "    .dataframe tbody tr th:only-of-type {\n",
              "        vertical-align: middle;\n",
              "    }\n",
              "\n",
              "    .dataframe tbody tr th {\n",
              "        vertical-align: top;\n",
              "    }\n",
              "\n",
              "    .dataframe thead th {\n",
              "        text-align: right;\n",
              "    }\n",
              "</style>\n",
              "<table border=\"1\" class=\"dataframe\">\n",
              "  <thead>\n",
              "    <tr style=\"text-align: right;\">\n",
              "      <th></th>\n",
              "      <th>at</th>\n",
              "      <th>content</th>\n",
              "      <th>score</th>\n",
              "    </tr>\n",
              "  </thead>\n",
              "  <tbody>\n",
              "    <tr>\n",
              "      <th>0</th>\n",
              "      <td>2022-03-23 07:12:51</td>\n",
              "      <td>Excellent 👍</td>\n",
              "      <td>5</td>\n",
              "    </tr>\n",
              "    <tr>\n",
              "      <th>1</th>\n",
              "      <td>2022-03-23 03:24:19</td>\n",
              "      <td>M m. 3_</td>\n",
              "      <td>4</td>\n",
              "    </tr>\n",
              "    <tr>\n",
              "      <th>2</th>\n",
              "      <td>2022-03-22 12:58:41</td>\n",
              "      <td>Can I delete it yet?</td>\n",
              "      <td>1</td>\n",
              "    </tr>\n",
              "    <tr>\n",
              "      <th>3</th>\n",
              "      <td>2022-03-22 03:20:47</td>\n",
              "      <td>What a load of rubbish!</td>\n",
              "      <td>1</td>\n",
              "    </tr>\n",
              "    <tr>\n",
              "      <th>4</th>\n",
              "      <td>2022-03-21 22:59:38</td>\n",
              "      <td>Enough already!</td>\n",
              "      <td>1</td>\n",
              "    </tr>\n",
              "  </tbody>\n",
              "</table>\n",
              "</div>"
            ],
            "text/plain": [
              "                   at                  content  score\n",
              "0 2022-03-23 07:12:51              Excellent 👍      5\n",
              "1 2022-03-23 03:24:19                  M m. 3_      4\n",
              "2 2022-03-22 12:58:41     Can I delete it yet?      1\n",
              "3 2022-03-22 03:20:47  What a load of rubbish!      1\n",
              "4 2022-03-21 22:59:38          Enough already!      1"
            ]
          },
          "execution_count": 9,
          "metadata": {},
          "output_type": "execute_result"
        }
      ],
      "source": [
        "scrapeddata1 = scrapeddata[{'content','score','at'}]\n",
        "sorteddata = scrapeddata1.sort_values(by='at', ascending=False) #it's sort by Newest, chage to True if you want to sort by Oldest.\n",
        "sorteddata.head()"
      ]
    },
    {
      "cell_type": "markdown",
      "metadata": {
        "id": "uvbI7Off74oh"
      },
      "source": [
        "Code to download/import our data to our device"
      ]
    },
    {
      "cell_type": "code",
      "execution_count": null,
      "metadata": {
        "id": "nEMuSwec8B31"
      },
      "outputs": [],
      "source": [
        "#sorteddata.to_excel(\"COVIDSafe.xlsx\", index = False) #it's save the file as xlsx."
      ]
    },
    {
      "cell_type": "code",
      "execution_count": 17,
      "metadata": {
        "id": "CXF43y7aGLPQ"
      },
      "outputs": [],
      "source": [
        "#sorteddata.to_csv(\"COVIDSafe.csv\", index = False) #it's save the file as x csv."
      ]
    }
  ],
  "metadata": {
    "colab": {
      "name": "Covid_Review.ipynb",
      "provenance": []
    },
    "kernelspec": {
      "display_name": "Python 3",
      "name": "python3"
    },
    "language_info": {
      "codemirror_mode": {
        "name": "ipython",
        "version": 3
      },
      "file_extension": ".py",
      "mimetype": "text/x-python",
      "name": "python",
      "nbconvert_exporter": "python",
      "pygments_lexer": "ipython3",
      "version": "3.10.0"
    }
  },
  "nbformat": 4,
  "nbformat_minor": 0
}
